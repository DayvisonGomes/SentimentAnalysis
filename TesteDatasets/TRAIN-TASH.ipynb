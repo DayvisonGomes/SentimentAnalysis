{
 "cells": [
  {
   "cell_type": "code",
   "execution_count": 1,
   "metadata": {},
   "outputs": [
    {
     "name": "stderr",
     "output_type": "stream",
     "text": [
      "[nltk_data] Downloading package stopwords to\n",
      "[nltk_data]     C:\\Users\\ddayv\\AppData\\Roaming\\nltk_data...\n",
      "[nltk_data]   Package stopwords is already up-to-date!\n",
      "[nltk_data] Downloading package wordnet to\n",
      "[nltk_data]     C:\\Users\\ddayv\\AppData\\Roaming\\nltk_data...\n",
      "[nltk_data]   Package wordnet is already up-to-date!\n"
     ]
    },
    {
     "data": {
      "text/plain": [
       "True"
      ]
     },
     "execution_count": 1,
     "metadata": {},
     "output_type": "execute_result"
    }
   ],
   "source": [
    "import pandas as pd\n",
    "import numpy as np\n",
    "from sklearn.feature_extraction.text import CountVectorizer\n",
    "from sklearn.feature_extraction.text import TfidfTransformer\n",
    "from sklearn.naive_bayes import MultinomialNB\n",
    "from sklearn.model_selection import train_test_split\n",
    "from sklearn.metrics import classification_report\n",
    "import seaborn as sns\n",
    "import re\n",
    "import random as rd\n",
    "import tensorflow as tf\n",
    "from tensorflow.keras.layers.experimental.preprocessing import TextVectorization\n",
    "from nltk import word_tokenize, RegexpTokenizer\n",
    "from nltk.corpus import stopwords, wordnet\n",
    "from sklearn.preprocessing import OneHotEncoder\n",
    "import matplotlib.pyplot as plt\n",
    "import autokeras as ak\n",
    "from sklearn.model_selection import KFold\n",
    "\n",
    "import nltk\n",
    "from sklearn.svm import SVC\n",
    "from sklearn.linear_model import LogisticRegression\n",
    "nltk.download('stopwords')\n",
    "nltk.download('wordnet')"
   ]
  },
  {
   "cell_type": "code",
   "execution_count": 2,
   "metadata": {},
   "outputs": [],
   "source": [
    "def Tokenize(f):     ## Pre-processando a frase\n",
    "\n",
    "    ## Colocando em minusculo\n",
    "    ## Retirando a pontuaçao\n",
    "    ## Retirando as StopWords\n",
    "    \n",
    "    f = f.lower().replace('\\n', '').replace('-','').replace('#','').replace('.','').replace(',','').replace('!','').replace('r\\n','').replace('  ','').replace('https','').replace('rt','').replace('rn','')\n",
    "    token = RegexpTokenizer(r\"\\w+\")\n",
    "    f = token.tokenize(f)\n",
    "    \n",
    "    stop_words = set(stopwords.words('portuguese'))\n",
    "    \n",
    "    new_word = [word for word in f if not word in stop_words]\n",
    "    \n",
    "    return ' '.join(new_word)\n",
    "\n",
    "def remove_user(frase):\n",
    "    frase = re.sub('@\\w+','',frase)\n",
    "    frase = re.sub('{https}[^ ]+','',frase)\n",
    "    frase = re.sub('https\\w+','',frase)\n",
    "    # re.sub('#\\w+','',frase)\n",
    "    return frase\n",
    "\n",
    "def pre_X(frases):\n",
    "    lista = []\n",
    "    \n",
    "    for frase in frases:\n",
    "        lista.append(frase)\n",
    "        \n",
    "    return lista\n",
    "\n",
    "def pre_Y(number):\n",
    "    lista = []\n",
    "    \n",
    "    for numb in number:\n",
    "        lista.append(numb)\n",
    "    \n",
    "    return lista\n",
    "\n",
    "def set_array(frases):\n",
    "    \n",
    "    vocab = []\n",
    "    palavras = []\n",
    "    for frase in frases:\n",
    "        \n",
    "        text_array = remove_user(frase)\n",
    "        text_array = Tokenize(text_array)\n",
    "        text_array = text_array.split(' ')\n",
    "        for i in range(len(text_array)):\n",
    "            vocab.append(text_array[i])\n",
    "    \n",
    "    \n",
    "        \n",
    "    return vocab\n"
   ]
  },
  {
   "cell_type": "markdown",
   "metadata": {},
   "source": [
    "## TWEETSENT"
   ]
  },
  {
   "cell_type": "code",
   "execution_count": 84,
   "metadata": {},
   "outputs": [
    {
     "data": {
      "text/html": [
       "<div>\n",
       "<style scoped>\n",
       "    .dataframe tbody tr th:only-of-type {\n",
       "        vertical-align: middle;\n",
       "    }\n",
       "\n",
       "    .dataframe tbody tr th {\n",
       "        vertical-align: top;\n",
       "    }\n",
       "\n",
       "    .dataframe thead th {\n",
       "        text-align: right;\n",
       "    }\n",
       "</style>\n",
       "<table border=\"1\" class=\"dataframe\">\n",
       "  <thead>\n",
       "    <tr style=\"text-align: right;\">\n",
       "      <th></th>\n",
       "      <th>id</th>\n",
       "      <th>id_twitter</th>\n",
       "      <th>text</th>\n",
       "      <th>sentiment</th>\n",
       "    </tr>\n",
       "  </thead>\n",
       "  <tbody>\n",
       "    <tr>\n",
       "      <th>0</th>\n",
       "      <td>1343</td>\n",
       "      <td>863044774588272640</td>\n",
       "      <td>Que coisa linda! O Programa #encontro estava m...</td>\n",
       "      <td>1</td>\n",
       "    </tr>\n",
       "    <tr>\n",
       "      <th>1</th>\n",
       "      <td>1344</td>\n",
       "      <td>865583716088766467</td>\n",
       "      <td>Por mais #Encontro com as Irmãs Galvão, adorei...</td>\n",
       "      <td>1</td>\n",
       "    </tr>\n",
       "    <tr>\n",
       "      <th>2</th>\n",
       "      <td>1345</td>\n",
       "      <td>865063232201011201</td>\n",
       "      <td>Mr. CATRA @OficialMrCatra lançando sua nova mú...</td>\n",
       "      <td>1</td>\n",
       "    </tr>\n",
       "    <tr>\n",
       "      <th>3</th>\n",
       "      <td>1346</td>\n",
       "      <td>864668391008763905</td>\n",
       "      <td>quem viu aquela lutadora modela barbuda tatuad...</td>\n",
       "      <td>0</td>\n",
       "    </tr>\n",
       "    <tr>\n",
       "      <th>4</th>\n",
       "      <td>1347</td>\n",
       "      <td>865572794016378882</td>\n",
       "      <td>Tô passada com esse cara.... quanta merda pode...</td>\n",
       "      <td>-1</td>\n",
       "    </tr>\n",
       "    <tr>\n",
       "      <th>...</th>\n",
       "      <td>...</td>\n",
       "      <td>...</td>\n",
       "      <td>...</td>\n",
       "      <td>...</td>\n",
       "    </tr>\n",
       "    <tr>\n",
       "      <th>11565</th>\n",
       "      <td>12908</td>\n",
       "      <td>864636619000877056</td>\n",
       "      <td>eu ja to aqui pronto pro #MasterChefBR mas ain...</td>\n",
       "      <td>-1</td>\n",
       "    </tr>\n",
       "    <tr>\n",
       "      <th>11566</th>\n",
       "      <td>12909</td>\n",
       "      <td>863581588713603072</td>\n",
       "      <td>MALUCO! Uma coisa que eu não tenho coragem é e...</td>\n",
       "      <td>-1</td>\n",
       "    </tr>\n",
       "    <tr>\n",
       "      <th>11567</th>\n",
       "      <td>12910</td>\n",
       "      <td>864831041349054464</td>\n",
       "      <td>#MaisVoce @ANAMARIABRAGA  está linda @RedeGlobo</td>\n",
       "      <td>1</td>\n",
       "    </tr>\n",
       "    <tr>\n",
       "      <th>11568</th>\n",
       "      <td>12911</td>\n",
       "      <td>863042798575951872</td>\n",
       "      <td>Que orgulho de ti, @sportrecife! #Encontro</td>\n",
       "      <td>1</td>\n",
       "    </tr>\n",
       "    <tr>\n",
       "      <th>11569</th>\n",
       "      <td>12912</td>\n",
       "      <td>864681041541386240</td>\n",
       "      <td>Gente olha o bíceps desse padre #ConversaComBial</td>\n",
       "      <td>1</td>\n",
       "    </tr>\n",
       "  </tbody>\n",
       "</table>\n",
       "<p>11570 rows × 4 columns</p>\n",
       "</div>"
      ],
      "text/plain": [
       "          id          id_twitter  \\\n",
       "0       1343  863044774588272640   \n",
       "1       1344  865583716088766467   \n",
       "2       1345  865063232201011201   \n",
       "3       1346  864668391008763905   \n",
       "4       1347  865572794016378882   \n",
       "...      ...                 ...   \n",
       "11565  12908  864636619000877056   \n",
       "11566  12909  863581588713603072   \n",
       "11567  12910  864831041349054464   \n",
       "11568  12911  863042798575951872   \n",
       "11569  12912  864681041541386240   \n",
       "\n",
       "                                                    text sentiment  \n",
       "0      Que coisa linda! O Programa #encontro estava m...         1  \n",
       "1      Por mais #Encontro com as Irmãs Galvão, adorei...         1  \n",
       "2      Mr. CATRA @OficialMrCatra lançando sua nova mú...         1  \n",
       "3      quem viu aquela lutadora modela barbuda tatuad...         0  \n",
       "4      Tô passada com esse cara.... quanta merda pode...        -1  \n",
       "...                                                  ...       ...  \n",
       "11565  eu ja to aqui pronto pro #MasterChefBR mas ain...        -1  \n",
       "11566  MALUCO! Uma coisa que eu não tenho coragem é e...        -1  \n",
       "11567    #MaisVoce @ANAMARIABRAGA  está linda @RedeGlobo         1  \n",
       "11568         Que orgulho de ti, @sportrecife! #Encontro         1  \n",
       "11569   Gente olha o bíceps desse padre #ConversaComBial         1  \n",
       "\n",
       "[11570 rows x 4 columns]"
      ]
     },
     "execution_count": 84,
     "metadata": {},
     "output_type": "execute_result"
    }
   ],
   "source": [
    "df_tweet= pd.read_csv('export_TweetSentBR.csv')\n",
    "df_tweet"
   ]
  },
  {
   "cell_type": "code",
   "execution_count": 85,
   "metadata": {},
   "outputs": [],
   "source": [
    "df_remove = df_tweet[df_tweet['sentiment'] == '-']\n",
    "df_tweet = df_tweet.drop(df_remove.index)\n",
    "\n",
    "df_tweet['text'] = df_tweet['text'].apply(remove_user)\n",
    "df_tweet['text'] = df_tweet['text'].apply(Tokenize)"
   ]
  },
  {
   "cell_type": "code",
   "execution_count": 86,
   "metadata": {},
   "outputs": [],
   "source": [
    "df_tweet['sentiment'] = df_tweet['sentiment'].apply(lambda x: int(x))"
   ]
  },
  {
   "cell_type": "code",
   "execution_count": 87,
   "metadata": {},
   "outputs": [],
   "source": [
    "text_Tweetsent = df_tweet['text']\n",
    "polarity = np.asarray(df_tweet['sentiment'])"
   ]
  },
  {
   "cell_type": "code",
   "execution_count": 88,
   "metadata": {},
   "outputs": [
    {
     "data": {
      "text/plain": [
       "(11533, 25852)"
      ]
     },
     "execution_count": 88,
     "metadata": {},
     "output_type": "execute_result"
    }
   ],
   "source": [
    "X_text = count_vect.transform(text_Tweetsent)\n",
    "\n",
    "X_text_transform = tfidf_transformer.transform(X_text) # Aplicando o TF-IDF\n",
    "X_text_transform.shape"
   ]
  },
  {
   "cell_type": "code",
   "execution_count": 89,
   "metadata": {},
   "outputs": [],
   "source": [
    "X_train1, X_test_TWEET, Y_train1, Y_test_TWEET = train_test_split(X_text_transform, polarity, test_size=0.3)"
   ]
  },
  {
   "cell_type": "code",
   "execution_count": 90,
   "metadata": {},
   "outputs": [],
   "source": [
    "X_train12, X_test_TWEET1, Y_train12, Y_test_TWEET1 = train_test_split(df_tweet['text'], df_tweet['sentiment'] , test_size=0.3)"
   ]
  },
  {
   "cell_type": "markdown",
   "metadata": {},
   "source": [
    "## TASH"
   ]
  },
  {
   "cell_type": "code",
   "execution_count": 91,
   "metadata": {},
   "outputs": [],
   "source": [
    "df1 = pd.read_csv(\"tash-pt.csv\")\n",
    "df1 = df1.dropna()\n",
    "df1 = df1.drop(columns=['id_twitter'])\n"
   ]
  },
  {
   "cell_type": "code",
   "execution_count": 92,
   "metadata": {},
   "outputs": [],
   "source": [
    "df1['text'] = df1['text'].apply(remove_user)\n",
    "df1['text'] = df1['text'].apply(Tokenize)"
   ]
  },
  {
   "cell_type": "code",
   "execution_count": 93,
   "metadata": {},
   "outputs": [
    {
     "data": {
      "text/plain": [
       "(2787, 25852)"
      ]
     },
     "execution_count": 93,
     "metadata": {},
     "output_type": "execute_result"
    }
   ],
   "source": [
    "text_TASH = df1['text']\n",
    "sentiment = np.asarray(df1['sentiment'])\n",
    "\n",
    "X_text_TASH = count_vect.transform(text_TASH)\n",
    "X_text_TASH_ = tfidf_transformer.transform(X_text_TASH) # Aplicando o TF-IDF\n",
    "X_text_TASH_.shape"
   ]
  },
  {
   "cell_type": "code",
   "execution_count": 94,
   "metadata": {},
   "outputs": [],
   "source": [
    "X_train2, X_test_TASH, Y_train2, Y_test_TASH = train_test_split(X_text_TASH_, sentiment, test_size=0.3)"
   ]
  },
  {
   "cell_type": "code",
   "execution_count": 95,
   "metadata": {},
   "outputs": [],
   "source": [
    "X_train21, X_test_TASH21, Y_train21, Y_test_TASH21 = train_test_split(df1['text'], np.asarray(df1['sentiment']), test_size=0.3)"
   ]
  },
  {
   "cell_type": "markdown",
   "metadata": {},
   "source": [
    "## KANSOAN"
   ]
  },
  {
   "cell_type": "code",
   "execution_count": 96,
   "metadata": {},
   "outputs": [],
   "source": [
    "df = pd.read_csv(\"data.txt\", sep=',', header=None, names=['text','sentiment'])\n",
    "\n",
    "df_remove = df[df['sentiment'] == '#Inveja'].index\n",
    "df = df.drop(df_remove)\n",
    "\n",
    "df_remove = df[df['sentiment'] == '#Raiva'].index\n",
    "df = df.drop(df_remove)\n",
    "\n",
    "df_remove = df[df['sentiment'] == '#Ironia'].index\n",
    "df = df.drop(df_remove)\n",
    "\n",
    "\n",
    "def binario(termo):\n",
    "    if termo == '#Feliz' or termo == '#Amor':\n",
    "        return 1\n",
    "    elif termo == '#Triste' or termo == '#Chateado':\n",
    "        return 0       \n",
    "    \n",
    "df['sentiment'] = df['sentiment'].apply(binario)"
   ]
  },
  {
   "cell_type": "code",
   "execution_count": 97,
   "metadata": {},
   "outputs": [],
   "source": [
    "df['text'] = df['text'].apply(remove_user)\n",
    "df['text'] = df['text'].apply(Tokenize)"
   ]
  },
  {
   "cell_type": "code",
   "execution_count": 98,
   "metadata": {},
   "outputs": [
    {
     "data": {
      "text/plain": [
       "(9224, 25852)"
      ]
     },
     "execution_count": 98,
     "metadata": {},
     "output_type": "execute_result"
    }
   ],
   "source": [
    "text_KANSOAN = df['text']\n",
    "sentiment = np.asarray(df['sentiment'])\n",
    "\n",
    "X_text_KANSOAN = count_vect.transform(text_KANSOAN)\n",
    "X_text_KANSOAN_ = tfidf_transformer.transform(X_text_KANSOAN) # Aplicando o TF-IDF\n",
    "X_text_KANSOAN_.shape"
   ]
  },
  {
   "cell_type": "code",
   "execution_count": 99,
   "metadata": {},
   "outputs": [],
   "source": [
    "X_train3, X_test_KANSOAN, Y_train3, Y_test_KANSOAN = train_test_split(X_text_KANSOAN_, sentiment, test_size=0.3)"
   ]
  },
  {
   "cell_type": "code",
   "execution_count": 100,
   "metadata": {},
   "outputs": [],
   "source": [
    "X_train31, X_test_KANSOAN1, Y_train31, Y_test_KANSOAN1 = train_test_split(df['text'], np.asarray(df['sentiment']), test_size=0.3)"
   ]
  },
  {
   "cell_type": "markdown",
   "metadata": {},
   "source": [
    "## TEST"
   ]
  },
  {
   "cell_type": "code",
   "execution_count": 76,
   "metadata": {},
   "outputs": [
    {
     "data": {
      "text/plain": [
       "(12670, 2)"
      ]
     },
     "execution_count": 76,
     "metadata": {},
     "output_type": "execute_result"
    }
   ],
   "source": [
    "df = pd.read_excel('./rotulação/TweetsPolitical01 OK OK.xlsx')\n",
    "df2 = pd.read_excel('./rotulação/TweetsPolitical02 OK OK.xlsx')\n",
    "df3 = pd.read_excel('./rotulação/TweetsPolitical03 OK OK.xlsx')\n",
    "df4 = pd.read_excel('./rotulação/TweetsPolitical04 OK OK.xlsx')\n",
    "df5 = pd.read_excel('./rotulação/TweetsPolitical05 OK OK.xlsx')\n",
    "df6 = pd.read_excel('./rotulação/TweetsPolitical06 OK OK.xlsx')\n",
    "df7 = pd.read_excel('./rotulação/TweetsPolitical07 OK OK.xlsx')\n",
    "df8 = pd.read_excel('./rotulação/TweetsPolitical08 OK OK.xlsx')\n",
    "df9 = pd.read_excel('./rotulação/TweetsPolitical09 OK OK.xlsx')\n",
    "df10 = pd.read_excel('./rotulação/TweetsPolitical10 OK OK.xlsx')\n",
    "df11 = pd.read_excel('./rotulação/TweetsPolitical11 OK OK.xlsx')\n",
    "df12 = pd.read_excel('./rotulação/TweetsPolitical12 OK OK.xlsx')\n",
    "df13 = pd.read_excel('./rotulação/TweetsPolitical13 OK OK.xlsx')\n",
    "df14 = pd.read_excel('./rotulação/TweetsPolitical14 OK OK.xlsx')\n",
    "df15 = pd.read_excel('./rotulação/TweetsPolitical15 OK OK.xlsx')\n",
    "\n",
    "lista = [df,df2,df3,df4,df5,df6,df7,df8,df9,df10,df11,df12,df13,df14,df15]\n",
    "\n",
    "df_all = pd.concat(lista)\n",
    "df_all.shape"
   ]
  },
  {
   "cell_type": "code",
   "execution_count": 77,
   "metadata": {},
   "outputs": [],
   "source": [
    "df_all = df_all.dropna()"
   ]
  },
  {
   "cell_type": "code",
   "execution_count": 78,
   "metadata": {},
   "outputs": [
    {
     "data": {
      "text/plain": [
       "array([ 0.,  1., -1.])"
      ]
     },
     "execution_count": 78,
     "metadata": {},
     "output_type": "execute_result"
    }
   ],
   "source": [
    "df_all.drop(df_all[df_all['Polaridade'] == 11].index, inplace=True)\n",
    "df_all.drop(df_all[df_all['Polaridade'] == -2].index, inplace=True)\n",
    "df_all.drop(df_all[df_all['Polaridade'] == 10].index, inplace=True)\n",
    "\n",
    "df_all['Polaridade'].unique()"
   ]
  },
  {
   "cell_type": "code",
   "execution_count": 79,
   "metadata": {},
   "outputs": [
    {
     "data": {
      "text/html": [
       "<div>\n",
       "<style scoped>\n",
       "    .dataframe tbody tr th:only-of-type {\n",
       "        vertical-align: middle;\n",
       "    }\n",
       "\n",
       "    .dataframe tbody tr th {\n",
       "        vertical-align: top;\n",
       "    }\n",
       "\n",
       "    .dataframe thead th {\n",
       "        text-align: right;\n",
       "    }\n",
       "</style>\n",
       "<table border=\"1\" class=\"dataframe\">\n",
       "  <thead>\n",
       "    <tr style=\"text-align: right;\">\n",
       "      <th></th>\n",
       "      <th>Tweet</th>\n",
       "      <th>Polaridade</th>\n",
       "    </tr>\n",
       "  </thead>\n",
       "  <tbody>\n",
       "    <tr>\n",
       "      <th>0</th>\n",
       "      <td>- #CaoNossoDeCadaDia #Novo - Vanessa Mandotti ...</td>\n",
       "      <td>0.0</td>\n",
       "    </tr>\n",
       "    <tr>\n",
       "      <th>1</th>\n",
       "      <td>- Bola pra frente que amanhã é outro dia, outr...</td>\n",
       "      <td>1.0</td>\n",
       "    </tr>\n",
       "    <tr>\n",
       "      <th>2</th>\n",
       "      <td>- Cara de mal? Acho que não... Apenas um corte...</td>\n",
       "      <td>1.0</td>\n",
       "    </tr>\n",
       "    <tr>\n",
       "      <th>3</th>\n",
       "      <td>\" #PCdoB O PARTIDO QUE FAZ A DIFERENÇA: LEAL E...</td>\n",
       "      <td>1.0</td>\n",
       "    </tr>\n",
       "    <tr>\n",
       "      <th>4</th>\n",
       "      <td>\"@camaradamae: #PCdoB o Partido da coragem !  ...</td>\n",
       "      <td>1.0</td>\n",
       "    </tr>\n",
       "  </tbody>\n",
       "</table>\n",
       "</div>"
      ],
      "text/plain": [
       "                                               Tweet  Polaridade\n",
       "0  - #CaoNossoDeCadaDia #Novo - Vanessa Mandotti ...         0.0\n",
       "1  - Bola pra frente que amanhã é outro dia, outr...         1.0\n",
       "2  - Cara de mal? Acho que não... Apenas um corte...         1.0\n",
       "3  \" #PCdoB O PARTIDO QUE FAZ A DIFERENÇA: LEAL E...         1.0\n",
       "4  \"@camaradamae: #PCdoB o Partido da coragem !  ...         1.0"
      ]
     },
     "execution_count": 79,
     "metadata": {},
     "output_type": "execute_result"
    }
   ],
   "source": [
    "df_all.head()"
   ]
  },
  {
   "cell_type": "code",
   "execution_count": 80,
   "metadata": {},
   "outputs": [],
   "source": [
    "df_all['Tweet'] = df_all['Tweet'].apply(remove_user)\n",
    "df_all['Tweet'] = df_all['Tweet'].apply(Tokenize)\n",
    "polarity = np.asarray(df_all['Polaridade'])\n",
    "Tweet = df_all['Tweet']\n"
   ]
  },
  {
   "cell_type": "code",
   "execution_count": 81,
   "metadata": {},
   "outputs": [
    {
     "data": {
      "text/plain": [
       "(12626, 25852)"
      ]
     },
     "execution_count": 81,
     "metadata": {},
     "output_type": "execute_result"
    }
   ],
   "source": [
    "count_vect = CountVectorizer()\n",
    "\n",
    "Tweet = count_vect.fit_transform(Tweet)\n",
    "\n",
    "tfidf_transformer = TfidfTransformer()\n",
    "X_train_transform = tfidf_transformer.fit_transform(Tweet) # Aplicando o TF-IDF\n",
    "X_train_transform.shape"
   ]
  },
  {
   "cell_type": "code",
   "execution_count": 82,
   "metadata": {},
   "outputs": [],
   "source": [
    "X_train, X_test, Y_train, Y_test = train_test_split(X_train_transform, polarity, test_size=0.3)\n",
    "\n"
   ]
  },
  {
   "cell_type": "code",
   "execution_count": 83,
   "metadata": {},
   "outputs": [],
   "source": [
    "X_train_text, X_test_text, Y_train_text, Y_test_text = train_test_split(df_all['Tweet'] , df_all['Polaridade'], test_size=0.3)\n"
   ]
  },
  {
   "cell_type": "markdown",
   "metadata": {},
   "source": [
    "## NB - TRAIN -> TASH- TEST -> UNILEX"
   ]
  },
  {
   "cell_type": "code",
   "execution_count": 101,
   "metadata": {},
   "outputs": [
    {
     "name": "stdout",
     "output_type": "stream",
     "text": [
      "              precision    recall  f1-score   support\n",
      "\n",
      "        -1.0       0.46      0.22      0.30      1261\n",
      "         0.0       0.41      0.77      0.54      1436\n",
      "         1.0       0.47      0.20      0.28      1091\n",
      "\n",
      "    accuracy                           0.43      3788\n",
      "   macro avg       0.45      0.40      0.37      3788\n",
      "weighted avg       0.44      0.43      0.39      3788\n",
      "\n"
     ]
    }
   ],
   "source": [
    "clf = MultinomialNB()\n",
    "clf.fit(X_train2, Y_train2)\n",
    "y_pred = clf.predict(X_test)\n",
    "\n",
    "print(classification_report(Y_test,y_pred))"
   ]
  },
  {
   "cell_type": "markdown",
   "metadata": {},
   "source": [
    "## NB - TRAIN -> TASH - TEST -> TWEET"
   ]
  },
  {
   "cell_type": "code",
   "execution_count": 102,
   "metadata": {},
   "outputs": [
    {
     "name": "stdout",
     "output_type": "stream",
     "text": [
      "              precision    recall  f1-score   support\n",
      "\n",
      "          -1       0.47      0.31      0.38       267\n",
      "           0       0.39      0.61      0.48       300\n",
      "           1       0.44      0.30      0.36       270\n",
      "\n",
      "    accuracy                           0.42       837\n",
      "   macro avg       0.43      0.41      0.40       837\n",
      "weighted avg       0.43      0.42      0.41       837\n",
      "\n"
     ]
    }
   ],
   "source": [
    "clf = MultinomialNB()\n",
    "clf.fit(X_train2, Y_train2)\n",
    "y_pred = clf.predict(X_test_TASH)\n",
    "\n",
    "print(classification_report(Y_test_TASH,y_pred))"
   ]
  },
  {
   "cell_type": "markdown",
   "metadata": {},
   "source": [
    "## NB - TRAIN -> TASH - TEST -> KANSOAN"
   ]
  },
  {
   "cell_type": "code",
   "execution_count": 103,
   "metadata": {},
   "outputs": [],
   "source": [
    "def func(num):\n",
    "    if num == 0:\n",
    "        return -1\n",
    "    else:\n",
    "        return 1\n",
    "\n",
    "sentiment = df['sentiment'].apply(func)\n",
    "X_train3, X_test_KANSOAN, Y_train3, Y_test_KANSOAN = train_test_split(X_text_KANSOAN_, sentiment, test_size=0.3)"
   ]
  },
  {
   "cell_type": "code",
   "execution_count": 104,
   "metadata": {},
   "outputs": [
    {
     "name": "stdout",
     "output_type": "stream",
     "text": [
      "              precision    recall  f1-score   support\n",
      "\n",
      "          -1       0.94      0.56      0.70      1371\n",
      "           0       0.00      1.00      0.00         0\n",
      "           1       0.84      0.73      0.78      1397\n",
      "\n",
      "    accuracy                           0.65      2768\n",
      "   macro avg       0.59      0.76      0.50      2768\n",
      "weighted avg       0.89      0.65      0.74      2768\n",
      "\n"
     ]
    }
   ],
   "source": [
    "clf = MultinomialNB()\n",
    "clf.fit(X_train2, Y_train2)\n",
    "y_pred = clf.predict(X_test_KANSOAN)\n",
    "\n",
    "print(classification_report(Y_test_KANSOAN,y_pred, zero_division=True))"
   ]
  },
  {
   "cell_type": "markdown",
   "metadata": {},
   "source": [
    "## SVM - TRAIN->TASH - TEST->UNILEX"
   ]
  },
  {
   "cell_type": "code",
   "execution_count": 105,
   "metadata": {},
   "outputs": [
    {
     "name": "stdout",
     "output_type": "stream",
     "text": [
      "              precision    recall  f1-score   support\n",
      "\n",
      "        -1.0       0.49      0.06      0.11      1261\n",
      "         0.0       0.39      0.96      0.56      1436\n",
      "         1.0       0.68      0.07      0.13      1091\n",
      "\n",
      "    accuracy                           0.40      3788\n",
      "   macro avg       0.52      0.36      0.27      3788\n",
      "weighted avg       0.51      0.40      0.28      3788\n",
      "\n"
     ]
    }
   ],
   "source": [
    "clf = SVC().fit(X_train2, Y_train2) \n",
    "y_pred = clf.predict(X_test)\n",
    "\n",
    "print(classification_report(Y_test,y_pred))"
   ]
  },
  {
   "cell_type": "markdown",
   "metadata": {},
   "source": [
    "## SVM T TASH T TWEET"
   ]
  },
  {
   "cell_type": "code",
   "execution_count": 106,
   "metadata": {},
   "outputs": [
    {
     "name": "stdout",
     "output_type": "stream",
     "text": [
      "              precision    recall  f1-score   support\n",
      "\n",
      "          -1       0.50      0.23      0.32      1039\n",
      "           0       0.28      0.77      0.41       847\n",
      "           1       0.69      0.27      0.39      1574\n",
      "\n",
      "    accuracy                           0.38      3460\n",
      "   macro avg       0.49      0.42      0.37      3460\n",
      "weighted avg       0.53      0.38      0.37      3460\n",
      "\n"
     ]
    }
   ],
   "source": [
    "clf = SVC().fit(X_train2, Y_train2) \n",
    "y_pred = clf.predict(X_test_TWEET)\n",
    "\n",
    "print(classification_report(Y_test_TWEET,y_pred))"
   ]
  },
  {
   "cell_type": "markdown",
   "metadata": {},
   "source": [
    "## SVM T TASH T KANSOAN"
   ]
  },
  {
   "cell_type": "code",
   "execution_count": 107,
   "metadata": {},
   "outputs": [
    {
     "name": "stdout",
     "output_type": "stream",
     "text": [
      "              precision    recall  f1-score   support\n",
      "\n",
      "          -1       0.95      0.50      0.65      1371\n",
      "           0       0.00      1.00      0.00         0\n",
      "           1       0.89      0.70      0.78      1397\n",
      "\n",
      "    accuracy                           0.60      2768\n",
      "   macro avg       0.61      0.73      0.48      2768\n",
      "weighted avg       0.92      0.60      0.72      2768\n",
      "\n"
     ]
    }
   ],
   "source": [
    "clf = SVC().fit(X_train2, Y_train2) \n",
    "y_pred = clf.predict(X_test_KANSOAN)\n",
    "\n",
    "print(classification_report(Y_test_KANSOAN,y_pred, zero_division=True))"
   ]
  },
  {
   "cell_type": "markdown",
   "metadata": {},
   "source": [
    "## RL T TASH T UNILEX"
   ]
  },
  {
   "cell_type": "code",
   "execution_count": 108,
   "metadata": {},
   "outputs": [
    {
     "name": "stdout",
     "output_type": "stream",
     "text": [
      "              precision    recall  f1-score   support\n",
      "\n",
      "        -1.0       0.47      0.17      0.25      1261\n",
      "         0.0       0.41      0.83      0.55      1436\n",
      "         1.0       0.48      0.18      0.26      1091\n",
      "\n",
      "    accuracy                           0.43      3788\n",
      "   macro avg       0.45      0.39      0.35      3788\n",
      "weighted avg       0.45      0.43      0.37      3788\n",
      "\n"
     ]
    }
   ],
   "source": [
    "clf = LogisticRegression(max_iter=1000).fit(X_train2, Y_train2) \n",
    "y_pred = clf.predict(X_test)\n",
    "\n",
    "print(classification_report(Y_test,y_pred))"
   ]
  },
  {
   "cell_type": "markdown",
   "metadata": {},
   "source": [
    "## RL T TASH T TWEET"
   ]
  },
  {
   "cell_type": "code",
   "execution_count": 109,
   "metadata": {},
   "outputs": [
    {
     "name": "stdout",
     "output_type": "stream",
     "text": [
      "              precision    recall  f1-score   support\n",
      "\n",
      "          -1       0.49      0.33      0.39      1039\n",
      "           0       0.29      0.60      0.39       847\n",
      "           1       0.62      0.40      0.49      1574\n",
      "\n",
      "    accuracy                           0.43      3460\n",
      "   macro avg       0.47      0.44      0.42      3460\n",
      "weighted avg       0.50      0.43      0.43      3460\n",
      "\n"
     ]
    }
   ],
   "source": [
    "clf = LogisticRegression(max_iter=1000).fit(X_train2, Y_train2) \n",
    "y_pred = clf.predict(X_test_TWEET)\n",
    "\n",
    "print(classification_report(Y_test_TWEET,y_pred))"
   ]
  },
  {
   "cell_type": "markdown",
   "metadata": {},
   "source": [
    "## RL T TASH T KANSOAN"
   ]
  },
  {
   "cell_type": "code",
   "execution_count": 110,
   "metadata": {},
   "outputs": [
    {
     "name": "stdout",
     "output_type": "stream",
     "text": [
      "              precision    recall  f1-score   support\n",
      "\n",
      "          -1       0.93      0.62      0.74      1371\n",
      "           0       0.00      1.00      0.00         0\n",
      "           1       0.87      0.77      0.82      1397\n",
      "\n",
      "    accuracy                           0.70      2768\n",
      "   macro avg       0.60      0.80      0.52      2768\n",
      "weighted avg       0.90      0.70      0.78      2768\n",
      "\n"
     ]
    }
   ],
   "source": [
    "clf = LogisticRegression(max_iter=1000).fit(X_train2, Y_train2) \n",
    "y_pred = clf.predict(X_test_KANSOAN)\n",
    "\n",
    "print(classification_report(Y_test_KANSOAN,y_pred, zero_division=True))"
   ]
  },
  {
   "cell_type": "markdown",
   "metadata": {},
   "source": [
    "## TOTALMENT.C T TASH T UNILEX"
   ]
  },
  {
   "cell_type": "code",
   "execution_count": 111,
   "metadata": {},
   "outputs": [
    {
     "name": "stdout",
     "output_type": "stream",
     "text": [
      "Epoch 1/10\n",
      "61/61 [==============================] - 1s 22ms/step - loss: 1.0977 - accuracy: 0.3667 - val_loss: 1.0945 - val_accuracy: 0.3791\n",
      "Epoch 2/10\n",
      "61/61 [==============================] - 1s 12ms/step - loss: 1.0809 - accuracy: 0.3985 - val_loss: 1.0902 - val_accuracy: 0.3836\n",
      "Epoch 3/10\n",
      "61/61 [==============================] - 1s 12ms/step - loss: 0.9778 - accuracy: 0.5754 - val_loss: 1.0688 - val_accuracy: 0.4385\n",
      "Epoch 4/10\n",
      "61/61 [==============================] - 1s 13ms/step - loss: 0.6892 - accuracy: 0.7626 - val_loss: 1.1270 - val_accuracy: 0.4287\n",
      "Epoch 5/10\n",
      "61/61 [==============================] - 1s 14ms/step - loss: 0.4219 - accuracy: 0.8708 - val_loss: 1.2477 - val_accuracy: 0.4221\n",
      "Epoch 6/10\n",
      "61/61 [==============================] - 1s 12ms/step - loss: 0.2743 - accuracy: 0.9277 - val_loss: 1.4429 - val_accuracy: 0.4263\n",
      "Epoch 7/10\n",
      "61/61 [==============================] - 1s 13ms/step - loss: 0.1750 - accuracy: 0.9554 - val_loss: 1.6147 - val_accuracy: 0.4256\n",
      "Epoch 8/10\n",
      "61/61 [==============================] - 1s 13ms/step - loss: 0.1267 - accuracy: 0.9703 - val_loss: 1.7465 - val_accuracy: 0.4263\n",
      "Epoch 9/10\n",
      "61/61 [==============================] - 1s 14ms/step - loss: 0.0998 - accuracy: 0.9774 - val_loss: 1.8655 - val_accuracy: 0.4256\n",
      "Epoch 10/10\n",
      "61/61 [==============================] - 1s 12ms/step - loss: 0.0829 - accuracy: 0.9805 - val_loss: 2.0217 - val_accuracy: 0.4171\n"
     ]
    }
   ],
   "source": [
    "model = tf.keras.Sequential([\n",
    "    tf.keras.layers.Dense(50, activation='relu'),\n",
    "    tf.keras.layers.Dropout(0.3),\n",
    "    tf.keras.layers.Dense(25, activation='relu'),\n",
    "    tf.keras.layers.Dropout(0.3),\n",
    "    tf.keras.layers.Dense(10, activation='tanh'),\n",
    "    tf.keras.layers.Dropout(0.2),\n",
    "    tf.keras.layers.Dense(3 , activation='softmax')\n",
    "])\n",
    "\n",
    "model.compile(\n",
    "    optimizer='adam',\n",
    "    loss=tf.keras.losses.categorical_crossentropy,\n",
    "    metrics=['accuracy']\n",
    ")\n",
    "\n",
    "one = OneHotEncoder(sparse=False)\n",
    "\n",
    "y_one = one.fit_transform(np.asarray(Y_train2).reshape(-1,1))\n",
    "y_one_test = one.fit_transform(Y_test.reshape(-1,1))\n",
    "\n",
    "fit = model.fit(X_train2.todense(), y_one, epochs=10, validation_data=(X_test.todense(), y_one_test))"
   ]
  },
  {
   "cell_type": "code",
   "execution_count": 112,
   "metadata": {},
   "outputs": [
    {
     "name": "stdout",
     "output_type": "stream",
     "text": [
      "              precision    recall  f1-score   support\n",
      "\n",
      "           0       0.40      0.41      0.40      1261\n",
      "           1       0.43      0.56      0.49      1436\n",
      "           2       0.41      0.24      0.30      1091\n",
      "\n",
      "    accuracy                           0.42      3788\n",
      "   macro avg       0.41      0.40      0.40      3788\n",
      "weighted avg       0.41      0.42      0.41      3788\n",
      "\n"
     ]
    }
   ],
   "source": [
    "predicted = model.predict(X_test.todense())\n",
    "\n",
    "print(classification_report(np.argmax(y_one_test, axis=1), np.argmax(predicted, axis=1)))"
   ]
  },
  {
   "cell_type": "markdown",
   "metadata": {},
   "source": [
    "## TWEET"
   ]
  },
  {
   "cell_type": "code",
   "execution_count": 113,
   "metadata": {},
   "outputs": [
    {
     "name": "stdout",
     "output_type": "stream",
     "text": [
      "              precision    recall  f1-score   support\n",
      "\n",
      "           0       0.42      0.33      0.37      1039\n",
      "           1       0.28      0.49      0.36       847\n",
      "           2       0.57      0.43      0.49      1574\n",
      "\n",
      "    accuracy                           0.41      3460\n",
      "   macro avg       0.43      0.42      0.41      3460\n",
      "weighted avg       0.46      0.41      0.42      3460\n",
      "\n"
     ]
    }
   ],
   "source": [
    "predicted = model.predict(X_test_TWEET.todense())\n",
    "\n",
    "print(classification_report(np.argmax(one.fit_transform(Y_test_TWEET.reshape(-1,1)), axis=1), np.argmax(predicted, axis=1)))"
   ]
  },
  {
   "cell_type": "markdown",
   "metadata": {},
   "source": [
    "## KANSOAN"
   ]
  },
  {
   "cell_type": "code",
   "execution_count": 114,
   "metadata": {},
   "outputs": [
    {
     "name": "stdout",
     "output_type": "stream",
     "text": [
      "              precision    recall  f1-score   support\n",
      "\n",
      "           0       0.86      0.69      0.76      1371\n",
      "           1       0.64      0.34      0.44      1397\n",
      "           2       0.00      0.00      0.00         0\n",
      "\n",
      "    accuracy                           0.51      2768\n",
      "   macro avg       0.50      0.34      0.40      2768\n",
      "weighted avg       0.75      0.51      0.60      2768\n",
      "\n"
     ]
    },
    {
     "name": "stderr",
     "output_type": "stream",
     "text": [
      "c:\\users\\ddayv\\appdata\\local\\programs\\python\\python37\\lib\\site-packages\\sklearn\\metrics\\_classification.py:1221: UndefinedMetricWarning: Recall and F-score are ill-defined and being set to 0.0 in labels with no true samples. Use `zero_division` parameter to control this behavior.\n",
      "  _warn_prf(average, modifier, msg_start, len(result))\n"
     ]
    }
   ],
   "source": [
    "predicted = model.predict(X_test_KANSOAN.todense())\n",
    "\n",
    "print(classification_report(np.argmax(one.fit_transform(np.asarray(Y_test_KANSOAN).reshape(-1,1)), axis=1), np.argmax(predicted, axis=1)))"
   ]
  },
  {
   "cell_type": "markdown",
   "metadata": {},
   "source": [
    "## LSTM T TASH T TWEET"
   ]
  },
  {
   "cell_type": "code",
   "execution_count": 115,
   "metadata": {},
   "outputs": [
    {
     "data": {
      "text/plain": [
       "11562"
      ]
     },
     "execution_count": 115,
     "metadata": {},
     "output_type": "execute_result"
    }
   ],
   "source": [
    "vectorize_layer = TextVectorization(\n",
    " max_tokens=15000,\n",
    " output_mode='int',\n",
    " output_sequence_length=len(max(df1['text'])))\n",
    "\n",
    "vocab = set_array(df1['text'])\n",
    "\n",
    "vectorize_layer.adapt(np.unique(vocab))\n",
    "len(vectorize_layer.get_vocabulary())\n"
   ]
  },
  {
   "cell_type": "code",
   "execution_count": 116,
   "metadata": {},
   "outputs": [],
   "source": [
    "text_KANSOAN\n",
    "\n",
    "X_train3_, X_test_KANSOAN_, Y_train3_, Y_test_KANSOAN_ = train_test_split(text_KANSOAN, df['sentiment'], test_size=0.3)"
   ]
  },
  {
   "cell_type": "code",
   "execution_count": 117,
   "metadata": {},
   "outputs": [
    {
     "name": "stdout",
     "output_type": "stream",
     "text": [
      "Epoch 1/10\n",
      "16/16 [==============================] - 4s 238ms/step - loss: 1.0982 - accuracy: 0.3369 - val_loss: 1.1017 - val_accuracy: 0.2624\n",
      "Epoch 2/10\n",
      "16/16 [==============================] - 2s 108ms/step - loss: 1.0938 - accuracy: 0.3492 - val_loss: 1.1038 - val_accuracy: 0.2624\n",
      "Epoch 3/10\n",
      "16/16 [==============================] - 2s 116ms/step - loss: 1.0762 - accuracy: 0.4241 - val_loss: 1.1041 - val_accuracy: 0.2890\n",
      "Epoch 4/10\n",
      "16/16 [==============================] - 2s 122ms/step - loss: 0.9055 - accuracy: 0.5995 - val_loss: 1.1447 - val_accuracy: 0.3416\n",
      "Epoch 5/10\n",
      "16/16 [==============================] - 2s 117ms/step - loss: 0.6549 - accuracy: 0.7467 - val_loss: 1.2263 - val_accuracy: 0.3471\n",
      "Epoch 6/10\n",
      "16/16 [==============================] - 2s 124ms/step - loss: 0.4747 - accuracy: 0.8754 - val_loss: 1.3840 - val_accuracy: 0.3434\n",
      "Epoch 7/10\n",
      "16/16 [==============================] - 2s 116ms/step - loss: 0.3860 - accuracy: 0.9082 - val_loss: 1.4357 - val_accuracy: 0.3286\n",
      "Epoch 8/10\n",
      "16/16 [==============================] - 2s 123ms/step - loss: 0.2721 - accuracy: 0.9462 - val_loss: 1.5666 - val_accuracy: 0.3413\n",
      "Epoch 9/10\n",
      "16/16 [==============================] - 2s 133ms/step - loss: 0.2019 - accuracy: 0.9677 - val_loss: 1.7621 - val_accuracy: 0.3306\n",
      "Epoch 10/10\n",
      "16/16 [==============================] - 2s 119ms/step - loss: 0.1545 - accuracy: 0.9785 - val_loss: 1.9405 - val_accuracy: 0.3257\n"
     ]
    }
   ],
   "source": [
    "model = tf.keras.Sequential([\n",
    "    vectorize_layer,\n",
    "    tf.keras.layers.Embedding(\n",
    "        input_dim=len(vectorize_layer.get_vocabulary()),\n",
    "        output_dim=64,mask_zero=True),\n",
    "    \n",
    "    tf.keras.layers.LSTM(50, activation='relu' ,return_sequences=True),\n",
    "    tf.keras.layers.Dropout(0.3),\n",
    "    \n",
    "    tf.keras.layers.LSTM(25 , activation='tanh', return_sequences=True),\n",
    "    tf.keras.layers.Dropout(0.3),\n",
    "    \n",
    "    tf.keras.layers.LSTM(10 , activation='tanh'),\n",
    "    tf.keras.layers.Dropout(0.2),\n",
    "    \n",
    "    tf.keras.layers.Dense(3, activation='softmax')\n",
    "])\n",
    "\n",
    "\n",
    "model.compile(\n",
    "    optimizer= tf.keras.optimizers.Adam(),\n",
    "    loss=tf.keras.losses.categorical_crossentropy,\n",
    "    metrics=['accuracy']\n",
    ")\n",
    "\n",
    "y_one = one.fit_transform(np.asarray(Y_train21).reshape(-1,1))\n",
    "y_one_test = one.fit_transform(np.asarray(Y_test_TWEET1).reshape(-1,1))\n",
    "\n",
    "fit = model.fit(np.asarray(pre_X(X_train21)), y_one, epochs=10, batch_size=128 ,validation_data=(np.asarray(pre_X(X_test_TWEET1)), y_one_test))"
   ]
  },
  {
   "cell_type": "code",
   "execution_count": 118,
   "metadata": {},
   "outputs": [
    {
     "name": "stdout",
     "output_type": "stream",
     "text": [
      "              precision    recall  f1-score   support\n",
      "\n",
      "           0       0.29      0.45      0.35      1009\n",
      "           1       0.25      0.34      0.29       908\n",
      "           2       0.56      0.23      0.33      1543\n",
      "\n",
      "    accuracy                           0.33      3460\n",
      "   macro avg       0.37      0.34      0.32      3460\n",
      "weighted avg       0.40      0.33      0.33      3460\n",
      "\n"
     ]
    }
   ],
   "source": [
    "predicted = model.predict(np.asarray(np.asarray(pre_X(X_test_TWEET1))))\n",
    "\n",
    "print(classification_report(np.argmax(one.fit_transform(np.asarray(Y_test_TWEET1).reshape(-1,1)), axis=1), np.argmax(predicted, axis=1)))"
   ]
  },
  {
   "cell_type": "markdown",
   "metadata": {},
   "source": [
    "## UNILEX"
   ]
  },
  {
   "cell_type": "code",
   "execution_count": 119,
   "metadata": {},
   "outputs": [
    {
     "name": "stdout",
     "output_type": "stream",
     "text": [
      "              precision    recall  f1-score   support\n",
      "\n",
      "           0       0.36      0.64      0.46      1246\n",
      "           1       0.38      0.34      0.36      1443\n",
      "           2       0.47      0.12      0.19      1099\n",
      "\n",
      "    accuracy                           0.37      3788\n",
      "   macro avg       0.40      0.37      0.34      3788\n",
      "weighted avg       0.40      0.37      0.34      3788\n",
      "\n"
     ]
    }
   ],
   "source": [
    "predicted = model.predict(np.asarray(pre_X(X_test_text)))\n",
    "\n",
    "print(classification_report(np.argmax(one.fit_transform(np.asarray(Y_test_text).reshape(-1,1)), axis=1), np.argmax(predicted, axis=1)))"
   ]
  },
  {
   "cell_type": "markdown",
   "metadata": {},
   "source": [
    "## KANSOAN"
   ]
  },
  {
   "cell_type": "code",
   "execution_count": 120,
   "metadata": {},
   "outputs": [
    {
     "name": "stdout",
     "output_type": "stream",
     "text": [
      "              precision    recall  f1-score   support\n",
      "\n",
      "           0       0.60      0.58      0.59      1360\n",
      "           1       0.53      0.29      0.38      1408\n",
      "           2       0.00      0.00      0.00         0\n",
      "\n",
      "    accuracy                           0.43      2768\n",
      "   macro avg       0.38      0.29      0.32      2768\n",
      "weighted avg       0.57      0.43      0.48      2768\n",
      "\n"
     ]
    },
    {
     "name": "stderr",
     "output_type": "stream",
     "text": [
      "c:\\users\\ddayv\\appdata\\local\\programs\\python\\python37\\lib\\site-packages\\sklearn\\metrics\\_classification.py:1221: UndefinedMetricWarning: Recall and F-score are ill-defined and being set to 0.0 in labels with no true samples. Use `zero_division` parameter to control this behavior.\n",
      "  _warn_prf(average, modifier, msg_start, len(result))\n"
     ]
    }
   ],
   "source": [
    "predicted = model.predict(np.asarray(pre_X(X_test_KANSOAN1)))\n",
    "\n",
    "print(classification_report(np.argmax(one.fit_transform(np.asarray(Y_test_KANSOAN1).reshape(-1,1)), axis=1), np.argmax(predicted, axis=1)))"
   ]
  },
  {
   "cell_type": "markdown",
   "metadata": {},
   "source": [
    "## CONV1D T TASH T KANSOAN"
   ]
  },
  {
   "cell_type": "code",
   "execution_count": 121,
   "metadata": {},
   "outputs": [
    {
     "name": "stdout",
     "output_type": "stream",
     "text": [
      "Epoch 1/10\n",
      "16/16 [==============================] - 0s 15ms/step - loss: 1.0987 - accuracy: 0.3472\n",
      "Epoch 2/10\n",
      "16/16 [==============================] - 0s 16ms/step - loss: 1.0830 - accuracy: 0.3754\n",
      "Epoch 3/10\n",
      "16/16 [==============================] - 0s 14ms/step - loss: 1.0395 - accuracy: 0.4662\n",
      "Epoch 4/10\n",
      "16/16 [==============================] - 0s 14ms/step - loss: 0.9234 - accuracy: 0.7990\n",
      "Epoch 5/10\n",
      "16/16 [==============================] - 0s 15ms/step - loss: 0.6834 - accuracy: 0.9251\n",
      "Epoch 6/10\n",
      "16/16 [==============================] - 0s 16ms/step - loss: 0.3798 - accuracy: 0.9662\n",
      "Epoch 7/10\n",
      "16/16 [==============================] - 0s 15ms/step - loss: 0.1785 - accuracy: 0.9810\n",
      "Epoch 8/10\n",
      "16/16 [==============================] - 0s 15ms/step - loss: 0.0877 - accuracy: 0.9908\n",
      "Epoch 9/10\n",
      "16/16 [==============================] - 0s 16ms/step - loss: 0.0498 - accuracy: 0.9949\n",
      "Epoch 10/10\n",
      "16/16 [==============================] - 0s 15ms/step - loss: 0.0298 - accuracy: 0.9985\n"
     ]
    }
   ],
   "source": [
    "model = tf.keras.Sequential([\n",
    "    vectorize_layer,\n",
    "    tf.keras.layers.Embedding(\n",
    "        input_dim=len(vectorize_layer.get_vocabulary()),\n",
    "        output_dim=64,\n",
    "        mask_zero=True),\n",
    "    \n",
    "    tf.keras.layers.Conv1D(32,6, activation='relu'),\n",
    "    tf.keras.layers.MaxPooling1D(2),\n",
    "    tf.keras.layers.Flatten(),\n",
    "    \n",
    "    tf.keras.layers.Dense(16, activation='relu'),\n",
    "    tf.keras.layers.Dense(3, activation='softmax')   \n",
    "])\n",
    "\n",
    "model.compile(\n",
    "    optimizer= tf.keras.optimizers.Adam(),\n",
    "    loss=tf.keras.losses.categorical_crossentropy,\n",
    "    metrics=['accuracy']\n",
    ")\n",
    "\n",
    "y_one = one.fit_transform(np.asarray(Y_train21).reshape(-1,1))\n",
    "y_one_test = one.fit_transform(Y_test_KANSOAN1.reshape(-1,1))\n",
    "\n",
    "fit = model.fit(np.asarray(pre_X(X_train21)), y_one, epochs=10, batch_size=128)"
   ]
  },
  {
   "cell_type": "code",
   "execution_count": 122,
   "metadata": {},
   "outputs": [
    {
     "name": "stdout",
     "output_type": "stream",
     "text": [
      "              precision    recall  f1-score   support\n",
      "\n",
      "           0       0.69      0.79      0.74      1360\n",
      "           1       0.43      0.07      0.12      1408\n",
      "           2       0.00      0.00      0.00         0\n",
      "\n",
      "    accuracy                           0.42      2768\n",
      "   macro avg       0.37      0.28      0.28      2768\n",
      "weighted avg       0.56      0.42      0.42      2768\n",
      "\n"
     ]
    },
    {
     "name": "stderr",
     "output_type": "stream",
     "text": [
      "c:\\users\\ddayv\\appdata\\local\\programs\\python\\python37\\lib\\site-packages\\sklearn\\metrics\\_classification.py:1221: UndefinedMetricWarning: Recall and F-score are ill-defined and being set to 0.0 in labels with no true samples. Use `zero_division` parameter to control this behavior.\n",
      "  _warn_prf(average, modifier, msg_start, len(result))\n"
     ]
    }
   ],
   "source": [
    "predicted = model.predict(np.asarray(pre_X(X_test_KANSOAN1)))\n",
    "\n",
    "print(classification_report(np.argmax(one.fit_transform(np.asarray(Y_test_KANSOAN1).reshape(-1,1)), axis=1), np.argmax(predicted, axis=1)))"
   ]
  },
  {
   "cell_type": "markdown",
   "metadata": {},
   "source": [
    "## UNILEX"
   ]
  },
  {
   "cell_type": "code",
   "execution_count": 123,
   "metadata": {},
   "outputs": [
    {
     "name": "stdout",
     "output_type": "stream",
     "text": [
      "              precision    recall  f1-score   support\n",
      "\n",
      "           0       0.34      0.78      0.47      1246\n",
      "           1       0.34      0.09      0.14      1443\n",
      "           2       0.40      0.19      0.26      1099\n",
      "\n",
      "    accuracy                           0.35      3788\n",
      "   macro avg       0.36      0.35      0.29      3788\n",
      "weighted avg       0.36      0.35      0.28      3788\n",
      "\n"
     ]
    }
   ],
   "source": [
    "predicted = model.predict(np.asarray(pre_X(X_test_text)))\n",
    "\n",
    "print(classification_report(np.argmax(one.fit_transform(np.asarray(Y_test_text).reshape(-1,1)), axis=1), np.argmax(predicted, axis=1)))"
   ]
  },
  {
   "cell_type": "markdown",
   "metadata": {},
   "source": [
    "## TWEET"
   ]
  },
  {
   "cell_type": "code",
   "execution_count": 124,
   "metadata": {},
   "outputs": [
    {
     "name": "stdout",
     "output_type": "stream",
     "text": [
      "              precision    recall  f1-score   support\n",
      "\n",
      "           0       0.28      0.56      0.38      1009\n",
      "           1       0.25      0.11      0.16       908\n",
      "           2       0.51      0.34      0.41      1543\n",
      "\n",
      "    accuracy                           0.35      3460\n",
      "   macro avg       0.35      0.34      0.32      3460\n",
      "weighted avg       0.38      0.35      0.34      3460\n",
      "\n"
     ]
    }
   ],
   "source": [
    "predicted = model.predict(np.asarray(pre_X(X_test_TWEET1)))\n",
    "\n",
    "print(classification_report(np.argmax(one.fit_transform(np.asarray(Y_test_TWEET1).reshape(-1,1)), axis=1), np.argmax(predicted, axis=1)))"
   ]
  },
  {
   "cell_type": "markdown",
   "metadata": {},
   "source": [
    "## BDR T TASH T UNILEX"
   ]
  },
  {
   "cell_type": "code",
   "execution_count": 125,
   "metadata": {},
   "outputs": [
    {
     "name": "stdout",
     "output_type": "stream",
     "text": [
      "Epoch 1/10\n",
      "16/16 [==============================] - 2s 153ms/step - loss: 1.0984 - accuracy: 0.3462 - val_loss: 1.0984 - val_accuracy: 0.3807\n",
      "Epoch 2/10\n",
      "16/16 [==============================] - 0s 24ms/step - loss: 1.0959 - accuracy: 0.3651 - val_loss: 1.0979 - val_accuracy: 0.3820\n",
      "Epoch 3/10\n",
      "16/16 [==============================] - 0s 27ms/step - loss: 1.0936 - accuracy: 0.3585 - val_loss: 1.0975 - val_accuracy: 0.3809\n",
      "Epoch 4/10\n",
      "16/16 [==============================] - 0s 28ms/step - loss: 1.0904 - accuracy: 0.3677 - val_loss: 1.0969 - val_accuracy: 0.3862\n",
      "Epoch 5/10\n",
      "16/16 [==============================] - 0s 28ms/step - loss: 1.0859 - accuracy: 0.4072 - val_loss: 1.0959 - val_accuracy: 0.3986\n",
      "Epoch 6/10\n",
      "16/16 [==============================] - 0s 30ms/step - loss: 1.0787 - accuracy: 0.5215 - val_loss: 1.0943 - val_accuracy: 0.4195\n",
      "Epoch 7/10\n",
      "16/16 [==============================] - 0s 27ms/step - loss: 1.0675 - accuracy: 0.5913 - val_loss: 1.0922 - val_accuracy: 0.4155\n",
      "Epoch 8/10\n",
      "16/16 [==============================] - 0s 27ms/step - loss: 1.0514 - accuracy: 0.5826 - val_loss: 1.0894 - val_accuracy: 0.4081\n",
      "Epoch 9/10\n",
      "16/16 [==============================] - 0s 30ms/step - loss: 1.0283 - accuracy: 0.6072 - val_loss: 1.0873 - val_accuracy: 0.4388\n",
      "Epoch 10/10\n",
      "16/16 [==============================] - 0s 30ms/step - loss: 1.0009 - accuracy: 0.6108 - val_loss: 1.0842 - val_accuracy: 0.4454\n"
     ]
    }
   ],
   "source": [
    "model = tf.keras.Sequential([\n",
    "    vectorize_layer,\n",
    "    tf.keras.layers.Embedding(\n",
    "        input_dim=len(vectorize_layer.get_vocabulary()),\n",
    "        output_dim=1,\n",
    "        mask_zero=True),\n",
    "    tf.keras.layers.Bidirectional(tf.keras.layers.LSTM(1)),\n",
    "\n",
    "    tf.keras.layers.Dense(3, activation='softmax')\n",
    "])\n",
    "\n",
    "model.compile(\n",
    "    optimizer= tf.keras.optimizers.Adam(),\n",
    "    loss=tf.keras.losses.categorical_crossentropy,\n",
    "    metrics=['accuracy']\n",
    ")\n",
    "\n",
    "y_one = one.fit_transform(np.asarray(Y_train21).reshape(-1,1))\n",
    "y_one_test = one.fit_transform(np.asarray(Y_test_text).reshape(-1,1))\n",
    "\n",
    "fit = model.fit(np.asarray(pre_X(X_train21)), y_one, epochs=10, batch_size=128 ,validation_data=(np.asarray(pre_X(X_test_text)), y_one_test))"
   ]
  },
  {
   "cell_type": "code",
   "execution_count": 126,
   "metadata": {},
   "outputs": [
    {
     "name": "stdout",
     "output_type": "stream",
     "text": [
      "              precision    recall  f1-score   support\n",
      "\n",
      "           0       0.45      0.58      0.51      1246\n",
      "           1       0.44      0.67      0.53      1443\n",
      "           2       0.00      0.00      0.00      1099\n",
      "\n",
      "    accuracy                           0.45      3788\n",
      "   macro avg       0.30      0.42      0.35      3788\n",
      "weighted avg       0.32      0.45      0.37      3788\n",
      "\n"
     ]
    },
    {
     "name": "stderr",
     "output_type": "stream",
     "text": [
      "c:\\users\\ddayv\\appdata\\local\\programs\\python\\python37\\lib\\site-packages\\sklearn\\metrics\\_classification.py:1221: UndefinedMetricWarning: Precision and F-score are ill-defined and being set to 0.0 in labels with no predicted samples. Use `zero_division` parameter to control this behavior.\n",
      "  _warn_prf(average, modifier, msg_start, len(result))\n"
     ]
    }
   ],
   "source": [
    "predicted = model.predict(np.asarray(pre_X(X_test_text)))\n",
    "\n",
    "print(classification_report(np.argmax(one.fit_transform(np.asarray(Y_test_text).reshape(-1,1)), axis=1), np.argmax(predicted, axis=1)))"
   ]
  },
  {
   "cell_type": "markdown",
   "metadata": {},
   "source": [
    "## TWEET"
   ]
  },
  {
   "cell_type": "code",
   "execution_count": 127,
   "metadata": {},
   "outputs": [
    {
     "name": "stdout",
     "output_type": "stream",
     "text": [
      "              precision    recall  f1-score   support\n",
      "\n",
      "           0       0.41      0.28      0.33      1009\n",
      "           1       0.26      0.80      0.40       908\n",
      "           2       0.00      0.00      0.00      1543\n",
      "\n",
      "    accuracy                           0.29      3460\n",
      "   macro avg       0.22      0.36      0.24      3460\n",
      "weighted avg       0.19      0.29      0.20      3460\n",
      "\n"
     ]
    },
    {
     "name": "stderr",
     "output_type": "stream",
     "text": [
      "c:\\users\\ddayv\\appdata\\local\\programs\\python\\python37\\lib\\site-packages\\sklearn\\metrics\\_classification.py:1221: UndefinedMetricWarning: Precision and F-score are ill-defined and being set to 0.0 in labels with no predicted samples. Use `zero_division` parameter to control this behavior.\n",
      "  _warn_prf(average, modifier, msg_start, len(result))\n"
     ]
    }
   ],
   "source": [
    "predicted = model.predict(np.asarray(pre_X(X_test_TWEET1)))\n",
    "\n",
    "print(classification_report(np.argmax(one.fit_transform(np.asarray(Y_test_TWEET1).reshape(-1,1)), axis=1), np.argmax(predicted, axis=1)))"
   ]
  },
  {
   "cell_type": "markdown",
   "metadata": {},
   "source": [
    "## KANSOAN"
   ]
  },
  {
   "cell_type": "code",
   "execution_count": 128,
   "metadata": {},
   "outputs": [
    {
     "name": "stdout",
     "output_type": "stream",
     "text": [
      "              precision    recall  f1-score   support\n",
      "\n",
      "           0       0.79      0.68      0.73      1360\n",
      "           1       0.73      0.82      0.77      1408\n",
      "\n",
      "    accuracy                           0.75      2768\n",
      "   macro avg       0.76      0.75      0.75      2768\n",
      "weighted avg       0.76      0.75      0.75      2768\n",
      "\n"
     ]
    }
   ],
   "source": [
    "predicted = model.predict(np.asarray(pre_X(X_test_KANSOAN1)))\n",
    "\n",
    "print(classification_report(np.argmax(one.fit_transform(np.asarray(Y_test_KANSOAN1).reshape(-1,1)), axis=1), np.argmax(predicted, axis=1)))"
   ]
  },
  {
   "cell_type": "code",
   "execution_count": null,
   "metadata": {},
   "outputs": [],
   "source": []
  }
 ],
 "metadata": {
  "kernelspec": {
   "display_name": "Python 3",
   "language": "python",
   "name": "python3"
  },
  "language_info": {
   "codemirror_mode": {
    "name": "ipython",
    "version": 3
   },
   "file_extension": ".py",
   "mimetype": "text/x-python",
   "name": "python",
   "nbconvert_exporter": "python",
   "pygments_lexer": "ipython3",
   "version": "3.7.9"
  }
 },
 "nbformat": 4,
 "nbformat_minor": 4
}
