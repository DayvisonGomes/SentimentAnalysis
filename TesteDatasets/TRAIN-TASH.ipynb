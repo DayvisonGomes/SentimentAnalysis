{
 "cells": [
  {
   "cell_type": "code",
   "execution_count": 1,
   "metadata": {},
   "outputs": [
    {
     "name": "stderr",
     "output_type": "stream",
     "text": [
      "[nltk_data] Downloading package stopwords to\n",
      "[nltk_data]     C:\\Users\\ddayv\\AppData\\Roaming\\nltk_data...\n",
      "[nltk_data]   Package stopwords is already up-to-date!\n",
      "[nltk_data] Downloading package wordnet to\n",
      "[nltk_data]     C:\\Users\\ddayv\\AppData\\Roaming\\nltk_data...\n",
      "[nltk_data]   Package wordnet is already up-to-date!\n"
     ]
    },
    {
     "data": {
      "text/plain": [
       "True"
      ]
     },
     "execution_count": 1,
     "metadata": {},
     "output_type": "execute_result"
    }
   ],
   "source": [
    "import pandas as pd\n",
    "import numpy as np\n",
    "from sklearn.feature_extraction.text import CountVectorizer\n",
    "from sklearn.feature_extraction.text import TfidfTransformer\n",
    "from sklearn.naive_bayes import MultinomialNB\n",
    "from sklearn.model_selection import train_test_split\n",
    "from sklearn.metrics import classification_report\n",
    "import seaborn as sns\n",
    "import re\n",
    "import random as rd\n",
    "import tensorflow as tf\n",
    "from tensorflow.keras.layers.experimental.preprocessing import TextVectorization\n",
    "from nltk import word_tokenize, RegexpTokenizer\n",
    "from nltk.corpus import stopwords, wordnet\n",
    "from sklearn.preprocessing import OneHotEncoder\n",
    "import matplotlib.pyplot as plt\n",
    "import autokeras as ak\n",
    "from sklearn.model_selection import KFold\n",
    "\n",
    "import nltk\n",
    "from sklearn.svm import SVC\n",
    "from sklearn.linear_model import LogisticRegression\n",
    "nltk.download('stopwords')\n",
    "nltk.download('wordnet')"
   ]
  },
  {
   "cell_type": "code",
   "execution_count": 2,
   "metadata": {},
   "outputs": [],
   "source": [
    "def Tokenize(f):     ## Pre-processando a frase\n",
    "\n",
    "    ## Colocando em minusculo\n",
    "    ## Retirando a pontuaçao\n",
    "    ## Retirando as StopWords\n",
    "    \n",
    "    f = f.lower().replace('\\n', '').replace('-','').replace('#','').replace('.','').replace(',','').replace('!','').replace('r\\n','').replace('  ','').replace('https','').replace('rt','').replace('rn','')\n",
    "    token = RegexpTokenizer(r\"\\w+\")\n",
    "    f = token.tokenize(f)\n",
    "    \n",
    "    stop_words = set(stopwords.words('portuguese'))\n",
    "    \n",
    "    new_word = [word for word in f if not word in stop_words]\n",
    "    \n",
    "    return ' '.join(new_word)\n",
    "\n",
    "def remove_user(frase):\n",
    "    frase = re.sub('@\\w+','',frase)\n",
    "    frase = re.sub('{https}[^ ]+','',frase)\n",
    "    frase = re.sub('https\\w+','',frase)\n",
    "    # re.sub('#\\w+','',frase)\n",
    "    return frase\n",
    "\n",
    "def pre_X(frases):\n",
    "    lista = []\n",
    "    \n",
    "    for frase in frases:\n",
    "        lista.append(frase)\n",
    "        \n",
    "    return lista\n",
    "\n",
    "def pre_Y(number):\n",
    "    lista = []\n",
    "    \n",
    "    for numb in number:\n",
    "        lista.append(numb)\n",
    "    \n",
    "    return lista\n",
    "\n",
    "def set_array(frases):\n",
    "    \n",
    "    vocab = []\n",
    "    palavras = []\n",
    "    for frase in frases:\n",
    "        \n",
    "        text_array = remove_user(frase)\n",
    "        text_array = Tokenize(text_array)\n",
    "        text_array = text_array.split(' ')\n",
    "        for i in range(len(text_array)):\n",
    "            vocab.append(text_array[i])\n",
    "        \n",
    "    return vocab\n"
   ]
  },
  {
   "cell_type": "markdown",
   "metadata": {},
   "source": [
    "## TWEETSENT"
   ]
  },
  {
   "cell_type": "code",
   "execution_count": 6,
   "metadata": {},
   "outputs": [
    {
     "data": {
      "text/html": [
       "<div>\n",
       "<style scoped>\n",
       "    .dataframe tbody tr th:only-of-type {\n",
       "        vertical-align: middle;\n",
       "    }\n",
       "\n",
       "    .dataframe tbody tr th {\n",
       "        vertical-align: top;\n",
       "    }\n",
       "\n",
       "    .dataframe thead th {\n",
       "        text-align: right;\n",
       "    }\n",
       "</style>\n",
       "<table border=\"1\" class=\"dataframe\">\n",
       "  <thead>\n",
       "    <tr style=\"text-align: right;\">\n",
       "      <th></th>\n",
       "      <th>id</th>\n",
       "      <th>id_twitter</th>\n",
       "      <th>text</th>\n",
       "      <th>sentiment</th>\n",
       "    </tr>\n",
       "  </thead>\n",
       "  <tbody>\n",
       "    <tr>\n",
       "      <th>0</th>\n",
       "      <td>1343</td>\n",
       "      <td>863044774588272640</td>\n",
       "      <td>Que coisa linda! O Programa #encontro estava m...</td>\n",
       "      <td>1</td>\n",
       "    </tr>\n",
       "    <tr>\n",
       "      <th>1</th>\n",
       "      <td>1344</td>\n",
       "      <td>865583716088766467</td>\n",
       "      <td>Por mais #Encontro com as Irmãs Galvão, adorei...</td>\n",
       "      <td>1</td>\n",
       "    </tr>\n",
       "    <tr>\n",
       "      <th>2</th>\n",
       "      <td>1345</td>\n",
       "      <td>865063232201011201</td>\n",
       "      <td>Mr. CATRA @OficialMrCatra lançando sua nova mú...</td>\n",
       "      <td>1</td>\n",
       "    </tr>\n",
       "    <tr>\n",
       "      <th>3</th>\n",
       "      <td>1346</td>\n",
       "      <td>864668391008763905</td>\n",
       "      <td>quem viu aquela lutadora modela barbuda tatuad...</td>\n",
       "      <td>0</td>\n",
       "    </tr>\n",
       "    <tr>\n",
       "      <th>4</th>\n",
       "      <td>1347</td>\n",
       "      <td>865572794016378882</td>\n",
       "      <td>Tô passada com esse cara.... quanta merda pode...</td>\n",
       "      <td>-1</td>\n",
       "    </tr>\n",
       "    <tr>\n",
       "      <th>...</th>\n",
       "      <td>...</td>\n",
       "      <td>...</td>\n",
       "      <td>...</td>\n",
       "      <td>...</td>\n",
       "    </tr>\n",
       "    <tr>\n",
       "      <th>11565</th>\n",
       "      <td>12908</td>\n",
       "      <td>864636619000877056</td>\n",
       "      <td>eu ja to aqui pronto pro #MasterChefBR mas ain...</td>\n",
       "      <td>-1</td>\n",
       "    </tr>\n",
       "    <tr>\n",
       "      <th>11566</th>\n",
       "      <td>12909</td>\n",
       "      <td>863581588713603072</td>\n",
       "      <td>MALUCO! Uma coisa que eu não tenho coragem é e...</td>\n",
       "      <td>-1</td>\n",
       "    </tr>\n",
       "    <tr>\n",
       "      <th>11567</th>\n",
       "      <td>12910</td>\n",
       "      <td>864831041349054464</td>\n",
       "      <td>#MaisVoce @ANAMARIABRAGA  está linda @RedeGlobo</td>\n",
       "      <td>1</td>\n",
       "    </tr>\n",
       "    <tr>\n",
       "      <th>11568</th>\n",
       "      <td>12911</td>\n",
       "      <td>863042798575951872</td>\n",
       "      <td>Que orgulho de ti, @sportrecife! #Encontro</td>\n",
       "      <td>1</td>\n",
       "    </tr>\n",
       "    <tr>\n",
       "      <th>11569</th>\n",
       "      <td>12912</td>\n",
       "      <td>864681041541386240</td>\n",
       "      <td>Gente olha o bíceps desse padre #ConversaComBial</td>\n",
       "      <td>1</td>\n",
       "    </tr>\n",
       "  </tbody>\n",
       "</table>\n",
       "<p>11570 rows × 4 columns</p>\n",
       "</div>"
      ],
      "text/plain": [
       "          id          id_twitter  \\\n",
       "0       1343  863044774588272640   \n",
       "1       1344  865583716088766467   \n",
       "2       1345  865063232201011201   \n",
       "3       1346  864668391008763905   \n",
       "4       1347  865572794016378882   \n",
       "...      ...                 ...   \n",
       "11565  12908  864636619000877056   \n",
       "11566  12909  863581588713603072   \n",
       "11567  12910  864831041349054464   \n",
       "11568  12911  863042798575951872   \n",
       "11569  12912  864681041541386240   \n",
       "\n",
       "                                                    text sentiment  \n",
       "0      Que coisa linda! O Programa #encontro estava m...         1  \n",
       "1      Por mais #Encontro com as Irmãs Galvão, adorei...         1  \n",
       "2      Mr. CATRA @OficialMrCatra lançando sua nova mú...         1  \n",
       "3      quem viu aquela lutadora modela barbuda tatuad...         0  \n",
       "4      Tô passada com esse cara.... quanta merda pode...        -1  \n",
       "...                                                  ...       ...  \n",
       "11565  eu ja to aqui pronto pro #MasterChefBR mas ain...        -1  \n",
       "11566  MALUCO! Uma coisa que eu não tenho coragem é e...        -1  \n",
       "11567    #MaisVoce @ANAMARIABRAGA  está linda @RedeGlobo         1  \n",
       "11568         Que orgulho de ti, @sportrecife! #Encontro         1  \n",
       "11569   Gente olha o bíceps desse padre #ConversaComBial         1  \n",
       "\n",
       "[11570 rows x 4 columns]"
      ]
     },
     "execution_count": 6,
     "metadata": {},
     "output_type": "execute_result"
    }
   ],
   "source": [
    "df_tweet= pd.read_csv('export_TweetSentBR.csv')\n",
    "df_tweet"
   ]
  },
  {
   "cell_type": "code",
   "execution_count": 7,
   "metadata": {},
   "outputs": [],
   "source": [
    "df_remove = df_tweet[df_tweet['sentiment'] == '-']\n",
    "df_tweet = df_tweet.drop(df_remove.index)\n",
    "\n",
    "df_tweet['text'] = df_tweet['text'].apply(remove_user)\n",
    "df_tweet['text'] = df_tweet['text'].apply(Tokenize)"
   ]
  },
  {
   "cell_type": "code",
   "execution_count": 8,
   "metadata": {},
   "outputs": [],
   "source": [
    "df_tweet['sentiment'] = df_tweet['sentiment'].apply(lambda x: int(x))"
   ]
  },
  {
   "cell_type": "code",
   "execution_count": 9,
   "metadata": {},
   "outputs": [],
   "source": [
    "text_Tweetsent = df_tweet['text']\n",
    "polarity_ = np.asarray(df_tweet['sentiment'])"
   ]
  },
  {
   "cell_type": "code",
   "execution_count": 10,
   "metadata": {},
   "outputs": [
    {
     "data": {
      "text/plain": [
       "(11533, 11525)"
      ]
     },
     "execution_count": 10,
     "metadata": {},
     "output_type": "execute_result"
    }
   ],
   "source": [
    "X_text = count_vect.transform(text_Tweetsent)\n",
    "\n",
    "X_test_TWEET = tfidf_transformer.transform(X_text) # Aplicando o TF-IDF\n",
    "X_test_TWEET.shape"
   ]
  },
  {
   "cell_type": "markdown",
   "metadata": {},
   "source": [
    "## TASH"
   ]
  },
  {
   "cell_type": "code",
   "execution_count": 3,
   "metadata": {},
   "outputs": [],
   "source": [
    "df1 = pd.read_csv(\"tash-pt.csv\")\n",
    "df1 = df1.dropna()\n",
    "df1 = df1.drop(columns=['id_twitter'])\n"
   ]
  },
  {
   "cell_type": "code",
   "execution_count": 4,
   "metadata": {},
   "outputs": [],
   "source": [
    "df1['text'] = df1['text'].apply(remove_user)\n",
    "df1['text'] = df1['text'].apply(Tokenize)"
   ]
  },
  {
   "cell_type": "code",
   "execution_count": 5,
   "metadata": {},
   "outputs": [
    {
     "data": {
      "text/plain": [
       "(2787, 11525)"
      ]
     },
     "execution_count": 5,
     "metadata": {},
     "output_type": "execute_result"
    }
   ],
   "source": [
    "text_TASH = df1['text']\n",
    "sentiment_ = np.asarray(df1['sentiment'])\n",
    "\n",
    "count_vect = CountVectorizer()\n",
    "X_text_TASH = count_vect.fit_transform(text_TASH)\n",
    "\n",
    "tfidf_transformer = TfidfTransformer()\n",
    "\n",
    "X_train_TASH_ = tfidf_transformer.fit_transform(X_text_TASH) # Aplicando o TF-IDF\n",
    "X_train_TASH_.shape"
   ]
  },
  {
   "cell_type": "markdown",
   "metadata": {},
   "source": [
    "## KANSOAN"
   ]
  },
  {
   "cell_type": "code",
   "execution_count": 11,
   "metadata": {},
   "outputs": [],
   "source": [
    "df = pd.read_csv(\"data.txt\", sep=',', header=None, names=['text','sentiment'])\n",
    "\n",
    "df_remove = df[df['sentiment'] == '#Inveja'].index\n",
    "df = df.drop(df_remove)\n",
    "\n",
    "df_remove = df[df['sentiment'] == '#Raiva'].index\n",
    "df = df.drop(df_remove)\n",
    "\n",
    "df_remove = df[df['sentiment'] == '#Ironia'].index\n",
    "df = df.drop(df_remove)\n",
    "\n",
    "\n",
    "def binario(termo):\n",
    "    if termo == '#Feliz' or termo == '#Amor':\n",
    "        return 1\n",
    "    elif termo == '#Triste' or termo == '#Chateado':\n",
    "        return 0       \n",
    "    \n",
    "df['sentiment'] = df['sentiment'].apply(binario)"
   ]
  },
  {
   "cell_type": "code",
   "execution_count": 12,
   "metadata": {},
   "outputs": [],
   "source": [
    "df['text'] = df['text'].apply(remove_user)\n",
    "df['text'] = df['text'].apply(Tokenize)"
   ]
  },
  {
   "cell_type": "code",
   "execution_count": 13,
   "metadata": {},
   "outputs": [
    {
     "data": {
      "text/plain": [
       "(9224, 11525)"
      ]
     },
     "execution_count": 13,
     "metadata": {},
     "output_type": "execute_result"
    }
   ],
   "source": [
    "text_KANSOAN = df['text']\n",
    "sentiment = np.asarray(df['sentiment'])\n",
    "\n",
    "X_text_KANSOAN = count_vect.transform(text_KANSOAN)\n",
    "X_text_KANSOAN_ = tfidf_transformer.transform(X_text_KANSOAN) # Aplicando o TF-IDF\n",
    "X_text_KANSOAN_.shape"
   ]
  },
  {
   "cell_type": "markdown",
   "metadata": {},
   "source": [
    "## UNILEX"
   ]
  },
  {
   "cell_type": "code",
   "execution_count": 14,
   "metadata": {},
   "outputs": [
    {
     "data": {
      "text/plain": [
       "(12670, 2)"
      ]
     },
     "execution_count": 14,
     "metadata": {},
     "output_type": "execute_result"
    }
   ],
   "source": [
    "df1 = pd.read_excel('./rotulação/TweetsPolitical01 OK OK.xlsx')\n",
    "df2 = pd.read_excel('./rotulação/TweetsPolitical02 OK OK.xlsx')\n",
    "df3 = pd.read_excel('./rotulação/TweetsPolitical03 OK OK.xlsx')\n",
    "df4 = pd.read_excel('./rotulação/TweetsPolitical04 OK OK.xlsx')\n",
    "df5 = pd.read_excel('./rotulação/TweetsPolitical05 OK OK.xlsx')\n",
    "df6 = pd.read_excel('./rotulação/TweetsPolitical06 OK OK.xlsx')\n",
    "df7 = pd.read_excel('./rotulação/TweetsPolitical07 OK OK.xlsx')\n",
    "df8 = pd.read_excel('./rotulação/TweetsPolitical08 OK OK.xlsx')\n",
    "df9 = pd.read_excel('./rotulação/TweetsPolitical09 OK OK.xlsx')\n",
    "df10 = pd.read_excel('./rotulação/TweetsPolitical10 OK OK.xlsx')\n",
    "df11 = pd.read_excel('./rotulação/TweetsPolitical11 OK OK.xlsx')\n",
    "df12 = pd.read_excel('./rotulação/TweetsPolitical12 OK OK.xlsx')\n",
    "df13 = pd.read_excel('./rotulação/TweetsPolitical13 OK OK.xlsx')\n",
    "df14 = pd.read_excel('./rotulação/TweetsPolitical14 OK OK.xlsx')\n",
    "df15 = pd.read_excel('./rotulação/TweetsPolitical15 OK OK.xlsx')\n",
    "\n",
    "lista = [df1,df2,df3,df4,df5,df6,df7,df8,df9,df10,df11,df12,df13,df14,df15]\n",
    "\n",
    "df_all = pd.concat(lista)\n",
    "df_all.shape"
   ]
  },
  {
   "cell_type": "code",
   "execution_count": 15,
   "metadata": {},
   "outputs": [],
   "source": [
    "df_all = df_all.dropna()"
   ]
  },
  {
   "cell_type": "code",
   "execution_count": 16,
   "metadata": {},
   "outputs": [
    {
     "data": {
      "text/plain": [
       "array([ 0.,  1., -1.])"
      ]
     },
     "execution_count": 16,
     "metadata": {},
     "output_type": "execute_result"
    }
   ],
   "source": [
    "df_all.drop(df_all[df_all['Polaridade'] == 11].index, inplace=True)\n",
    "df_all.drop(df_all[df_all['Polaridade'] == -2].index, inplace=True)\n",
    "df_all.drop(df_all[df_all['Polaridade'] == 10].index, inplace=True)\n",
    "\n",
    "df_all['Polaridade'].unique()"
   ]
  },
  {
   "cell_type": "code",
   "execution_count": 17,
   "metadata": {},
   "outputs": [
    {
     "data": {
      "text/html": [
       "<div>\n",
       "<style scoped>\n",
       "    .dataframe tbody tr th:only-of-type {\n",
       "        vertical-align: middle;\n",
       "    }\n",
       "\n",
       "    .dataframe tbody tr th {\n",
       "        vertical-align: top;\n",
       "    }\n",
       "\n",
       "    .dataframe thead th {\n",
       "        text-align: right;\n",
       "    }\n",
       "</style>\n",
       "<table border=\"1\" class=\"dataframe\">\n",
       "  <thead>\n",
       "    <tr style=\"text-align: right;\">\n",
       "      <th></th>\n",
       "      <th>Tweet</th>\n",
       "      <th>Polaridade</th>\n",
       "    </tr>\n",
       "  </thead>\n",
       "  <tbody>\n",
       "    <tr>\n",
       "      <th>0</th>\n",
       "      <td>- #CaoNossoDeCadaDia #Novo - Vanessa Mandotti ...</td>\n",
       "      <td>0.0</td>\n",
       "    </tr>\n",
       "    <tr>\n",
       "      <th>1</th>\n",
       "      <td>- Bola pra frente que amanhã é outro dia, outr...</td>\n",
       "      <td>1.0</td>\n",
       "    </tr>\n",
       "    <tr>\n",
       "      <th>2</th>\n",
       "      <td>- Cara de mal? Acho que não... Apenas um corte...</td>\n",
       "      <td>1.0</td>\n",
       "    </tr>\n",
       "    <tr>\n",
       "      <th>3</th>\n",
       "      <td>\" #PCdoB O PARTIDO QUE FAZ A DIFERENÇA: LEAL E...</td>\n",
       "      <td>1.0</td>\n",
       "    </tr>\n",
       "    <tr>\n",
       "      <th>4</th>\n",
       "      <td>\"@camaradamae: #PCdoB o Partido da coragem !  ...</td>\n",
       "      <td>1.0</td>\n",
       "    </tr>\n",
       "  </tbody>\n",
       "</table>\n",
       "</div>"
      ],
      "text/plain": [
       "                                               Tweet  Polaridade\n",
       "0  - #CaoNossoDeCadaDia #Novo - Vanessa Mandotti ...         0.0\n",
       "1  - Bola pra frente que amanhã é outro dia, outr...         1.0\n",
       "2  - Cara de mal? Acho que não... Apenas um corte...         1.0\n",
       "3  \" #PCdoB O PARTIDO QUE FAZ A DIFERENÇA: LEAL E...         1.0\n",
       "4  \"@camaradamae: #PCdoB o Partido da coragem !  ...         1.0"
      ]
     },
     "execution_count": 17,
     "metadata": {},
     "output_type": "execute_result"
    }
   ],
   "source": [
    "df_all.head()"
   ]
  },
  {
   "cell_type": "code",
   "execution_count": 18,
   "metadata": {},
   "outputs": [],
   "source": [
    "df_all['Tweet'] = df_all['Tweet'].apply(remove_user)\n",
    "df_all['Tweet'] = df_all['Tweet'].apply(Tokenize)\n",
    "polarity = np.asarray(df_all['Polaridade'])\n",
    "Tweet = df_all['Tweet']\n"
   ]
  },
  {
   "cell_type": "code",
   "execution_count": 19,
   "metadata": {},
   "outputs": [
    {
     "data": {
      "text/plain": [
       "(12626, 11525)"
      ]
     },
     "execution_count": 19,
     "metadata": {},
     "output_type": "execute_result"
    }
   ],
   "source": [
    "Tweet = count_vect.transform(Tweet)\n",
    "X_test_UNILEX = tfidf_transformer.transform(Tweet) # Aplicando o TF-IDF\n",
    "X_test_UNILEX.shape"
   ]
  },
  {
   "cell_type": "markdown",
   "metadata": {},
   "source": [
    "## NB - TRAIN -> TASH- TEST -> TWEET"
   ]
  },
  {
   "cell_type": "code",
   "execution_count": 39,
   "metadata": {},
   "outputs": [],
   "source": [
    "## TIRAR OS SPLITS , até no treino"
   ]
  },
  {
   "cell_type": "code",
   "execution_count": 20,
   "metadata": {},
   "outputs": [
    {
     "name": "stdout",
     "output_type": "stream",
     "text": [
      "              precision    recall  f1-score   support\n",
      "\n",
      "          -1       0.41      0.25      0.31      3388\n",
      "           0       0.29      0.60      0.39      2928\n",
      "           1       0.63      0.41      0.50      5217\n",
      "\n",
      "    accuracy                           0.41     11533\n",
      "   macro avg       0.44      0.42      0.40     11533\n",
      "weighted avg       0.48      0.41      0.41     11533\n",
      "\n"
     ]
    }
   ],
   "source": [
    "clf = MultinomialNB()\n",
    "clf.fit(X_train_TASH_, sentiment_)\n",
    "y_pred = clf.predict(X_test_TWEET)\n",
    "\n",
    "print(classification_report(polarity_,y_pred))"
   ]
  },
  {
   "cell_type": "markdown",
   "metadata": {},
   "source": [
    "## NB - TRAIN -> TASH - TEST -> UNILEX"
   ]
  },
  {
   "cell_type": "code",
   "execution_count": 21,
   "metadata": {},
   "outputs": [
    {
     "name": "stdout",
     "output_type": "stream",
     "text": [
      "              precision    recall  f1-score   support\n",
      "\n",
      "        -1.0       0.45      0.55      0.50      4186\n",
      "         0.0       0.44      0.56      0.49      4740\n",
      "         1.0       0.43      0.17      0.24      3700\n",
      "\n",
      "    accuracy                           0.44     12626\n",
      "   macro avg       0.44      0.43      0.41     12626\n",
      "weighted avg       0.44      0.44      0.42     12626\n",
      "\n"
     ]
    }
   ],
   "source": [
    "clf = MultinomialNB()\n",
    "clf.fit(X_train_TASH_, sentiment_)\n",
    "y_pred = clf.predict(X_test_UNILEX)\n",
    "\n",
    "print(classification_report(polarity,y_pred))"
   ]
  },
  {
   "cell_type": "markdown",
   "metadata": {},
   "source": [
    "## NB - TRAIN -> TASH - TEST -> KANSOAN"
   ]
  },
  {
   "cell_type": "code",
   "execution_count": 22,
   "metadata": {},
   "outputs": [],
   "source": [
    "def func(num):\n",
    "    if num == 0:\n",
    "        return -1\n",
    "    else:\n",
    "        return 1\n",
    "\n",
    "sentiment = df['sentiment'].apply(func)\n"
   ]
  },
  {
   "cell_type": "code",
   "execution_count": 25,
   "metadata": {},
   "outputs": [
    {
     "name": "stdout",
     "output_type": "stream",
     "text": [
      "              precision    recall  f1-score   support\n",
      "\n",
      "          -1       0.90      0.62      0.74      4504\n",
      "           0       0.00      1.00      0.00         0\n",
      "           1       0.86      0.74      0.80      4720\n",
      "\n",
      "    accuracy                           0.68      9224\n",
      "   macro avg       0.59      0.79      0.51      9224\n",
      "weighted avg       0.88      0.68      0.77      9224\n",
      "\n"
     ]
    }
   ],
   "source": [
    "clf = MultinomialNB()\n",
    "clf.fit(X_train_TASH_, sentiment_)\n",
    "y_pred = clf.predict(X_text_KANSOAN_)\n",
    "\n",
    "print(classification_report(sentiment,y_pred,zero_division=True))"
   ]
  },
  {
   "cell_type": "markdown",
   "metadata": {},
   "source": [
    "## SVM - TRAIN->TASH - TEST-> TWEET"
   ]
  },
  {
   "cell_type": "code",
   "execution_count": 30,
   "metadata": {},
   "outputs": [
    {
     "name": "stdout",
     "output_type": "stream",
     "text": [
      "              precision    recall  f1-score   support\n",
      "\n",
      "          -1       0.45      0.21      0.28      3388\n",
      "           0       0.28      0.76      0.42      2928\n",
      "           1       0.70      0.29      0.41      5217\n",
      "\n",
      "    accuracy                           0.38     11533\n",
      "   macro avg       0.48      0.42      0.37     11533\n",
      "weighted avg       0.52      0.38      0.37     11533\n",
      "\n"
     ]
    }
   ],
   "source": [
    "clf = SVC().fit(X_train_TASH_, sentiment_) \n",
    "y_pred = clf.predict(X_test_TWEET)\n",
    "\n",
    "print(classification_report(polarity_,y_pred))"
   ]
  },
  {
   "cell_type": "markdown",
   "metadata": {},
   "source": [
    "## SVM T TASH T UNILEX"
   ]
  },
  {
   "cell_type": "code",
   "execution_count": 29,
   "metadata": {},
   "outputs": [
    {
     "name": "stdout",
     "output_type": "stream",
     "text": [
      "              precision    recall  f1-score   support\n",
      "\n",
      "        -1.0       0.50      0.36      0.42      4186\n",
      "         0.0       0.43      0.79      0.56      4740\n",
      "         1.0       0.54      0.11      0.19      3700\n",
      "\n",
      "    accuracy                           0.45     12626\n",
      "   macro avg       0.49      0.42      0.39     12626\n",
      "weighted avg       0.48      0.45      0.40     12626\n",
      "\n"
     ]
    }
   ],
   "source": [
    "clf = SVC().fit(X_train_TASH_, sentiment_) \n",
    "y_pred = clf.predict(X_test_UNILEX)\n",
    "\n",
    "print(classification_report(polarity,y_pred))"
   ]
  },
  {
   "cell_type": "markdown",
   "metadata": {},
   "source": [
    "## SVM T UNILEX T KANSOAN"
   ]
  },
  {
   "cell_type": "code",
   "execution_count": 32,
   "metadata": {},
   "outputs": [
    {
     "name": "stdout",
     "output_type": "stream",
     "text": [
      "              precision    recall  f1-score   support\n",
      "\n",
      "          -1       0.92      0.58      0.71      4504\n",
      "           0       0.00      1.00      0.00         0\n",
      "           1       0.92      0.71      0.80      4720\n",
      "\n",
      "    accuracy                           0.64      9224\n",
      "   macro avg       0.61      0.76      0.50      9224\n",
      "weighted avg       0.92      0.64      0.75      9224\n",
      "\n"
     ]
    }
   ],
   "source": [
    "clf = SVC().fit(X_train_TASH_, sentiment_) \n",
    "y_pred = clf.predict(X_text_KANSOAN_)\n",
    "\n",
    "print(classification_report(sentiment,y_pred, zero_division=True))"
   ]
  },
  {
   "cell_type": "markdown",
   "metadata": {},
   "source": [
    "## RL T TASH T TWEET"
   ]
  },
  {
   "cell_type": "code",
   "execution_count": 35,
   "metadata": {},
   "outputs": [
    {
     "name": "stdout",
     "output_type": "stream",
     "text": [
      "              precision    recall  f1-score   support\n",
      "\n",
      "          -1       0.42      0.27      0.33      3388\n",
      "           0       0.30      0.60      0.40      2928\n",
      "           1       0.63      0.41      0.50      5217\n",
      "\n",
      "    accuracy                           0.42     11533\n",
      "   macro avg       0.45      0.43      0.41     11533\n",
      "weighted avg       0.49      0.42      0.42     11533\n",
      "\n"
     ]
    }
   ],
   "source": [
    "clf = LogisticRegression(max_iter=1000).fit(X_train_TASH_, sentiment_) \n",
    "y_pred = clf.predict(X_test_TWEET)\n",
    "\n",
    "print(classification_report(polarity_,y_pred))"
   ]
  },
  {
   "cell_type": "markdown",
   "metadata": {},
   "source": [
    "## RL T TASH T UNILEX"
   ]
  },
  {
   "cell_type": "code",
   "execution_count": 36,
   "metadata": {},
   "outputs": [
    {
     "name": "stdout",
     "output_type": "stream",
     "text": [
      "              precision    recall  f1-score   support\n",
      "\n",
      "        -1.0       0.45      0.54      0.49      4186\n",
      "         0.0       0.45      0.58      0.50      4740\n",
      "         1.0       0.46      0.19      0.26      3700\n",
      "\n",
      "    accuracy                           0.45     12626\n",
      "   macro avg       0.45      0.44      0.42     12626\n",
      "weighted avg       0.45      0.45      0.43     12626\n",
      "\n"
     ]
    }
   ],
   "source": [
    "clf = LogisticRegression(max_iter=1000).fit(X_train_TASH_, sentiment_) \n",
    "y_pred = clf.predict(X_test_UNILEX)\n",
    "\n",
    "print(classification_report(polarity,y_pred))"
   ]
  },
  {
   "cell_type": "markdown",
   "metadata": {},
   "source": [
    "## RL T UNILEX T KANSOAN"
   ]
  },
  {
   "cell_type": "code",
   "execution_count": 37,
   "metadata": {},
   "outputs": [
    {
     "name": "stdout",
     "output_type": "stream",
     "text": [
      "              precision    recall  f1-score   support\n",
      "\n",
      "          -1       0.91      0.66      0.77      4504\n",
      "           0       0.00      1.00      0.00         0\n",
      "           1       0.89      0.79      0.83      4720\n",
      "\n",
      "    accuracy                           0.73      9224\n",
      "   macro avg       0.60      0.82      0.53      9224\n",
      "weighted avg       0.90      0.73      0.80      9224\n",
      "\n"
     ]
    }
   ],
   "source": [
    "clf = LogisticRegression(max_iter=1000).fit(X_train_TASH_, sentiment_) \n",
    "y_pred = clf.predict(X_text_KANSOAN_)\n",
    "\n",
    "print(classification_report(sentiment,y_pred, zero_division=True))"
   ]
  },
  {
   "cell_type": "code",
   "execution_count": 38,
   "metadata": {},
   "outputs": [],
   "source": [
    "one = OneHotEncoder(sparse=False)\n",
    "teste_ = one.fit_transform(np.asarray(sentiment).reshape(-1,1))\n",
    "nome = pd.DataFrame(teste_)\n",
    "nome['coluna'] = 0\n",
    "nome.rename(columns={1: 2, 'coluna':1} , inplace=True)\n",
    "Y_KANSOAN = nome[[0,1,2]].to_numpy()"
   ]
  },
  {
   "cell_type": "markdown",
   "metadata": {},
   "source": [
    "## TOTALMENT.C T TASH T TWEET"
   ]
  },
  {
   "cell_type": "code",
   "execution_count": 39,
   "metadata": {},
   "outputs": [
    {
     "name": "stdout",
     "output_type": "stream",
     "text": [
      "Epoch 1/5\n",
      "88/88 [==============================] - 1s 16ms/step - loss: 1.0974 - accuracy: 0.3556 - val_loss: 1.1086 - val_accuracy: 0.2539\n",
      "Epoch 2/5\n",
      "88/88 [==============================] - 1s 11ms/step - loss: 1.0765 - accuracy: 0.4320 - val_loss: 1.1075 - val_accuracy: 0.3150\n",
      "Epoch 3/5\n",
      "88/88 [==============================] - 1s 10ms/step - loss: 0.8986 - accuracy: 0.6412 - val_loss: 1.1153 - val_accuracy: 0.4126\n",
      "Epoch 4/5\n",
      "88/88 [==============================] - 1s 10ms/step - loss: 0.5060 - accuracy: 0.8457 - val_loss: 1.3792 - val_accuracy: 0.4054\n",
      "Epoch 5/5\n",
      "88/88 [==============================] - 1s 11ms/step - loss: 0.2394 - accuracy: 0.9444 - val_loss: 1.7354 - val_accuracy: 0.3965\n"
     ]
    }
   ],
   "source": [
    "model = tf.keras.Sequential([\n",
    "    tf.keras.layers.Dense(50, activation='relu'),\n",
    "    tf.keras.layers.Dropout(0.3),\n",
    "    \n",
    "    tf.keras.layers.Dense(25, activation='relu'),\n",
    "    tf.keras.layers.Dropout(0.3),\n",
    "    \n",
    "    tf.keras.layers.Dense(10, activation='tanh'),\n",
    "    tf.keras.layers.Dropout(0.3),\n",
    "    \n",
    "    tf.keras.layers.Dense(3 , activation='softmax')\n",
    "])\n",
    "\n",
    "model.compile(\n",
    "    optimizer='adam',\n",
    "    loss=tf.keras.losses.categorical_crossentropy,\n",
    "    metrics=['accuracy']\n",
    ")\n",
    "\n",
    "y_one = one.fit_transform(np.asarray(sentiment_).reshape(-1,1))\n",
    "y_one_test = one.fit_transform(polarity_.reshape(-1,1))\n",
    "\n",
    "fit = model.fit(X_train_TASH_.todense(), y_one, epochs=5, validation_data=(X_test_TWEET.todense(), y_one_test))"
   ]
  },
  {
   "cell_type": "code",
   "execution_count": 40,
   "metadata": {},
   "outputs": [
    {
     "name": "stdout",
     "output_type": "stream",
     "text": [
      "              precision    recall  f1-score   support\n",
      "\n",
      "           0       0.37      0.25      0.30      3388\n",
      "           1       0.28      0.53      0.37      2928\n",
      "           2       0.59      0.42      0.49      5217\n",
      "\n",
      "    accuracy                           0.40     11533\n",
      "   macro avg       0.41      0.40      0.38     11533\n",
      "weighted avg       0.45      0.40      0.40     11533\n",
      "\n"
     ]
    }
   ],
   "source": [
    "predicted = model.predict(X_test_TWEET.todense())\n",
    "\n",
    "print(classification_report(np.argmax(y_one_test, axis=1), np.argmax(predicted, axis=1)))"
   ]
  },
  {
   "cell_type": "markdown",
   "metadata": {},
   "source": [
    "## UNILEX"
   ]
  },
  {
   "cell_type": "code",
   "execution_count": 41,
   "metadata": {},
   "outputs": [
    {
     "name": "stdout",
     "output_type": "stream",
     "text": [
      "              precision    recall  f1-score   support\n",
      "\n",
      "           0       0.42      0.62      0.50      4186\n",
      "           1       0.46      0.44      0.45      4740\n",
      "           2       0.39      0.21      0.27      3700\n",
      "\n",
      "    accuracy                           0.43     12626\n",
      "   macro avg       0.43      0.42      0.41     12626\n",
      "weighted avg       0.43      0.43      0.42     12626\n",
      "\n"
     ]
    }
   ],
   "source": [
    "predicted = model.predict(X_test_UNILEX.todense())\n",
    "\n",
    "print(classification_report(np.argmax(one.fit_transform(polarity.reshape(-1,1)), axis=1), np.argmax(predicted, axis=1)))"
   ]
  },
  {
   "cell_type": "markdown",
   "metadata": {},
   "source": [
    "## KANSOAN"
   ]
  },
  {
   "cell_type": "code",
   "execution_count": 42,
   "metadata": {},
   "outputs": [
    {
     "name": "stdout",
     "output_type": "stream",
     "text": [
      "              precision    recall  f1-score   support\n",
      "\n",
      "           0       0.86      0.71      0.78      4504\n",
      "           1       0.00      1.00      0.00         0\n",
      "           2       0.85      0.69      0.76      4720\n",
      "\n",
      "    accuracy                           0.70      9224\n",
      "   macro avg       0.57      0.80      0.51      9224\n",
      "weighted avg       0.86      0.70      0.77      9224\n",
      "\n"
     ]
    }
   ],
   "source": [
    "predicted = model.predict(X_text_KANSOAN_.todense())\n",
    "\n",
    "print(classification_report(np.argmax(Y_KANSOAN, axis=1), np.argmax(predicted, axis=1), zero_division=True))"
   ]
  },
  {
   "cell_type": "markdown",
   "metadata": {},
   "source": [
    "## LSTM T TASH T UNILEX"
   ]
  },
  {
   "cell_type": "code",
   "execution_count": 44,
   "metadata": {},
   "outputs": [
    {
     "data": {
      "text/plain": [
       "11562"
      ]
     },
     "execution_count": 44,
     "metadata": {},
     "output_type": "execute_result"
    }
   ],
   "source": [
    "vectorize_layer = TextVectorization(\n",
    " max_tokens=15000,\n",
    " output_mode='int',\n",
    " output_sequence_length=len(max(text_TASH )))\n",
    "\n",
    "vocab = set_array(text_TASH )\n",
    "\n",
    "vectorize_layer.adapt(np.unique(vocab))\n",
    "len(vectorize_layer.get_vocabulary())\n"
   ]
  },
  {
   "cell_type": "code",
   "execution_count": 46,
   "metadata": {},
   "outputs": [
    {
     "name": "stdout",
     "output_type": "stream",
     "text": [
      "Epoch 1/5\n",
      "22/22 [==============================] - 5s 242ms/step - loss: 1.0977 - accuracy: 0.3653 - val_loss: 1.0978 - val_accuracy: 0.3754\n",
      "Epoch 2/5\n",
      "22/22 [==============================] - 4s 163ms/step - loss: 1.0923 - accuracy: 0.3653 - val_loss: 1.0989 - val_accuracy: 0.3754\n",
      "Epoch 3/5\n",
      "22/22 [==============================] - 4s 168ms/step - loss: 1.0315 - accuracy: 0.4507 - val_loss: 1.1093 - val_accuracy: 0.3093\n",
      "Epoch 4/5\n",
      "22/22 [==============================] - 4s 165ms/step - loss: 0.8322 - accuracy: 0.6085 - val_loss: 1.2052 - val_accuracy: 0.3083\n",
      "Epoch 5/5\n",
      "22/22 [==============================] - 4s 170ms/step - loss: 0.6860 - accuracy: 0.7008 - val_loss: 1.2670 - val_accuracy: 0.3372\n"
     ]
    }
   ],
   "source": [
    "model = tf.keras.Sequential([\n",
    "    vectorize_layer,\n",
    "    tf.keras.layers.Embedding(\n",
    "        input_dim=len(vectorize_layer.get_vocabulary()),\n",
    "        output_dim=64,mask_zero=True),\n",
    "    \n",
    "    tf.keras.layers.LSTM(50, activation='relu' ,return_sequences=True),\n",
    "    tf.keras.layers.Dropout(0.3),\n",
    "    \n",
    "    tf.keras.layers.LSTM(25 , activation='tanh', return_sequences=True),\n",
    "    tf.keras.layers.Dropout(0.3),\n",
    "    \n",
    "    tf.keras.layers.LSTM(10 , activation='tanh'),\n",
    "    tf.keras.layers.Dropout(0.2),\n",
    "    \n",
    "    tf.keras.layers.Dense(3, activation='softmax')\n",
    "])\n",
    "\n",
    "\n",
    "model.compile(\n",
    "    optimizer= tf.keras.optimizers.Adam(),\n",
    "    loss=tf.keras.losses.categorical_crossentropy,\n",
    "    metrics=['accuracy']\n",
    ")\n",
    "\n",
    "y_one = one.fit_transform(np.asarray(sentiment_).reshape(-1,1))\n",
    "y_one_test = one.fit_transform(np.asarray(polarity).reshape(-1,1))\n",
    "\n",
    "fit = model.fit(np.asarray(pre_X(text_TASH)), y_one, epochs=5, batch_size=128 ,validation_data=(np.asarray(pre_X(df_all['Tweet'])), y_one_test))"
   ]
  },
  {
   "cell_type": "code",
   "execution_count": 47,
   "metadata": {},
   "outputs": [
    {
     "name": "stdout",
     "output_type": "stream",
     "text": [
      "              precision    recall  f1-score   support\n",
      "\n",
      "           0       0.34      0.40      0.37      4186\n",
      "           1       0.35      0.19      0.24      4740\n",
      "           2       0.33      0.46      0.38      3700\n",
      "\n",
      "    accuracy                           0.34     12626\n",
      "   macro avg       0.34      0.35      0.33     12626\n",
      "weighted avg       0.34      0.34      0.33     12626\n",
      "\n"
     ]
    }
   ],
   "source": [
    "predicted = model.predict(np.asarray(pre_X(df_all['Tweet'])))\n",
    "\n",
    "print(classification_report(np.argmax(one.fit_transform(np.asarray(polarity).reshape(-1,1)), axis=1), np.argmax(predicted, axis=1)))"
   ]
  },
  {
   "cell_type": "markdown",
   "metadata": {},
   "source": [
    "## TWEET"
   ]
  },
  {
   "cell_type": "code",
   "execution_count": 48,
   "metadata": {},
   "outputs": [
    {
     "name": "stdout",
     "output_type": "stream",
     "text": [
      "              precision    recall  f1-score   support\n",
      "\n",
      "           0       0.30      0.37      0.33      3388\n",
      "           1       0.27      0.26      0.26      2928\n",
      "           2       0.53      0.47      0.50      5217\n",
      "\n",
      "    accuracy                           0.38     11533\n",
      "   macro avg       0.37      0.36      0.36     11533\n",
      "weighted avg       0.39      0.38      0.39     11533\n",
      "\n"
     ]
    }
   ],
   "source": [
    "predicted = model.predict(np.asarray(pre_X(text_Tweetsent)))\n",
    "\n",
    "print(classification_report(np.argmax(one.fit_transform(np.asarray(polarity_).reshape(-1,1)), axis=1), np.argmax(predicted, axis=1)))"
   ]
  },
  {
   "cell_type": "markdown",
   "metadata": {},
   "source": [
    "## KANSOAN"
   ]
  },
  {
   "cell_type": "code",
   "execution_count": 49,
   "metadata": {},
   "outputs": [
    {
     "name": "stdout",
     "output_type": "stream",
     "text": [
      "              precision    recall  f1-score   support\n",
      "\n",
      "           0       0.64      0.37      0.47      4504\n",
      "           1       0.00      1.00      0.00         0\n",
      "           2       0.63      0.69      0.66      4720\n",
      "\n",
      "    accuracy                           0.54      9224\n",
      "   macro avg       0.42      0.69      0.38      9224\n",
      "weighted avg       0.64      0.54      0.57      9224\n",
      "\n"
     ]
    }
   ],
   "source": [
    "predicted = model.predict(np.asarray(pre_X(text_KANSOAN)))\n",
    "\n",
    "print(classification_report(np.argmax(Y_KANSOAN, axis=1), np.argmax(predicted, axis=1),zero_division=True))"
   ]
  },
  {
   "cell_type": "markdown",
   "metadata": {},
   "source": [
    "## CONV1D T TASH T KANSOAN"
   ]
  },
  {
   "cell_type": "code",
   "execution_count": 50,
   "metadata": {},
   "outputs": [
    {
     "name": "stdout",
     "output_type": "stream",
     "text": [
      "Epoch 1/5\n",
      "22/22 [==============================] - 1s 31ms/step - loss: 1.0968 - accuracy: 0.3685 - val_loss: 1.1462 - val_accuracy: 0.0000e+00\n",
      "Epoch 2/5\n",
      "22/22 [==============================] - 1s 25ms/step - loss: 1.0602 - accuracy: 0.4636 - val_loss: 1.1136 - val_accuracy: 0.1969\n",
      "Epoch 3/5\n",
      "22/22 [==============================] - 1s 25ms/step - loss: 0.9753 - accuracy: 0.6972 - val_loss: 1.1228 - val_accuracy: 0.2384\n",
      "Epoch 4/5\n",
      "22/22 [==============================] - 1s 27ms/step - loss: 0.7578 - accuracy: 0.8895 - val_loss: 1.0672 - val_accuracy: 0.4165\n",
      "Epoch 5/5\n",
      "22/22 [==============================] - 1s 23ms/step - loss: 0.4135 - accuracy: 0.9523 - val_loss: 1.0047 - val_accuracy: 0.4906\n"
     ]
    }
   ],
   "source": [
    "model = tf.keras.Sequential([\n",
    "    vectorize_layer,\n",
    "    tf.keras.layers.Embedding(\n",
    "        input_dim=len(vectorize_layer.get_vocabulary()),\n",
    "        output_dim=64,\n",
    "        mask_zero=True),\n",
    "    \n",
    "    tf.keras.layers.Conv1D(32,6, activation='relu'),\n",
    "    tf.keras.layers.MaxPooling1D(2),\n",
    "    tf.keras.layers.Flatten(),\n",
    "    \n",
    "    tf.keras.layers.Dense(16, activation='relu'),\n",
    "    tf.keras.layers.Dense(3, activation='softmax')   \n",
    "])\n",
    "\n",
    "model.compile(\n",
    "    optimizer= tf.keras.optimizers.Adam(),\n",
    "    loss=tf.keras.losses.categorical_crossentropy,\n",
    "    metrics=['accuracy']\n",
    ")\n",
    "\n",
    "y_one = one.fit_transform(np.asarray(sentiment_).reshape(-1,1))\n",
    "y_one_test = Y_KANSOAN\n",
    "\n",
    "fit = model.fit(np.asarray(pre_X(text_TASH)), y_one, epochs=5, batch_size=128, validation_data=(np.asarray(pre_X(text_KANSOAN)),Y_KANSOAN))"
   ]
  },
  {
   "cell_type": "code",
   "execution_count": 51,
   "metadata": {},
   "outputs": [
    {
     "name": "stdout",
     "output_type": "stream",
     "text": [
      "              precision    recall  f1-score   support\n",
      "\n",
      "           0       0.66      0.73      0.69      4504\n",
      "           1       0.00      1.00      0.00         0\n",
      "           2       0.81      0.27      0.40      4720\n",
      "\n",
      "    accuracy                           0.49      9224\n",
      "   macro avg       0.49      0.66      0.36      9224\n",
      "weighted avg       0.74      0.49      0.54      9224\n",
      "\n"
     ]
    }
   ],
   "source": [
    "predicted = model.predict(np.asarray(pre_X(text_KANSOAN)))\n",
    "\n",
    "print(classification_report(np.argmax(Y_KANSOAN, axis=1), np.argmax(predicted, axis=1),zero_division=True))"
   ]
  },
  {
   "cell_type": "markdown",
   "metadata": {},
   "source": [
    "## TWEET"
   ]
  },
  {
   "cell_type": "code",
   "execution_count": 52,
   "metadata": {},
   "outputs": [
    {
     "name": "stdout",
     "output_type": "stream",
     "text": [
      "              precision    recall  f1-score   support\n",
      "\n",
      "           0       0.29      0.55      0.38      3388\n",
      "           1       0.25      0.32      0.28      2928\n",
      "           2       0.55      0.13      0.21      5217\n",
      "\n",
      "    accuracy                           0.30     11533\n",
      "   macro avg       0.36      0.34      0.29     11533\n",
      "weighted avg       0.40      0.30      0.28     11533\n",
      "\n"
     ]
    }
   ],
   "source": [
    "predicted = model.predict(np.asarray(pre_X(text_Tweetsent)))\n",
    "\n",
    "print(classification_report(np.argmax(one.fit_transform(np.asarray(polarity_).reshape(-1,1)), axis=1), np.argmax(predicted, axis=1)))"
   ]
  },
  {
   "cell_type": "markdown",
   "metadata": {},
   "source": [
    "## UNILEX"
   ]
  },
  {
   "cell_type": "code",
   "execution_count": 53,
   "metadata": {},
   "outputs": [
    {
     "name": "stdout",
     "output_type": "stream",
     "text": [
      "              precision    recall  f1-score   support\n",
      "\n",
      "           0       0.34      0.65      0.44      4186\n",
      "           1       0.35      0.27      0.31      4740\n",
      "           2       0.39      0.09      0.15      3700\n",
      "\n",
      "    accuracy                           0.34     12626\n",
      "   macro avg       0.36      0.34      0.30     12626\n",
      "weighted avg       0.36      0.34      0.30     12626\n",
      "\n"
     ]
    }
   ],
   "source": [
    "predicted = model.predict(np.asarray(pre_X(df_all['Tweet'])))\n",
    "\n",
    "print(classification_report(np.argmax(one.fit_transform(np.asarray(polarity).reshape(-1,1)), axis=1), np.argmax(predicted, axis=1)))"
   ]
  },
  {
   "cell_type": "markdown",
   "metadata": {},
   "source": [
    "## BDR T TASH T TWEET"
   ]
  },
  {
   "cell_type": "code",
   "execution_count": 63,
   "metadata": {
    "scrolled": true
   },
   "outputs": [
    {
     "name": "stdout",
     "output_type": "stream",
     "text": [
      "Epoch 1/20\n",
      "22/22 [==============================] - 2s 112ms/step - loss: 1.0983 - accuracy: 0.3671 - val_loss: 1.1013 - val_accuracy: 0.2539\n",
      "Epoch 2/20\n",
      "22/22 [==============================] - 1s 34ms/step - loss: 1.0970 - accuracy: 0.3653 - val_loss: 1.1025 - val_accuracy: 0.2539\n",
      "Epoch 3/20\n",
      "22/22 [==============================] - 1s 33ms/step - loss: 1.0959 - accuracy: 0.3653 - val_loss: 1.1048 - val_accuracy: 0.2539\n",
      "Epoch 4/20\n",
      "22/22 [==============================] - 1s 31ms/step - loss: 1.0943 - accuracy: 0.3653 - val_loss: 1.1069 - val_accuracy: 0.2539\n",
      "Epoch 5/20\n",
      "22/22 [==============================] - 1s 32ms/step - loss: 1.0914 - accuracy: 0.3653 - val_loss: 1.1077 - val_accuracy: 0.2539\n",
      "Epoch 6/20\n",
      "22/22 [==============================] - 1s 32ms/step - loss: 1.0856 - accuracy: 0.3742 - val_loss: 1.1077 - val_accuracy: 0.2539\n",
      "Epoch 7/20\n",
      "22/22 [==============================] - 1s 32ms/step - loss: 1.0729 - accuracy: 0.4216 - val_loss: 1.1099 - val_accuracy: 0.2542\n",
      "Epoch 8/20\n",
      "22/22 [==============================] - 1s 32ms/step - loss: 1.0485 - accuracy: 0.4797 - val_loss: 1.1109 - val_accuracy: 0.2565\n",
      "Epoch 9/20\n",
      "22/22 [==============================] - 1s 34ms/step - loss: 1.0151 - accuracy: 0.5271 - val_loss: 1.1123 - val_accuracy: 0.2617\n",
      "Epoch 10/20\n",
      "22/22 [==============================] - 1s 34ms/step - loss: 0.9799 - accuracy: 0.5569 - val_loss: 1.1157 - val_accuracy: 0.2693\n",
      "Epoch 11/20\n",
      "22/22 [==============================] - 1s 31ms/step - loss: 0.9466 - accuracy: 0.5630 - val_loss: 1.1162 - val_accuracy: 0.2781\n",
      "Epoch 12/20\n",
      "22/22 [==============================] - 1s 31ms/step - loss: 0.9136 - accuracy: 0.5863 - val_loss: 1.1246 - val_accuracy: 0.2816\n",
      "Epoch 13/20\n",
      "22/22 [==============================] - 1s 33ms/step - loss: 0.8821 - accuracy: 0.5999 - val_loss: 1.1303 - val_accuracy: 0.2834\n",
      "Epoch 14/20\n",
      "22/22 [==============================] - 1s 35ms/step - loss: 0.8536 - accuracy: 0.6136 - val_loss: 1.1351 - val_accuracy: 0.2921\n",
      "Epoch 15/20\n",
      "22/22 [==============================] - 1s 36ms/step - loss: 0.8231 - accuracy: 0.6200 - val_loss: 1.1418 - val_accuracy: 0.3039\n",
      "Epoch 16/20\n",
      "22/22 [==============================] - 1s 33ms/step - loss: 0.7940 - accuracy: 0.6315 - val_loss: 1.1473 - val_accuracy: 0.3101\n",
      "Epoch 17/20\n",
      "22/22 [==============================] - 1s 32ms/step - loss: 0.7688 - accuracy: 0.6412 - val_loss: 1.1610 - val_accuracy: 0.3172\n",
      "Epoch 18/20\n",
      "22/22 [==============================] - 1s 32ms/step - loss: 0.7409 - accuracy: 0.6387 - val_loss: 1.1451 - val_accuracy: 0.3397\n",
      "Epoch 19/20\n",
      "22/22 [==============================] - 1s 34ms/step - loss: 0.7245 - accuracy: 0.6459 - val_loss: 1.1706 - val_accuracy: 0.3344\n",
      "Epoch 20/20\n",
      "22/22 [==============================] - 1s 31ms/step - loss: 0.6915 - accuracy: 0.6645 - val_loss: 1.1660 - val_accuracy: 0.3591\n"
     ]
    }
   ],
   "source": [
    "model = tf.keras.Sequential([\n",
    "    vectorize_layer,\n",
    "    tf.keras.layers.Embedding(\n",
    "        input_dim=len(vectorize_layer.get_vocabulary()),\n",
    "        output_dim=1,\n",
    "        mask_zero=True),\n",
    "    tf.keras.layers.Bidirectional(tf.keras.layers.LSTM(1)),\n",
    "\n",
    "    tf.keras.layers.Dense(3, activation='softmax')\n",
    "])\n",
    "\n",
    "model.compile(\n",
    "    optimizer= tf.keras.optimizers.Adam(),\n",
    "    loss=tf.keras.losses.categorical_crossentropy,\n",
    "    metrics=['accuracy']\n",
    ")\n",
    "\n",
    "y_one = one.fit_transform(np.asarray(sentiment_).reshape(-1,1))\n",
    "y_one_test = one.fit_transform(np.asarray(polarity_).reshape(-1,1))\n",
    "\n",
    "fit = model.fit(np.asarray(pre_X(text_TASH)), y_one, epochs=20, batch_size=128 ,validation_data=(np.asarray(pre_X(text_Tweetsent)), y_one_test))"
   ]
  },
  {
   "cell_type": "code",
   "execution_count": 64,
   "metadata": {},
   "outputs": [
    {
     "name": "stdout",
     "output_type": "stream",
     "text": [
      "              precision    recall  f1-score   support\n",
      "\n",
      "           0       0.33      0.37      0.35      3388\n",
      "           1       0.28      0.50      0.36      2928\n",
      "           2       0.57      0.27      0.37      5217\n",
      "\n",
      "    accuracy                           0.36     11533\n",
      "   macro avg       0.39      0.38      0.36     11533\n",
      "weighted avg       0.43      0.36      0.36     11533\n",
      "\n"
     ]
    }
   ],
   "source": [
    "predicted = model.predict(np.asarray(pre_X(text_Tweetsent)))\n",
    "\n",
    "print(classification_report(np.argmax(one.fit_transform(np.asarray(polarity_).reshape(-1,1)), axis=1), np.argmax(predicted, axis=1),zero_division=True))"
   ]
  },
  {
   "cell_type": "markdown",
   "metadata": {},
   "source": [
    "## UNILEX"
   ]
  },
  {
   "cell_type": "code",
   "execution_count": 65,
   "metadata": {},
   "outputs": [
    {
     "name": "stdout",
     "output_type": "stream",
     "text": [
      "              precision    recall  f1-score   support\n",
      "\n",
      "           0       0.29      0.29      0.29      4186\n",
      "           1       0.39      0.63      0.48      4740\n",
      "           2       0.38      0.09      0.14      3700\n",
      "\n",
      "    accuracy                           0.36     12626\n",
      "   macro avg       0.36      0.34      0.31     12626\n",
      "weighted avg       0.36      0.36      0.32     12626\n",
      "\n"
     ]
    }
   ],
   "source": [
    "predicted = model.predict(np.asarray(pre_X(df_all['Tweet'])))\n",
    "\n",
    "print(classification_report(np.argmax(one.fit_transform(np.asarray(polarity).reshape(-1,1)), axis=1), np.argmax(predicted, axis=1)))"
   ]
  },
  {
   "cell_type": "markdown",
   "metadata": {},
   "source": [
    "## KANSOAN"
   ]
  },
  {
   "cell_type": "code",
   "execution_count": 66,
   "metadata": {},
   "outputs": [
    {
     "name": "stdout",
     "output_type": "stream",
     "text": [
      "              precision    recall  f1-score   support\n",
      "\n",
      "           0       0.57      0.44      0.50      4504\n",
      "           1       0.00      1.00      0.00         0\n",
      "           2       0.89      0.51      0.65      4720\n",
      "\n",
      "    accuracy                           0.48      9224\n",
      "   macro avg       0.48      0.65      0.38      9224\n",
      "weighted avg       0.73      0.48      0.58      9224\n",
      "\n"
     ]
    }
   ],
   "source": [
    "predicted = model.predict(np.asarray(pre_X(text_KANSOAN)))\n",
    "\n",
    "print(classification_report(np.argmax(Y_KANSOAN, axis=1), np.argmax(predicted, axis=1),zero_division=True))"
   ]
  },
  {
   "cell_type": "code",
   "execution_count": null,
   "metadata": {},
   "outputs": [],
   "source": []
  }
 ],
 "metadata": {
  "kernelspec": {
   "display_name": "Python 3",
   "language": "python",
   "name": "python3"
  },
  "language_info": {
   "codemirror_mode": {
    "name": "ipython",
    "version": 3
   },
   "file_extension": ".py",
   "mimetype": "text/x-python",
   "name": "python",
   "nbconvert_exporter": "python",
   "pygments_lexer": "ipython3",
   "version": "3.7.9"
  }
 },
 "nbformat": 4,
 "nbformat_minor": 4
}
