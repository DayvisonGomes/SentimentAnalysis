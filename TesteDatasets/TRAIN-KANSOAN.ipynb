{
 "cells": [
  {
   "cell_type": "code",
   "execution_count": 39,
   "metadata": {},
   "outputs": [
    {
     "name": "stderr",
     "output_type": "stream",
     "text": [
      "[nltk_data] Downloading package stopwords to\n",
      "[nltk_data]     C:\\Users\\ddayv\\AppData\\Roaming\\nltk_data...\n",
      "[nltk_data]   Package stopwords is already up-to-date!\n",
      "[nltk_data] Downloading package wordnet to\n",
      "[nltk_data]     C:\\Users\\ddayv\\AppData\\Roaming\\nltk_data...\n",
      "[nltk_data]   Package wordnet is already up-to-date!\n"
     ]
    },
    {
     "data": {
      "text/plain": [
       "True"
      ]
     },
     "execution_count": 39,
     "metadata": {},
     "output_type": "execute_result"
    }
   ],
   "source": [
    "import pandas as pd\n",
    "import numpy as np\n",
    "from sklearn.feature_extraction.text import CountVectorizer\n",
    "from sklearn.feature_extraction.text import TfidfTransformer\n",
    "from sklearn.naive_bayes import MultinomialNB\n",
    "from sklearn.model_selection import train_test_split\n",
    "from sklearn.metrics import classification_report\n",
    "import seaborn as sns\n",
    "import re\n",
    "import random as rd\n",
    "import tensorflow as tf\n",
    "from tensorflow.keras.layers.experimental.preprocessing import TextVectorization\n",
    "from nltk import word_tokenize, RegexpTokenizer\n",
    "from nltk.corpus import stopwords, wordnet\n",
    "from sklearn.preprocessing import OneHotEncoder\n",
    "import matplotlib.pyplot as plt\n",
    "import autokeras as ak\n",
    "from sklearn.model_selection import KFold\n",
    "\n",
    "import nltk\n",
    "from sklearn.svm import SVC\n",
    "from sklearn.linear_model import LogisticRegression\n",
    "nltk.download('stopwords')\n",
    "nltk.download('wordnet')"
   ]
  },
  {
   "cell_type": "code",
   "execution_count": 40,
   "metadata": {},
   "outputs": [],
   "source": [
    "def Tokenize(f):     ## Pre-processando a frase\n",
    "\n",
    "    ## Colocando em minusculo\n",
    "    ## Retirando a pontuaçao\n",
    "    ## Retirando as StopWords\n",
    "    \n",
    "    f = f.lower().replace('\\n', '').replace('-','').replace('#','').replace('.','').replace(',','').replace('!','').replace('r\\n','').replace('  ','').replace('https','').replace('rt','').replace('rn','')\n",
    "    token = RegexpTokenizer(r\"\\w+\")\n",
    "    f = token.tokenize(f)\n",
    "    \n",
    "    stop_words = set(stopwords.words('portuguese'))\n",
    "    \n",
    "    new_word = [word for word in f if not word in stop_words]\n",
    "    \n",
    "    return ' '.join(new_word)\n",
    "\n",
    "def remove_user(frase):\n",
    "    frase = re.sub('@\\w+','',frase)\n",
    "    frase = re.sub('{https}[^ ]+','',frase)\n",
    "    frase = re.sub('https\\w+','',frase)\n",
    "    # re.sub('#\\w+','',frase)\n",
    "    return frase\n",
    "\n",
    "def pre_X(frases):\n",
    "    lista = []\n",
    "    \n",
    "    for frase in frases:\n",
    "        lista.append(frase)\n",
    "        \n",
    "    return lista\n",
    "\n",
    "def pre_Y(number):\n",
    "    lista = []\n",
    "    \n",
    "    for numb in number:\n",
    "        lista.append(numb)\n",
    "    \n",
    "    return lista\n",
    "\n",
    "def set_array(frases):\n",
    "    \n",
    "    vocab = []\n",
    "    palavras = []\n",
    "    for frase in frases:\n",
    "        \n",
    "        text_array = remove_user(frase)\n",
    "        text_array = Tokenize(text_array)\n",
    "        text_array = text_array.split(' ')\n",
    "        for i in range(len(text_array)):\n",
    "            vocab.append(text_array[i])\n",
    "    \n",
    "    \n",
    "        \n",
    "    return vocab\n"
   ]
  },
  {
   "cell_type": "markdown",
   "metadata": {},
   "source": [
    "## TWEETSENT"
   ]
  },
  {
   "cell_type": "code",
   "execution_count": 49,
   "metadata": {},
   "outputs": [
    {
     "data": {
      "text/html": [
       "<div>\n",
       "<style scoped>\n",
       "    .dataframe tbody tr th:only-of-type {\n",
       "        vertical-align: middle;\n",
       "    }\n",
       "\n",
       "    .dataframe tbody tr th {\n",
       "        vertical-align: top;\n",
       "    }\n",
       "\n",
       "    .dataframe thead th {\n",
       "        text-align: right;\n",
       "    }\n",
       "</style>\n",
       "<table border=\"1\" class=\"dataframe\">\n",
       "  <thead>\n",
       "    <tr style=\"text-align: right;\">\n",
       "      <th></th>\n",
       "      <th>id</th>\n",
       "      <th>id_twitter</th>\n",
       "      <th>text</th>\n",
       "      <th>sentiment</th>\n",
       "    </tr>\n",
       "  </thead>\n",
       "  <tbody>\n",
       "    <tr>\n",
       "      <th>0</th>\n",
       "      <td>1343</td>\n",
       "      <td>863044774588272640</td>\n",
       "      <td>Que coisa linda! O Programa #encontro estava m...</td>\n",
       "      <td>1</td>\n",
       "    </tr>\n",
       "    <tr>\n",
       "      <th>1</th>\n",
       "      <td>1344</td>\n",
       "      <td>865583716088766467</td>\n",
       "      <td>Por mais #Encontro com as Irmãs Galvão, adorei...</td>\n",
       "      <td>1</td>\n",
       "    </tr>\n",
       "    <tr>\n",
       "      <th>2</th>\n",
       "      <td>1345</td>\n",
       "      <td>865063232201011201</td>\n",
       "      <td>Mr. CATRA @OficialMrCatra lançando sua nova mú...</td>\n",
       "      <td>1</td>\n",
       "    </tr>\n",
       "    <tr>\n",
       "      <th>3</th>\n",
       "      <td>1346</td>\n",
       "      <td>864668391008763905</td>\n",
       "      <td>quem viu aquela lutadora modela barbuda tatuad...</td>\n",
       "      <td>0</td>\n",
       "    </tr>\n",
       "    <tr>\n",
       "      <th>4</th>\n",
       "      <td>1347</td>\n",
       "      <td>865572794016378882</td>\n",
       "      <td>Tô passada com esse cara.... quanta merda pode...</td>\n",
       "      <td>-1</td>\n",
       "    </tr>\n",
       "    <tr>\n",
       "      <th>...</th>\n",
       "      <td>...</td>\n",
       "      <td>...</td>\n",
       "      <td>...</td>\n",
       "      <td>...</td>\n",
       "    </tr>\n",
       "    <tr>\n",
       "      <th>11565</th>\n",
       "      <td>12908</td>\n",
       "      <td>864636619000877056</td>\n",
       "      <td>eu ja to aqui pronto pro #MasterChefBR mas ain...</td>\n",
       "      <td>-1</td>\n",
       "    </tr>\n",
       "    <tr>\n",
       "      <th>11566</th>\n",
       "      <td>12909</td>\n",
       "      <td>863581588713603072</td>\n",
       "      <td>MALUCO! Uma coisa que eu não tenho coragem é e...</td>\n",
       "      <td>-1</td>\n",
       "    </tr>\n",
       "    <tr>\n",
       "      <th>11567</th>\n",
       "      <td>12910</td>\n",
       "      <td>864831041349054464</td>\n",
       "      <td>#MaisVoce @ANAMARIABRAGA  está linda @RedeGlobo</td>\n",
       "      <td>1</td>\n",
       "    </tr>\n",
       "    <tr>\n",
       "      <th>11568</th>\n",
       "      <td>12911</td>\n",
       "      <td>863042798575951872</td>\n",
       "      <td>Que orgulho de ti, @sportrecife! #Encontro</td>\n",
       "      <td>1</td>\n",
       "    </tr>\n",
       "    <tr>\n",
       "      <th>11569</th>\n",
       "      <td>12912</td>\n",
       "      <td>864681041541386240</td>\n",
       "      <td>Gente olha o bíceps desse padre #ConversaComBial</td>\n",
       "      <td>1</td>\n",
       "    </tr>\n",
       "  </tbody>\n",
       "</table>\n",
       "<p>11570 rows × 4 columns</p>\n",
       "</div>"
      ],
      "text/plain": [
       "          id          id_twitter  \\\n",
       "0       1343  863044774588272640   \n",
       "1       1344  865583716088766467   \n",
       "2       1345  865063232201011201   \n",
       "3       1346  864668391008763905   \n",
       "4       1347  865572794016378882   \n",
       "...      ...                 ...   \n",
       "11565  12908  864636619000877056   \n",
       "11566  12909  863581588713603072   \n",
       "11567  12910  864831041349054464   \n",
       "11568  12911  863042798575951872   \n",
       "11569  12912  864681041541386240   \n",
       "\n",
       "                                                    text sentiment  \n",
       "0      Que coisa linda! O Programa #encontro estava m...         1  \n",
       "1      Por mais #Encontro com as Irmãs Galvão, adorei...         1  \n",
       "2      Mr. CATRA @OficialMrCatra lançando sua nova mú...         1  \n",
       "3      quem viu aquela lutadora modela barbuda tatuad...         0  \n",
       "4      Tô passada com esse cara.... quanta merda pode...        -1  \n",
       "...                                                  ...       ...  \n",
       "11565  eu ja to aqui pronto pro #MasterChefBR mas ain...        -1  \n",
       "11566  MALUCO! Uma coisa que eu não tenho coragem é e...        -1  \n",
       "11567    #MaisVoce @ANAMARIABRAGA  está linda @RedeGlobo         1  \n",
       "11568         Que orgulho de ti, @sportrecife! #Encontro         1  \n",
       "11569   Gente olha o bíceps desse padre #ConversaComBial         1  \n",
       "\n",
       "[11570 rows x 4 columns]"
      ]
     },
     "execution_count": 49,
     "metadata": {},
     "output_type": "execute_result"
    }
   ],
   "source": [
    "df_tweet= pd.read_csv('export_TweetSentBR.csv')\n",
    "df_tweet"
   ]
  },
  {
   "cell_type": "code",
   "execution_count": 50,
   "metadata": {},
   "outputs": [],
   "source": [
    "df_remove = df_tweet[df_tweet['sentiment'] == '-']\n",
    "df_tweet = df_tweet.drop(df_remove.index)\n",
    "\n",
    "df_tweet['text'] = df_tweet['text'].apply(remove_user)\n",
    "df_tweet['text'] = df_tweet['text'].apply(Tokenize)"
   ]
  },
  {
   "cell_type": "code",
   "execution_count": 51,
   "metadata": {},
   "outputs": [],
   "source": [
    "df_tweet['sentiment'] = df_tweet['sentiment'].apply(lambda x: int(x))"
   ]
  },
  {
   "cell_type": "code",
   "execution_count": 52,
   "metadata": {},
   "outputs": [],
   "source": [
    "text_Tweetsent = df_tweet['text']\n",
    "polarity = np.asarray(df_tweet['sentiment'])"
   ]
  },
  {
   "cell_type": "code",
   "execution_count": 53,
   "metadata": {},
   "outputs": [
    {
     "data": {
      "text/plain": [
       "(11533, 25852)"
      ]
     },
     "execution_count": 53,
     "metadata": {},
     "output_type": "execute_result"
    }
   ],
   "source": [
    "X_text = count_vect.transform(text_Tweetsent)\n",
    "\n",
    "X_text_transform = tfidf_transformer.transform(X_text) # Aplicando o TF-IDF\n",
    "X_text_transform.shape"
   ]
  },
  {
   "cell_type": "code",
   "execution_count": 54,
   "metadata": {},
   "outputs": [],
   "source": [
    "X_train1, X_test_TWEET, Y_train1, Y_test_TWEET = train_test_split(X_text_transform, polarity, test_size=0.3)"
   ]
  },
  {
   "cell_type": "code",
   "execution_count": 55,
   "metadata": {},
   "outputs": [],
   "source": [
    "X_train12, X_test_TWEET1, Y_train12, Y_test_TWEET1 = train_test_split(df_tweet['text'], df_tweet['sentiment'] , test_size=0.3)"
   ]
  },
  {
   "cell_type": "markdown",
   "metadata": {},
   "source": [
    "## TASH"
   ]
  },
  {
   "cell_type": "code",
   "execution_count": 56,
   "metadata": {},
   "outputs": [],
   "source": [
    "df = pd.read_csv(\"tash-pt.csv\")\n",
    "df = df.dropna()\n",
    "df = df.drop(columns=['id_twitter'])\n"
   ]
  },
  {
   "cell_type": "code",
   "execution_count": 57,
   "metadata": {},
   "outputs": [],
   "source": [
    "df['text'] = df['text'].apply(remove_user)\n",
    "df['text'] = df['text'].apply(Tokenize)"
   ]
  },
  {
   "cell_type": "code",
   "execution_count": 58,
   "metadata": {},
   "outputs": [
    {
     "data": {
      "text/plain": [
       "(2787, 25852)"
      ]
     },
     "execution_count": 58,
     "metadata": {},
     "output_type": "execute_result"
    }
   ],
   "source": [
    "text_TASH = df['text']\n",
    "sentiment = np.asarray(df['sentiment'])\n",
    "\n",
    "X_text_TASH = count_vect.transform(text_TASH)\n",
    "X_text_TASH_ = tfidf_transformer.transform(X_text_TASH) # Aplicando o TF-IDF\n",
    "X_text_TASH_.shape"
   ]
  },
  {
   "cell_type": "code",
   "execution_count": 59,
   "metadata": {},
   "outputs": [],
   "source": [
    "X_train2, X_test_TASH, Y_train2, Y_test_TASH = train_test_split(X_text_TASH_, sentiment, test_size=0.3)"
   ]
  },
  {
   "cell_type": "code",
   "execution_count": 60,
   "metadata": {},
   "outputs": [],
   "source": [
    "X_train21, X_test_TASH21, Y_train21, Y_test_TASH21 = train_test_split(df['text'], np.asarray(df['sentiment']), test_size=0.3)"
   ]
  },
  {
   "cell_type": "markdown",
   "metadata": {},
   "source": [
    "## KANSOAN"
   ]
  },
  {
   "cell_type": "code",
   "execution_count": 61,
   "metadata": {},
   "outputs": [],
   "source": [
    "df = pd.read_csv(\"data.txt\", sep=',', header=None, names=['text','sentiment'])\n",
    "\n",
    "df_remove = df[df['sentiment'] == '#Inveja'].index\n",
    "df = df.drop(df_remove)\n",
    "\n",
    "df_remove = df[df['sentiment'] == '#Raiva'].index\n",
    "df = df.drop(df_remove)\n",
    "\n",
    "df_remove = df[df['sentiment'] == '#Ironia'].index\n",
    "df = df.drop(df_remove)\n",
    "\n",
    "\n",
    "def binario(termo):\n",
    "    if termo == '#Feliz' or termo == '#Amor':\n",
    "        return 1\n",
    "    elif termo == '#Triste' or termo == '#Chateado':\n",
    "        return 0       \n",
    "    \n",
    "df['sentiment'] = df['sentiment'].apply(binario)"
   ]
  },
  {
   "cell_type": "code",
   "execution_count": 62,
   "metadata": {},
   "outputs": [],
   "source": [
    "df['text'] = df['text'].apply(remove_user)\n",
    "df['text'] = df['text'].apply(Tokenize)"
   ]
  },
  {
   "cell_type": "code",
   "execution_count": 63,
   "metadata": {},
   "outputs": [
    {
     "data": {
      "text/plain": [
       "(9224, 25852)"
      ]
     },
     "execution_count": 63,
     "metadata": {},
     "output_type": "execute_result"
    }
   ],
   "source": [
    "text_KANSOAN = df['text']\n",
    "sentiment = np.asarray(df['sentiment'])\n",
    "\n",
    "X_text_KANSOAN = count_vect.transform(text_KANSOAN)\n",
    "X_text_KANSOAN_ = tfidf_transformer.transform(X_text_KANSOAN) # Aplicando o TF-IDF\n",
    "X_text_KANSOAN_.shape"
   ]
  },
  {
   "cell_type": "code",
   "execution_count": 64,
   "metadata": {},
   "outputs": [],
   "source": [
    "X_train3, X_test_KANSOAN, Y_train3, Y_test_KANSOAN = train_test_split(X_text_KANSOAN_, sentiment, test_size=0.3)"
   ]
  },
  {
   "cell_type": "code",
   "execution_count": 65,
   "metadata": {},
   "outputs": [],
   "source": [
    "X_train31, X_test_KANSOAN1, Y_train31, Y_test_KANSOAN1 = train_test_split(df['text'], np.asarray(df['sentiment']), test_size=0.3)"
   ]
  },
  {
   "cell_type": "markdown",
   "metadata": {},
   "source": [
    "## TEST"
   ]
  },
  {
   "cell_type": "code",
   "execution_count": 41,
   "metadata": {},
   "outputs": [
    {
     "data": {
      "text/plain": [
       "(12670, 2)"
      ]
     },
     "execution_count": 41,
     "metadata": {},
     "output_type": "execute_result"
    }
   ],
   "source": [
    "df = pd.read_excel('./rotulação/TweetsPolitical01 OK OK.xlsx')\n",
    "df2 = pd.read_excel('./rotulação/TweetsPolitical02 OK OK.xlsx')\n",
    "df3 = pd.read_excel('./rotulação/TweetsPolitical03 OK OK.xlsx')\n",
    "df4 = pd.read_excel('./rotulação/TweetsPolitical04 OK OK.xlsx')\n",
    "df5 = pd.read_excel('./rotulação/TweetsPolitical05 OK OK.xlsx')\n",
    "df6 = pd.read_excel('./rotulação/TweetsPolitical06 OK OK.xlsx')\n",
    "df7 = pd.read_excel('./rotulação/TweetsPolitical07 OK OK.xlsx')\n",
    "df8 = pd.read_excel('./rotulação/TweetsPolitical08 OK OK.xlsx')\n",
    "df9 = pd.read_excel('./rotulação/TweetsPolitical09 OK OK.xlsx')\n",
    "df10 = pd.read_excel('./rotulação/TweetsPolitical10 OK OK.xlsx')\n",
    "df11 = pd.read_excel('./rotulação/TweetsPolitical11 OK OK.xlsx')\n",
    "df12 = pd.read_excel('./rotulação/TweetsPolitical12 OK OK.xlsx')\n",
    "df13 = pd.read_excel('./rotulação/TweetsPolitical13 OK OK.xlsx')\n",
    "df14 = pd.read_excel('./rotulação/TweetsPolitical14 OK OK.xlsx')\n",
    "df15 = pd.read_excel('./rotulação/TweetsPolitical15 OK OK.xlsx')\n",
    "\n",
    "lista = [df,df2,df3,df4,df5,df6,df7,df8,df9,df10,df11,df12,df13,df14,df15]\n",
    "\n",
    "df_all = pd.concat(lista)\n",
    "df_all.shape"
   ]
  },
  {
   "cell_type": "code",
   "execution_count": 42,
   "metadata": {},
   "outputs": [],
   "source": [
    "df_all = df_all.dropna()"
   ]
  },
  {
   "cell_type": "code",
   "execution_count": 43,
   "metadata": {},
   "outputs": [
    {
     "data": {
      "text/plain": [
       "array([ 0.,  1., -1.])"
      ]
     },
     "execution_count": 43,
     "metadata": {},
     "output_type": "execute_result"
    }
   ],
   "source": [
    "df_all.drop(df_all[df_all['Polaridade'] == 11].index, inplace=True)\n",
    "df_all.drop(df_all[df_all['Polaridade'] == -2].index, inplace=True)\n",
    "df_all.drop(df_all[df_all['Polaridade'] == 10].index, inplace=True)\n",
    "\n",
    "df_all['Polaridade'].unique()"
   ]
  },
  {
   "cell_type": "code",
   "execution_count": 44,
   "metadata": {},
   "outputs": [
    {
     "data": {
      "text/html": [
       "<div>\n",
       "<style scoped>\n",
       "    .dataframe tbody tr th:only-of-type {\n",
       "        vertical-align: middle;\n",
       "    }\n",
       "\n",
       "    .dataframe tbody tr th {\n",
       "        vertical-align: top;\n",
       "    }\n",
       "\n",
       "    .dataframe thead th {\n",
       "        text-align: right;\n",
       "    }\n",
       "</style>\n",
       "<table border=\"1\" class=\"dataframe\">\n",
       "  <thead>\n",
       "    <tr style=\"text-align: right;\">\n",
       "      <th></th>\n",
       "      <th>Tweet</th>\n",
       "      <th>Polaridade</th>\n",
       "    </tr>\n",
       "  </thead>\n",
       "  <tbody>\n",
       "    <tr>\n",
       "      <th>0</th>\n",
       "      <td>- #CaoNossoDeCadaDia #Novo - Vanessa Mandotti ...</td>\n",
       "      <td>0.0</td>\n",
       "    </tr>\n",
       "    <tr>\n",
       "      <th>1</th>\n",
       "      <td>- Bola pra frente que amanhã é outro dia, outr...</td>\n",
       "      <td>1.0</td>\n",
       "    </tr>\n",
       "    <tr>\n",
       "      <th>2</th>\n",
       "      <td>- Cara de mal? Acho que não... Apenas um corte...</td>\n",
       "      <td>1.0</td>\n",
       "    </tr>\n",
       "    <tr>\n",
       "      <th>3</th>\n",
       "      <td>\" #PCdoB O PARTIDO QUE FAZ A DIFERENÇA: LEAL E...</td>\n",
       "      <td>1.0</td>\n",
       "    </tr>\n",
       "    <tr>\n",
       "      <th>4</th>\n",
       "      <td>\"@camaradamae: #PCdoB o Partido da coragem !  ...</td>\n",
       "      <td>1.0</td>\n",
       "    </tr>\n",
       "  </tbody>\n",
       "</table>\n",
       "</div>"
      ],
      "text/plain": [
       "                                               Tweet  Polaridade\n",
       "0  - #CaoNossoDeCadaDia #Novo - Vanessa Mandotti ...         0.0\n",
       "1  - Bola pra frente que amanhã é outro dia, outr...         1.0\n",
       "2  - Cara de mal? Acho que não... Apenas um corte...         1.0\n",
       "3  \" #PCdoB O PARTIDO QUE FAZ A DIFERENÇA: LEAL E...         1.0\n",
       "4  \"@camaradamae: #PCdoB o Partido da coragem !  ...         1.0"
      ]
     },
     "execution_count": 44,
     "metadata": {},
     "output_type": "execute_result"
    }
   ],
   "source": [
    "df_all.head()"
   ]
  },
  {
   "cell_type": "code",
   "execution_count": 45,
   "metadata": {},
   "outputs": [],
   "source": [
    "df_all['Tweet'] = df_all['Tweet'].apply(remove_user)\n",
    "df_all['Tweet'] = df_all['Tweet'].apply(Tokenize)\n",
    "polarity = np.asarray(df_all['Polaridade'])\n",
    "Tweet = df_all['Tweet']\n"
   ]
  },
  {
   "cell_type": "code",
   "execution_count": 46,
   "metadata": {},
   "outputs": [
    {
     "data": {
      "text/plain": [
       "(12626, 25852)"
      ]
     },
     "execution_count": 46,
     "metadata": {},
     "output_type": "execute_result"
    }
   ],
   "source": [
    "count_vect = CountVectorizer()\n",
    "\n",
    "Tweet = count_vect.fit_transform(Tweet)\n",
    "\n",
    "tfidf_transformer = TfidfTransformer()\n",
    "X_train_transform = tfidf_transformer.fit_transform(Tweet) # Aplicando o TF-IDF\n",
    "X_train_transform.shape"
   ]
  },
  {
   "cell_type": "code",
   "execution_count": 47,
   "metadata": {},
   "outputs": [],
   "source": [
    "X_train, X_test, Y_train, Y_test = train_test_split(X_train_transform, polarity, test_size=0.3)\n",
    "\n"
   ]
  },
  {
   "cell_type": "code",
   "execution_count": 48,
   "metadata": {},
   "outputs": [],
   "source": [
    "X_train_text, X_test_text, Y_train_text, Y_test_text = train_test_split(df_all['Tweet'] , df_all['Polaridade'], test_size=0.3)\n"
   ]
  },
  {
   "cell_type": "markdown",
   "metadata": {},
   "source": [
    "## NB - TRAIN -> KANSOAN - TEST -> TWEETSENT"
   ]
  },
  {
   "cell_type": "code",
   "execution_count": 66,
   "metadata": {},
   "outputs": [
    {
     "name": "stdout",
     "output_type": "stream",
     "text": [
      "              precision    recall  f1-score   support\n",
      "\n",
      "          -1       0.00      0.00      0.00      1013\n",
      "           0       0.27      0.60      0.38       904\n",
      "           1       0.57      0.55      0.56      1543\n",
      "\n",
      "    accuracy                           0.40      3460\n",
      "   macro avg       0.28      0.38      0.31      3460\n",
      "weighted avg       0.33      0.40      0.35      3460\n",
      "\n"
     ]
    },
    {
     "name": "stderr",
     "output_type": "stream",
     "text": [
      "c:\\users\\ddayv\\appdata\\local\\programs\\python\\python37\\lib\\site-packages\\sklearn\\metrics\\_classification.py:1221: UndefinedMetricWarning: Precision and F-score are ill-defined and being set to 0.0 in labels with no predicted samples. Use `zero_division` parameter to control this behavior.\n",
      "  _warn_prf(average, modifier, msg_start, len(result))\n"
     ]
    }
   ],
   "source": [
    "clf = MultinomialNB()\n",
    "clf.fit(X_train3, Y_train3)\n",
    "y_pred = clf.predict(X_test_TWEET)\n",
    "\n",
    "print(classification_report(Y_test_TWEET,y_pred))"
   ]
  },
  {
   "cell_type": "markdown",
   "metadata": {},
   "source": [
    "## NB - TRAIN -> KANSOAN - TEST -> TASH"
   ]
  },
  {
   "cell_type": "code",
   "execution_count": 67,
   "metadata": {},
   "outputs": [
    {
     "name": "stdout",
     "output_type": "stream",
     "text": [
      "              precision    recall  f1-score   support\n",
      "\n",
      "          -1       0.00      0.00      0.00       281\n",
      "           0       0.34      0.69      0.46       281\n",
      "           1       0.47      0.45      0.46       275\n",
      "\n",
      "    accuracy                           0.38       837\n",
      "   macro avg       0.27      0.38      0.31       837\n",
      "weighted avg       0.27      0.38      0.30       837\n",
      "\n"
     ]
    },
    {
     "name": "stderr",
     "output_type": "stream",
     "text": [
      "c:\\users\\ddayv\\appdata\\local\\programs\\python\\python37\\lib\\site-packages\\sklearn\\metrics\\_classification.py:1221: UndefinedMetricWarning: Precision and F-score are ill-defined and being set to 0.0 in labels with no predicted samples. Use `zero_division` parameter to control this behavior.\n",
      "  _warn_prf(average, modifier, msg_start, len(result))\n"
     ]
    }
   ],
   "source": [
    "clf = MultinomialNB()\n",
    "clf.fit(X_train3, Y_train3)\n",
    "y_pred = clf.predict(X_test_TASH)\n",
    "\n",
    "print(classification_report(Y_test_TASH,y_pred))"
   ]
  },
  {
   "cell_type": "markdown",
   "metadata": {},
   "source": [
    "## NB - TRAIN -> KANSOAN - TEST -> UNILEX"
   ]
  },
  {
   "cell_type": "code",
   "execution_count": 68,
   "metadata": {},
   "outputs": [],
   "source": [
    "def func(num):\n",
    "    if num == 0:\n",
    "        return -1\n",
    "    else:\n",
    "        return 1\n",
    "\n",
    "#sentiment = df['sentiment'].apply(func)\n",
    "#X_train3, X_test_KANSOAN, Y_train3, Y_test_KANSOAN = train_test_split(X_text_KANSOAN_, sentiment, test_size=0.3)"
   ]
  },
  {
   "cell_type": "code",
   "execution_count": 69,
   "metadata": {},
   "outputs": [
    {
     "name": "stdout",
     "output_type": "stream",
     "text": [
      "              precision    recall  f1-score   support\n",
      "\n",
      "        -1.0       1.00      0.00      0.00      1286\n",
      "         0.0       0.34      0.51      0.41      1441\n",
      "         1.0       0.33      0.52      0.40      1061\n",
      "\n",
      "    accuracy                           0.34      3788\n",
      "   macro avg       0.56      0.34      0.27      3788\n",
      "weighted avg       0.56      0.34      0.27      3788\n",
      "\n"
     ]
    }
   ],
   "source": [
    "clf = MultinomialNB()\n",
    "clf.fit(X_train3, Y_train3)\n",
    "y_pred = clf.predict(X_test)\n",
    "\n",
    "print(classification_report(Y_test,y_pred, zero_division=True))"
   ]
  },
  {
   "cell_type": "markdown",
   "metadata": {},
   "source": [
    "## SVM - TRAIN->UNILEX - TEST->TWEETSENT"
   ]
  },
  {
   "cell_type": "code",
   "execution_count": 70,
   "metadata": {},
   "outputs": [
    {
     "name": "stdout",
     "output_type": "stream",
     "text": [
      "              precision    recall  f1-score   support\n",
      "\n",
      "          -1       0.00      0.00      0.00      1013\n",
      "           0       0.27      0.58      0.37       904\n",
      "           1       0.55      0.55      0.55      1543\n",
      "\n",
      "    accuracy                           0.40      3460\n",
      "   macro avg       0.28      0.38      0.31      3460\n",
      "weighted avg       0.32      0.40      0.34      3460\n",
      "\n"
     ]
    },
    {
     "name": "stderr",
     "output_type": "stream",
     "text": [
      "c:\\users\\ddayv\\appdata\\local\\programs\\python\\python37\\lib\\site-packages\\sklearn\\metrics\\_classification.py:1221: UndefinedMetricWarning: Precision and F-score are ill-defined and being set to 0.0 in labels with no predicted samples. Use `zero_division` parameter to control this behavior.\n",
      "  _warn_prf(average, modifier, msg_start, len(result))\n"
     ]
    }
   ],
   "source": [
    "clf = SVC().fit(X_train3, Y_train3) \n",
    "y_pred = clf.predict(X_test_TWEET)\n",
    "\n",
    "print(classification_report(Y_test_TWEET,y_pred))"
   ]
  },
  {
   "cell_type": "markdown",
   "metadata": {},
   "source": [
    "## SVM T U T TASH"
   ]
  },
  {
   "cell_type": "code",
   "execution_count": 71,
   "metadata": {},
   "outputs": [
    {
     "name": "stdout",
     "output_type": "stream",
     "text": [
      "              precision    recall  f1-score   support\n",
      "\n",
      "          -1       0.00      0.00      0.00       281\n",
      "           0       0.36      0.63      0.46       281\n",
      "           1       0.41      0.50      0.45       275\n",
      "\n",
      "    accuracy                           0.38       837\n",
      "   macro avg       0.25      0.38      0.30       837\n",
      "weighted avg       0.25      0.38      0.30       837\n",
      "\n"
     ]
    }
   ],
   "source": [
    "clf = SVC().fit(X_train3, Y_train3) \n",
    "y_pred = clf.predict(X_test_TASH)\n",
    "\n",
    "print(classification_report(Y_test_TASH,y_pred))"
   ]
  },
  {
   "cell_type": "markdown",
   "metadata": {},
   "source": [
    "## SVM T KANSOAN T unilex\n"
   ]
  },
  {
   "cell_type": "code",
   "execution_count": 72,
   "metadata": {},
   "outputs": [
    {
     "name": "stdout",
     "output_type": "stream",
     "text": [
      "              precision    recall  f1-score   support\n",
      "\n",
      "        -1.0       1.00      0.00      0.00      1286\n",
      "         0.0       0.34      0.45      0.39      1441\n",
      "         1.0       0.31      0.55      0.39      1061\n",
      "\n",
      "    accuracy                           0.32      3788\n",
      "   macro avg       0.55      0.33      0.26      3788\n",
      "weighted avg       0.55      0.32      0.26      3788\n",
      "\n"
     ]
    }
   ],
   "source": [
    "clf = SVC().fit(X_train3, Y_train3) \n",
    "y_pred = clf.predict(X_test)\n",
    "\n",
    "print(classification_report(Y_test,y_pred, zero_division=True))"
   ]
  },
  {
   "cell_type": "markdown",
   "metadata": {},
   "source": [
    "## RL T U T TWEETSENT"
   ]
  },
  {
   "cell_type": "code",
   "execution_count": 73,
   "metadata": {},
   "outputs": [
    {
     "name": "stdout",
     "output_type": "stream",
     "text": [
      "              precision    recall  f1-score   support\n",
      "\n",
      "          -1       0.00      0.00      0.00      1013\n",
      "           0       0.28      0.55      0.37       904\n",
      "           1       0.55      0.60      0.58      1543\n",
      "\n",
      "    accuracy                           0.41      3460\n",
      "   macro avg       0.28      0.38      0.32      3460\n",
      "weighted avg       0.32      0.41      0.35      3460\n",
      "\n"
     ]
    },
    {
     "name": "stderr",
     "output_type": "stream",
     "text": [
      "c:\\users\\ddayv\\appdata\\local\\programs\\python\\python37\\lib\\site-packages\\sklearn\\metrics\\_classification.py:1221: UndefinedMetricWarning: Precision and F-score are ill-defined and being set to 0.0 in labels with no predicted samples. Use `zero_division` parameter to control this behavior.\n",
      "  _warn_prf(average, modifier, msg_start, len(result))\n"
     ]
    }
   ],
   "source": [
    "clf = LogisticRegression(max_iter=1000).fit(X_train3, Y_train3) \n",
    "y_pred = clf.predict(X_test_TWEET)\n",
    "\n",
    "print(classification_report(Y_test_TWEET,y_pred))"
   ]
  },
  {
   "cell_type": "markdown",
   "metadata": {},
   "source": [
    "## RL T U T TASH"
   ]
  },
  {
   "cell_type": "code",
   "execution_count": 74,
   "metadata": {},
   "outputs": [
    {
     "name": "stdout",
     "output_type": "stream",
     "text": [
      "              precision    recall  f1-score   support\n",
      "\n",
      "          -1       0.00      0.00      0.00       281\n",
      "           0       0.34      0.57      0.43       281\n",
      "           1       0.40      0.53      0.46       275\n",
      "\n",
      "    accuracy                           0.37       837\n",
      "   macro avg       0.25      0.37      0.29       837\n",
      "weighted avg       0.25      0.37      0.29       837\n",
      "\n"
     ]
    },
    {
     "name": "stderr",
     "output_type": "stream",
     "text": [
      "c:\\users\\ddayv\\appdata\\local\\programs\\python\\python37\\lib\\site-packages\\sklearn\\metrics\\_classification.py:1221: UndefinedMetricWarning: Precision and F-score are ill-defined and being set to 0.0 in labels with no predicted samples. Use `zero_division` parameter to control this behavior.\n",
      "  _warn_prf(average, modifier, msg_start, len(result))\n"
     ]
    }
   ],
   "source": [
    "clf = LogisticRegression(max_iter=1000).fit(X_train3, Y_train3) \n",
    "y_pred = clf.predict(X_test_TASH)\n",
    "\n",
    "print(classification_report(Y_test_TASH,y_pred))"
   ]
  },
  {
   "cell_type": "markdown",
   "metadata": {},
   "source": [
    "## RL T U T KANSOAN"
   ]
  },
  {
   "cell_type": "code",
   "execution_count": 75,
   "metadata": {},
   "outputs": [
    {
     "name": "stdout",
     "output_type": "stream",
     "text": [
      "              precision    recall  f1-score   support\n",
      "\n",
      "        -1.0       1.00      0.00      0.00      1286\n",
      "         0.0       0.31      0.31      0.31      1441\n",
      "         1.0       0.30      0.66      0.41      1061\n",
      "\n",
      "    accuracy                           0.30      3788\n",
      "   macro avg       0.54      0.32      0.24      3788\n",
      "weighted avg       0.54      0.30      0.23      3788\n",
      "\n"
     ]
    }
   ],
   "source": [
    "clf = LogisticRegression(max_iter=1000).fit(X_train3, Y_train3) \n",
    "y_pred = clf.predict(X_test)\n",
    "\n",
    "print(classification_report(Y_test,y_pred, zero_division=True))"
   ]
  },
  {
   "cell_type": "markdown",
   "metadata": {},
   "source": [
    "## TOTALMENT.C T U T TWEETSENT"
   ]
  },
  {
   "cell_type": "code",
   "execution_count": 76,
   "metadata": {},
   "outputs": [
    {
     "name": "stdout",
     "output_type": "stream",
     "text": [
      "Epoch 1/10\n",
      "202/202 [==============================] - 2s 12ms/step - loss: 0.2955 - accuracy: 0.9122 - val_loss: 0.3816 - val_accuracy: 0.3991\n",
      "Epoch 2/10\n",
      "202/202 [==============================] - 2s 9ms/step - loss: 0.0590 - accuracy: 0.9799 - val_loss: 0.3096 - val_accuracy: 0.3749\n",
      "Epoch 3/10\n",
      "202/202 [==============================] - 2s 9ms/step - loss: 0.0256 - accuracy: 0.9932 - val_loss: 0.8454 - val_accuracy: 0.4231\n",
      "Epoch 4/10\n",
      "202/202 [==============================] - 2s 9ms/step - loss: 0.0190 - accuracy: 0.9943 - val_loss: 0.6188 - val_accuracy: 0.3887\n",
      "Epoch 5/10\n",
      "202/202 [==============================] - 2s 9ms/step - loss: 0.0150 - accuracy: 0.9960 - val_loss: 0.6740 - val_accuracy: 0.3887\n",
      "Epoch 6/10\n",
      "202/202 [==============================] - 2s 8ms/step - loss: 0.0118 - accuracy: 0.9957 - val_loss: 0.9175 - val_accuracy: 0.4020\n",
      "Epoch 7/10\n",
      "202/202 [==============================] - 2s 8ms/step - loss: 0.0098 - accuracy: 0.9972 - val_loss: 1.3841 - val_accuracy: 0.4263\n",
      "Epoch 8/10\n",
      "202/202 [==============================] - 2s 8ms/step - loss: 0.0089 - accuracy: 0.9969 - val_loss: 1.1002 - val_accuracy: 0.4098\n",
      "Epoch 9/10\n",
      "202/202 [==============================] - 2s 8ms/step - loss: 0.0090 - accuracy: 0.9971 - val_loss: 0.8023 - val_accuracy: 0.3971\n",
      "Epoch 10/10\n",
      "202/202 [==============================] - 2s 8ms/step - loss: 0.0092 - accuracy: 0.9960 - val_loss: 1.2895 - val_accuracy: 0.4205\n"
     ]
    }
   ],
   "source": [
    "model = tf.keras.Sequential([\n",
    "    tf.keras.layers.Dense(50, activation='relu'),\n",
    "    tf.keras.layers.Dropout(0.3),\n",
    "    tf.keras.layers.Dense(25, activation='relu'),\n",
    "    tf.keras.layers.Dropout(0.3),\n",
    "    tf.keras.layers.Dense(10, activation='tanh'),\n",
    "    tf.keras.layers.Dropout(0.2),\n",
    "    tf.keras.layers.Dense(1 , activation='sigmoid')\n",
    "])\n",
    "\n",
    "model.compile(\n",
    "    optimizer='adam',\n",
    "    loss=\"binary_crossentropy\",\n",
    "    metrics=['accuracy']\n",
    ")\n",
    "\n",
    "one = OneHotEncoder(sparse=False)\n",
    "\n",
    "y_one = np.asarray(Y_train3)\n",
    "y_one_test = Y_test_TWEET\n",
    "\n",
    "fit = model.fit(X_train3.todense(), y_one, epochs=10, validation_data=(X_test_TWEET.todense(), y_one_test))"
   ]
  },
  {
   "cell_type": "code",
   "execution_count": 77,
   "metadata": {},
   "outputs": [
    {
     "name": "stdout",
     "output_type": "stream",
     "text": [
      "              precision    recall  f1-score   support\n",
      "\n",
      "          -1       0.39      0.61      0.48      1013\n",
      "           0       0.00      0.00      0.00       904\n",
      "           1       0.54      0.66      0.59      1543\n",
      "\n",
      "    accuracy                           0.47      3460\n",
      "   macro avg       0.31      0.42      0.36      3460\n",
      "weighted avg       0.36      0.47      0.40      3460\n",
      "\n"
     ]
    },
    {
     "name": "stderr",
     "output_type": "stream",
     "text": [
      "c:\\users\\ddayv\\appdata\\local\\programs\\python\\python37\\lib\\site-packages\\sklearn\\metrics\\_classification.py:1221: UndefinedMetricWarning: Precision and F-score are ill-defined and being set to 0.0 in labels with no predicted samples. Use `zero_division` parameter to control this behavior.\n",
      "  _warn_prf(average, modifier, msg_start, len(result))\n"
     ]
    }
   ],
   "source": [
    "predicted = model.predict(X_test_TWEET.todense())\n",
    "for i in range(len(predicted)):\n",
    "    if predicted[i,0] >= 0.5:\n",
    "        predicted[i,0] = 1\n",
    "    else:\n",
    "        predicted[i,0] = -1\n",
    "        \n",
    "print(classification_report(y_one_test, predicted))"
   ]
  },
  {
   "cell_type": "markdown",
   "metadata": {},
   "source": [
    "## LSTM T U T TWEETSENT"
   ]
  },
  {
   "cell_type": "code",
   "execution_count": 78,
   "metadata": {},
   "outputs": [
    {
     "data": {
      "text/plain": [
       "15000"
      ]
     },
     "execution_count": 78,
     "metadata": {},
     "output_type": "execute_result"
    }
   ],
   "source": [
    "vectorize_layer = TextVectorization(\n",
    " max_tokens=15000,\n",
    " output_mode='int',\n",
    " output_sequence_length=len(max(df['text'])))\n",
    "\n",
    "vocab = set_array(df['text'])\n",
    "\n",
    "vectorize_layer.adapt(np.unique(vocab))\n",
    "len(vectorize_layer.get_vocabulary())\n"
   ]
  },
  {
   "cell_type": "code",
   "execution_count": 79,
   "metadata": {},
   "outputs": [],
   "source": [
    "text_KANSOAN\n",
    "\n",
    "X_train3_, X_test_KANSOAN_, Y_train3_, Y_test_KANSOAN_ = train_test_split(text_KANSOAN, df['sentiment'], test_size=0.3)"
   ]
  },
  {
   "cell_type": "code",
   "execution_count": 80,
   "metadata": {},
   "outputs": [
    {
     "name": "stdout",
     "output_type": "stream",
     "text": [
      "Epoch 1/10\n",
      "51/51 [==============================] - 9s 173ms/step - loss: 0.6604 - accuracy: 0.5686 - val_loss: 0.9342 - val_accuracy: 0.4344\n",
      "Epoch 2/10\n",
      "51/51 [==============================] - 7s 133ms/step - loss: 0.3559 - accuracy: 0.8933 - val_loss: 0.9871 - val_accuracy: 0.4150\n",
      "Epoch 3/10\n",
      "51/51 [==============================] - 7s 133ms/step - loss: 0.1516 - accuracy: 0.9669 - val_loss: 0.9188 - val_accuracy: 0.4118\n",
      "Epoch 4/10\n",
      "51/51 [==============================] - 7s 133ms/step - loss: 0.0744 - accuracy: 0.9865 - val_loss: 0.6938 - val_accuracy: 0.3919\n",
      "Epoch 5/10\n",
      "51/51 [==============================] - 7s 132ms/step - loss: 0.0489 - accuracy: 0.9915 - val_loss: 1.1733 - val_accuracy: 0.4098\n",
      "Epoch 6/10\n",
      "51/51 [==============================] - 7s 134ms/step - loss: 0.0334 - accuracy: 0.9943 - val_loss: 1.4608 - val_accuracy: 0.4214\n",
      "Epoch 7/10\n",
      "51/51 [==============================] - 7s 131ms/step - loss: 0.0275 - accuracy: 0.9949 - val_loss: 1.0310 - val_accuracy: 0.4009\n",
      "Epoch 8/10\n",
      "51/51 [==============================] - 7s 141ms/step - loss: 0.0195 - accuracy: 0.9967 - val_loss: 1.1900 - val_accuracy: 0.4009\n",
      "Epoch 9/10\n",
      "51/51 [==============================] - 8s 151ms/step - loss: 0.0161 - accuracy: 0.9980 - val_loss: 1.3305 - val_accuracy: 0.4029\n",
      "Epoch 10/10\n",
      "51/51 [==============================] - 7s 142ms/step - loss: 0.0134 - accuracy: 0.9981 - val_loss: 1.4426 - val_accuracy: 0.4029\n"
     ]
    }
   ],
   "source": [
    "model = tf.keras.Sequential([\n",
    "    vectorize_layer,\n",
    "    tf.keras.layers.Embedding(\n",
    "        input_dim=len(vectorize_layer.get_vocabulary()),\n",
    "        output_dim=64,mask_zero=True),\n",
    "    \n",
    "    tf.keras.layers.LSTM(50, activation='relu' ,return_sequences=True),\n",
    "    tf.keras.layers.Dropout(0.3),\n",
    "    \n",
    "    tf.keras.layers.LSTM(25 , activation='tanh', return_sequences=True),\n",
    "    tf.keras.layers.Dropout(0.3),\n",
    "    \n",
    "    tf.keras.layers.LSTM(10 , activation='tanh'),\n",
    "    tf.keras.layers.Dropout(0.2),\n",
    "    \n",
    "    tf.keras.layers.Dense(1, activation='sigmoid')\n",
    "])\n",
    "\n",
    "\n",
    "model.compile(\n",
    "    optimizer= tf.keras.optimizers.Adam(),\n",
    "    loss=\"binary_crossentropy\",\n",
    "    metrics=['accuracy']\n",
    ")\n",
    "\n",
    "y_one = np.asarray(Y_train3_)\n",
    "y_one_test = Y_test_TWEET1\n",
    "\n",
    "fit = model.fit(np.asarray(pre_X(X_train3_)), y_one, epochs=10, batch_size=128 ,validation_data=(np.asarray(pre_X(X_test_TWEET1)), y_one_test))"
   ]
  },
  {
   "cell_type": "code",
   "execution_count": 81,
   "metadata": {},
   "outputs": [
    {
     "name": "stdout",
     "output_type": "stream",
     "text": [
      "              precision    recall  f1-score   support\n",
      "\n",
      "          -1       0.38      0.60      0.46      1006\n",
      "           0       0.00      0.00      0.00       896\n",
      "           1       0.53      0.63      0.57      1558\n",
      "\n",
      "    accuracy                           0.46      3460\n",
      "   macro avg       0.30      0.41      0.35      3460\n",
      "weighted avg       0.35      0.46      0.39      3460\n",
      "\n"
     ]
    }
   ],
   "source": [
    "predicted = model.predict(np.asarray(pre_X(X_test_TWEET1)))\n",
    "\n",
    "for i in range(len(predicted)):\n",
    "    if predicted[i,0] >= 0.5:\n",
    "        predicted[i,0] = 1\n",
    "    else:\n",
    "        predicted[i,0] = -1\n",
    "\n",
    "print(classification_report(y_one_test, predicted))"
   ]
  },
  {
   "cell_type": "markdown",
   "metadata": {},
   "source": [
    "## UNILEX"
   ]
  },
  {
   "cell_type": "code",
   "execution_count": 82,
   "metadata": {},
   "outputs": [
    {
     "name": "stdout",
     "output_type": "stream",
     "text": [
      "              precision    recall  f1-score   support\n",
      "\n",
      "        -1.0       0.46      0.42      0.44      1302\n",
      "         0.0       0.00      0.00      0.00      1392\n",
      "         1.0       0.31      0.73      0.43      1094\n",
      "\n",
      "    accuracy                           0.35      3788\n",
      "   macro avg       0.25      0.38      0.29      3788\n",
      "weighted avg       0.25      0.35      0.28      3788\n",
      "\n"
     ]
    }
   ],
   "source": [
    "predicted = model.predict(np.asarray(pre_X(X_test_text)))\n",
    "\n",
    "for i in range(len(predicted)):\n",
    "    if predicted[i,0] >= 0.5:\n",
    "        predicted[i,0] = 1\n",
    "    else:\n",
    "        predicted[i,0] = -1\n",
    "\n",
    "print(classification_report(np.asarray(Y_test_text), predicted))"
   ]
  },
  {
   "cell_type": "markdown",
   "metadata": {},
   "source": [
    "## TASH"
   ]
  },
  {
   "cell_type": "code",
   "execution_count": 83,
   "metadata": {},
   "outputs": [
    {
     "name": "stdout",
     "output_type": "stream",
     "text": [
      "              precision    recall  f1-score   support\n",
      "\n",
      "          -1       0.36      0.44      0.40       256\n",
      "           0       0.00      0.00      0.00       290\n",
      "           1       0.37      0.66      0.47       291\n",
      "\n",
      "    accuracy                           0.37       837\n",
      "   macro avg       0.24      0.37      0.29       837\n",
      "weighted avg       0.24      0.37      0.29       837\n",
      "\n"
     ]
    }
   ],
   "source": [
    "predicted = model.predict(np.asarray(pre_X(X_test_TASH21)))\n",
    "\n",
    "for i in range(len(predicted)):\n",
    "    if predicted[i,0] >= 0.5:\n",
    "        predicted[i,0] = 1\n",
    "    else:\n",
    "        predicted[i,0] = -1\n",
    "\n",
    "print(classification_report(np.asarray(Y_test_TASH21), predicted))"
   ]
  },
  {
   "cell_type": "markdown",
   "metadata": {},
   "source": [
    "## CONV1D T U T TWEET"
   ]
  },
  {
   "cell_type": "code",
   "execution_count": 84,
   "metadata": {},
   "outputs": [
    {
     "name": "stdout",
     "output_type": "stream",
     "text": [
      "Epoch 1/10\n",
      "51/51 [==============================] - 2s 30ms/step - loss: 0.6281 - accuracy: 0.6798 - val_loss: 0.9824 - val_accuracy: 0.3942\n",
      "Epoch 2/10\n",
      "51/51 [==============================] - 2s 30ms/step - loss: 0.1514 - accuracy: 0.9535 - val_loss: 1.1852 - val_accuracy: 0.4419\n",
      "Epoch 3/10\n",
      "51/51 [==============================] - 1s 25ms/step - loss: 0.0343 - accuracy: 0.9890 - val_loss: 1.4137 - val_accuracy: 0.4358\n",
      "Epoch 4/10\n",
      "51/51 [==============================] - 1s 27ms/step - loss: 0.0122 - accuracy: 0.9971 - val_loss: 1.1418 - val_accuracy: 0.4237\n",
      "Epoch 5/10\n",
      "51/51 [==============================] - 1s 28ms/step - loss: 0.0076 - accuracy: 0.9978 - val_loss: 1.3557 - val_accuracy: 0.4249\n",
      "Epoch 6/10\n",
      "51/51 [==============================] - 1s 25ms/step - loss: 0.0045 - accuracy: 0.9988 - val_loss: 1.6143 - val_accuracy: 0.4306\n",
      "Epoch 7/10\n",
      "51/51 [==============================] - 1s 28ms/step - loss: 0.0036 - accuracy: 0.9992 - val_loss: 1.4842 - val_accuracy: 0.4283\n",
      "Epoch 8/10\n",
      "51/51 [==============================] - 1s 27ms/step - loss: 0.0029 - accuracy: 0.9991 - val_loss: 1.7551 - val_accuracy: 0.4318\n",
      "Epoch 9/10\n",
      "51/51 [==============================] - 1s 26ms/step - loss: 0.0025 - accuracy: 0.9992 - val_loss: 1.6487 - val_accuracy: 0.4292\n",
      "Epoch 10/10\n",
      "51/51 [==============================] - 1s 29ms/step - loss: 0.0023 - accuracy: 0.9994 - val_loss: 1.7759 - val_accuracy: 0.4312\n"
     ]
    }
   ],
   "source": [
    "model = tf.keras.Sequential([\n",
    "    vectorize_layer,\n",
    "    tf.keras.layers.Embedding(\n",
    "        input_dim=len(vectorize_layer.get_vocabulary()),\n",
    "        output_dim=64,\n",
    "        mask_zero=True),\n",
    "    \n",
    "    tf.keras.layers.Conv1D(32,6, activation='relu'),\n",
    "    tf.keras.layers.MaxPooling1D(2),\n",
    "    tf.keras.layers.Flatten(),\n",
    "    \n",
    "    tf.keras.layers.Dense(16, activation='relu'),\n",
    "    tf.keras.layers.Dense(1, activation='sigmoid')   \n",
    "])\n",
    "\n",
    "model.compile(\n",
    "    optimizer= tf.keras.optimizers.Adam(),\n",
    "    loss=\"binary_crossentropy\",\n",
    "    metrics=['accuracy']\n",
    ")\n",
    "\n",
    "y_one = Y_train3_\n",
    "y_one_test = Y_test_TWEET1\n",
    "\n",
    "fit = model.fit(np.asarray(pre_X(X_train3_)), y_one, epochs=10, batch_size=128 ,validation_data=(np.asarray(pre_X(X_test_TWEET1)), y_one_test))"
   ]
  },
  {
   "cell_type": "code",
   "execution_count": 85,
   "metadata": {},
   "outputs": [
    {
     "name": "stdout",
     "output_type": "stream",
     "text": [
      "              precision    recall  f1-score   support\n",
      "\n",
      "          -1       0.41      0.49      0.45      1006\n",
      "           0       0.00      0.00      0.00       896\n",
      "           1       0.52      0.76      0.61      1558\n",
      "\n",
      "    accuracy                           0.48      3460\n",
      "   macro avg       0.31      0.41      0.35      3460\n",
      "weighted avg       0.35      0.48      0.41      3460\n",
      "\n"
     ]
    }
   ],
   "source": [
    "predicted = model.predict(np.asarray(pre_X(X_test_TWEET1)))\n",
    "\n",
    "for i in range(len(predicted)):\n",
    "    if predicted[i,0] >= 0.5:\n",
    "        predicted[i,0] = 1\n",
    "    else:\n",
    "        predicted[i,0] = -1\n",
    "\n",
    "print(classification_report(y_one_test, predicted))"
   ]
  },
  {
   "cell_type": "markdown",
   "metadata": {},
   "source": [
    "## UNILEX"
   ]
  },
  {
   "cell_type": "code",
   "execution_count": 86,
   "metadata": {},
   "outputs": [
    {
     "name": "stdout",
     "output_type": "stream",
     "text": [
      "              precision    recall  f1-score   support\n",
      "\n",
      "        -1.0       0.46      0.24      0.32      1302\n",
      "         0.0       0.00      0.00      0.00      1392\n",
      "         1.0       0.29      0.83      0.43      1094\n",
      "\n",
      "    accuracy                           0.32      3788\n",
      "   macro avg       0.25      0.36      0.25      3788\n",
      "weighted avg       0.24      0.32      0.23      3788\n",
      "\n"
     ]
    }
   ],
   "source": [
    "predicted = model.predict(np.asarray(pre_X(X_test_text)))\n",
    "\n",
    "for i in range(len(predicted)):\n",
    "    if predicted[i,0] >= 0.5:\n",
    "        predicted[i,0] = 1\n",
    "    else:\n",
    "        predicted[i,0] = -1\n",
    "\n",
    "print(classification_report(np.asarray(Y_test_text), predicted))"
   ]
  },
  {
   "cell_type": "markdown",
   "metadata": {},
   "source": [
    "## TASH"
   ]
  },
  {
   "cell_type": "code",
   "execution_count": 87,
   "metadata": {},
   "outputs": [
    {
     "name": "stdout",
     "output_type": "stream",
     "text": [
      "              precision    recall  f1-score   support\n",
      "\n",
      "          -1       0.37      0.30      0.33       256\n",
      "           0       0.00      0.00      0.00       290\n",
      "           1       0.36      0.77      0.49       291\n",
      "\n",
      "    accuracy                           0.36       837\n",
      "   macro avg       0.24      0.36      0.27       837\n",
      "weighted avg       0.24      0.36      0.27       837\n",
      "\n"
     ]
    }
   ],
   "source": [
    "predicted = model.predict(np.asarray(pre_X(X_test_TASH21)))\n",
    "\n",
    "for i in range(len(predicted)):\n",
    "    if predicted[i,0] >= 0.5:\n",
    "        predicted[i,0] = 1\n",
    "    else:\n",
    "        predicted[i,0] = -1\n",
    "\n",
    "print(classification_report(np.asarray(Y_test_TASH21), predicted))"
   ]
  },
  {
   "cell_type": "markdown",
   "metadata": {},
   "source": [
    "## BDR T U T TWEET"
   ]
  },
  {
   "cell_type": "code",
   "execution_count": 88,
   "metadata": {},
   "outputs": [
    {
     "name": "stdout",
     "output_type": "stream",
     "text": [
      "Epoch 1/10\n",
      "51/51 [==============================] - 3s 65ms/step - loss: 0.6922 - accuracy: 0.5308 - val_loss: 0.7097 - val_accuracy: 0.4503\n",
      "Epoch 2/10\n",
      "51/51 [==============================] - 1s 25ms/step - loss: 0.6889 - accuracy: 0.5178 - val_loss: 0.7269 - val_accuracy: 0.4503\n",
      "Epoch 3/10\n",
      "51/51 [==============================] - 1s 27ms/step - loss: 0.6810 - accuracy: 0.5178 - val_loss: 0.7472 - val_accuracy: 0.4503\n",
      "Epoch 4/10\n",
      "51/51 [==============================] - 1s 26ms/step - loss: 0.6617 - accuracy: 0.5356 - val_loss: 0.7713 - val_accuracy: 0.4503\n",
      "Epoch 5/10\n",
      "51/51 [==============================] - 1s 25ms/step - loss: 0.6221 - accuracy: 0.7297 - val_loss: 0.7892 - val_accuracy: 0.4480\n",
      "Epoch 6/10\n",
      "51/51 [==============================] - 1s 25ms/step - loss: 0.5556 - accuracy: 0.9023 - val_loss: 0.8246 - val_accuracy: 0.4436\n",
      "Epoch 7/10\n",
      "51/51 [==============================] - 1s 26ms/step - loss: 0.4781 - accuracy: 0.9181 - val_loss: 0.8500 - val_accuracy: 0.4393\n",
      "Epoch 8/10\n",
      "51/51 [==============================] - 1s 26ms/step - loss: 0.4099 - accuracy: 0.9280 - val_loss: 0.8634 - val_accuracy: 0.4358\n",
      "Epoch 9/10\n",
      "51/51 [==============================] - 1s 26ms/step - loss: 0.3450 - accuracy: 0.9421 - val_loss: 0.8495 - val_accuracy: 0.4324\n",
      "Epoch 10/10\n",
      "51/51 [==============================] - 1s 26ms/step - loss: 0.2761 - accuracy: 0.9571 - val_loss: 0.8410 - val_accuracy: 0.4344\n"
     ]
    }
   ],
   "source": [
    "model = tf.keras.Sequential([\n",
    "    vectorize_layer,\n",
    "    tf.keras.layers.Embedding(\n",
    "        input_dim=len(vectorize_layer.get_vocabulary()),\n",
    "        output_dim=1,\n",
    "        mask_zero=True),\n",
    "    tf.keras.layers.Bidirectional(tf.keras.layers.LSTM(1)),\n",
    "\n",
    "    tf.keras.layers.Dense(1, activation='sigmoid')\n",
    "])\n",
    "\n",
    "model.compile(\n",
    "    optimizer= tf.keras.optimizers.Adam(),\n",
    "    loss=\"binary_crossentropy\",\n",
    "    metrics=['accuracy']\n",
    ")\n",
    "\n",
    "y_one = Y_train3_\n",
    "y_one_test = Y_test_TWEET1\n",
    "\n",
    "fit = model.fit(np.asarray(pre_X(X_train3_)), y_one, epochs=10, batch_size=128 ,validation_data=(np.asarray(pre_X(X_test_TWEET1)), y_one_test))"
   ]
  },
  {
   "cell_type": "code",
   "execution_count": 89,
   "metadata": {},
   "outputs": [
    {
     "name": "stdout",
     "output_type": "stream",
     "text": [
      "              precision    recall  f1-score   support\n",
      "\n",
      "          -1       0.42      0.40      0.41      1006\n",
      "           0       0.00      0.00      0.00       896\n",
      "           1       0.50      0.80      0.62      1558\n",
      "\n",
      "    accuracy                           0.48      3460\n",
      "   macro avg       0.31      0.40      0.34      3460\n",
      "weighted avg       0.35      0.48      0.40      3460\n",
      "\n"
     ]
    }
   ],
   "source": [
    "predicted = model.predict(np.asarray(pre_X(X_test_TWEET1)))\n",
    "\n",
    "for i in range(len(predicted)):\n",
    "    if predicted[i,0] >= 0.5:\n",
    "        predicted[i,0] = 1\n",
    "    else:\n",
    "        predicted[i,0] = -1\n",
    "\n",
    "print(classification_report(y_one_test, predicted))"
   ]
  },
  {
   "cell_type": "markdown",
   "metadata": {},
   "source": [
    "## UNILEX"
   ]
  },
  {
   "cell_type": "code",
   "execution_count": 90,
   "metadata": {},
   "outputs": [
    {
     "name": "stdout",
     "output_type": "stream",
     "text": [
      "              precision    recall  f1-score   support\n",
      "\n",
      "        -1.0       0.41      0.15      0.22      1302\n",
      "         0.0       0.00      0.00      0.00      1392\n",
      "         1.0       0.29      0.89      0.44      1094\n",
      "\n",
      "    accuracy                           0.31      3788\n",
      "   macro avg       0.23      0.34      0.22      3788\n",
      "weighted avg       0.22      0.31      0.20      3788\n",
      "\n"
     ]
    }
   ],
   "source": [
    "predicted = model.predict(np.asarray(pre_X(X_test_text)))\n",
    "\n",
    "for i in range(len(predicted)):\n",
    "    if predicted[i,0] >= 0.5:\n",
    "        predicted[i,0] = 1\n",
    "    else:\n",
    "        predicted[i,0] = -1\n",
    "\n",
    "print(classification_report(np.asarray(Y_test_text), predicted))"
   ]
  },
  {
   "cell_type": "markdown",
   "metadata": {},
   "source": [
    "## TASH"
   ]
  },
  {
   "cell_type": "code",
   "execution_count": 91,
   "metadata": {},
   "outputs": [
    {
     "name": "stdout",
     "output_type": "stream",
     "text": [
      "              precision    recall  f1-score   support\n",
      "\n",
      "          -1       0.38      0.33      0.35       256\n",
      "           0       0.00      0.00      0.00       290\n",
      "           1       0.36      0.77      0.50       291\n",
      "\n",
      "    accuracy                           0.37       837\n",
      "   macro avg       0.25      0.37      0.28       837\n",
      "weighted avg       0.24      0.37      0.28       837\n",
      "\n"
     ]
    }
   ],
   "source": [
    "predicted = model.predict(np.asarray(pre_X(X_test_TASH21)))\n",
    "\n",
    "for i in range(len(predicted)):\n",
    "    if predicted[i,0] >= 0.5:\n",
    "        predicted[i,0] = 1\n",
    "    else:\n",
    "        predicted[i,0] = -1\n",
    "\n",
    "print(classification_report(np.asarray(Y_test_TASH21), predicted))"
   ]
  },
  {
   "cell_type": "code",
   "execution_count": null,
   "metadata": {},
   "outputs": [],
   "source": []
  },
  {
   "cell_type": "code",
   "execution_count": null,
   "metadata": {},
   "outputs": [],
   "source": []
  }
 ],
 "metadata": {
  "kernelspec": {
   "display_name": "Python 3",
   "language": "python",
   "name": "python3"
  },
  "language_info": {
   "codemirror_mode": {
    "name": "ipython",
    "version": 3
   },
   "file_extension": ".py",
   "mimetype": "text/x-python",
   "name": "python",
   "nbconvert_exporter": "python",
   "pygments_lexer": "ipython3",
   "version": "3.7.9"
  }
 },
 "nbformat": 4,
 "nbformat_minor": 4
}
