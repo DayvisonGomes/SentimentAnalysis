{
 "cells": [
  {
   "cell_type": "code",
   "execution_count": 1,
   "metadata": {},
   "outputs": [
    {
     "name": "stderr",
     "output_type": "stream",
     "text": [
      "[nltk_data] Downloading package stopwords to\n",
      "[nltk_data]     C:\\Users\\ddayv\\AppData\\Roaming\\nltk_data...\n",
      "[nltk_data]   Package stopwords is already up-to-date!\n",
      "[nltk_data] Downloading package wordnet to\n",
      "[nltk_data]     C:\\Users\\ddayv\\AppData\\Roaming\\nltk_data...\n",
      "[nltk_data]   Package wordnet is already up-to-date!\n"
     ]
    },
    {
     "data": {
      "text/plain": [
       "True"
      ]
     },
     "execution_count": 1,
     "metadata": {},
     "output_type": "execute_result"
    }
   ],
   "source": [
    "import pandas as pd\n",
    "import numpy as np\n",
    "from sklearn.feature_extraction.text import CountVectorizer\n",
    "from sklearn.feature_extraction.text import TfidfTransformer\n",
    "from sklearn.naive_bayes import MultinomialNB\n",
    "from sklearn.model_selection import train_test_split\n",
    "from sklearn.metrics import classification_report\n",
    "import seaborn as sns\n",
    "import re\n",
    "import random as rd\n",
    "import tensorflow as tf\n",
    "from tensorflow.keras.layers.experimental.preprocessing import TextVectorization\n",
    "from nltk import word_tokenize, RegexpTokenizer\n",
    "from nltk.corpus import stopwords, wordnet\n",
    "from sklearn.preprocessing import OneHotEncoder\n",
    "import matplotlib.pyplot as plt\n",
    "import autokeras as ak\n",
    "from sklearn.model_selection import KFold\n",
    "\n",
    "import nltk\n",
    "from sklearn.svm import SVC\n",
    "from sklearn.linear_model import LogisticRegression\n",
    "nltk.download('stopwords')\n",
    "nltk.download('wordnet')"
   ]
  },
  {
   "cell_type": "code",
   "execution_count": 2,
   "metadata": {},
   "outputs": [],
   "source": [
    "def Tokenize(f):     ## Pre-processando a frase\n",
    "\n",
    "    ## Colocando em minusculo\n",
    "    ## Retirando a pontuaçao\n",
    "    ## Retirando as StopWords\n",
    "    \n",
    "    f = f.lower().replace('\\n', '').replace('-','').replace('#','').replace('.','').replace(',','').replace('!','').replace('r\\n','').replace('  ','').replace('https','').replace('rt','').replace('rn','')\n",
    "    token = RegexpTokenizer(r\"\\w+\")\n",
    "    f = token.tokenize(f)\n",
    "    \n",
    "    stop_words = set(stopwords.words('portuguese'))\n",
    "    \n",
    "    new_word = [word for word in f if not word in stop_words]\n",
    "    \n",
    "    return ' '.join(new_word)\n",
    "\n",
    "def remove_user(frase):\n",
    "    frase = re.sub('@\\w+','',frase)\n",
    "    frase = re.sub('{https}[^ ]+','',frase)\n",
    "    frase = re.sub('https\\w+','',frase)\n",
    "    # re.sub('#\\w+','',frase)\n",
    "    return frase\n",
    "\n",
    "def pre_X(frases):\n",
    "    lista = []\n",
    "    \n",
    "    for frase in frases:\n",
    "        lista.append(frase)\n",
    "        \n",
    "    return lista\n",
    "\n",
    "def pre_Y(number):\n",
    "    lista = []\n",
    "    \n",
    "    for numb in number:\n",
    "        lista.append(numb)\n",
    "    \n",
    "    return lista\n",
    "\n",
    "def set_array(frases):\n",
    "    \n",
    "    vocab = []\n",
    "    palavras = []\n",
    "    for frase in frases:\n",
    "        \n",
    "        text_array = remove_user(frase)\n",
    "        text_array = Tokenize(text_array)\n",
    "        text_array = text_array.split(' ')\n",
    "        for i in range(len(text_array)):\n",
    "            vocab.append(text_array[i])\n",
    "    \n",
    "    \n",
    "        \n",
    "    return vocab\n"
   ]
  },
  {
   "cell_type": "markdown",
   "metadata": {},
   "source": [
    "## TWEETSENT"
   ]
  },
  {
   "cell_type": "code",
   "execution_count": 47,
   "metadata": {},
   "outputs": [
    {
     "data": {
      "text/html": [
       "<div>\n",
       "<style scoped>\n",
       "    .dataframe tbody tr th:only-of-type {\n",
       "        vertical-align: middle;\n",
       "    }\n",
       "\n",
       "    .dataframe tbody tr th {\n",
       "        vertical-align: top;\n",
       "    }\n",
       "\n",
       "    .dataframe thead th {\n",
       "        text-align: right;\n",
       "    }\n",
       "</style>\n",
       "<table border=\"1\" class=\"dataframe\">\n",
       "  <thead>\n",
       "    <tr style=\"text-align: right;\">\n",
       "      <th></th>\n",
       "      <th>id</th>\n",
       "      <th>id_twitter</th>\n",
       "      <th>text</th>\n",
       "      <th>sentiment</th>\n",
       "    </tr>\n",
       "  </thead>\n",
       "  <tbody>\n",
       "    <tr>\n",
       "      <th>0</th>\n",
       "      <td>1343</td>\n",
       "      <td>863044774588272640</td>\n",
       "      <td>Que coisa linda! O Programa #encontro estava m...</td>\n",
       "      <td>1</td>\n",
       "    </tr>\n",
       "    <tr>\n",
       "      <th>1</th>\n",
       "      <td>1344</td>\n",
       "      <td>865583716088766467</td>\n",
       "      <td>Por mais #Encontro com as Irmãs Galvão, adorei...</td>\n",
       "      <td>1</td>\n",
       "    </tr>\n",
       "    <tr>\n",
       "      <th>2</th>\n",
       "      <td>1345</td>\n",
       "      <td>865063232201011201</td>\n",
       "      <td>Mr. CATRA @OficialMrCatra lançando sua nova mú...</td>\n",
       "      <td>1</td>\n",
       "    </tr>\n",
       "    <tr>\n",
       "      <th>3</th>\n",
       "      <td>1346</td>\n",
       "      <td>864668391008763905</td>\n",
       "      <td>quem viu aquela lutadora modela barbuda tatuad...</td>\n",
       "      <td>0</td>\n",
       "    </tr>\n",
       "    <tr>\n",
       "      <th>4</th>\n",
       "      <td>1347</td>\n",
       "      <td>865572794016378882</td>\n",
       "      <td>Tô passada com esse cara.... quanta merda pode...</td>\n",
       "      <td>-1</td>\n",
       "    </tr>\n",
       "    <tr>\n",
       "      <th>...</th>\n",
       "      <td>...</td>\n",
       "      <td>...</td>\n",
       "      <td>...</td>\n",
       "      <td>...</td>\n",
       "    </tr>\n",
       "    <tr>\n",
       "      <th>11565</th>\n",
       "      <td>12908</td>\n",
       "      <td>864636619000877056</td>\n",
       "      <td>eu ja to aqui pronto pro #MasterChefBR mas ain...</td>\n",
       "      <td>-1</td>\n",
       "    </tr>\n",
       "    <tr>\n",
       "      <th>11566</th>\n",
       "      <td>12909</td>\n",
       "      <td>863581588713603072</td>\n",
       "      <td>MALUCO! Uma coisa que eu não tenho coragem é e...</td>\n",
       "      <td>-1</td>\n",
       "    </tr>\n",
       "    <tr>\n",
       "      <th>11567</th>\n",
       "      <td>12910</td>\n",
       "      <td>864831041349054464</td>\n",
       "      <td>#MaisVoce @ANAMARIABRAGA  está linda @RedeGlobo</td>\n",
       "      <td>1</td>\n",
       "    </tr>\n",
       "    <tr>\n",
       "      <th>11568</th>\n",
       "      <td>12911</td>\n",
       "      <td>863042798575951872</td>\n",
       "      <td>Que orgulho de ti, @sportrecife! #Encontro</td>\n",
       "      <td>1</td>\n",
       "    </tr>\n",
       "    <tr>\n",
       "      <th>11569</th>\n",
       "      <td>12912</td>\n",
       "      <td>864681041541386240</td>\n",
       "      <td>Gente olha o bíceps desse padre #ConversaComBial</td>\n",
       "      <td>1</td>\n",
       "    </tr>\n",
       "  </tbody>\n",
       "</table>\n",
       "<p>11570 rows × 4 columns</p>\n",
       "</div>"
      ],
      "text/plain": [
       "          id          id_twitter  \\\n",
       "0       1343  863044774588272640   \n",
       "1       1344  865583716088766467   \n",
       "2       1345  865063232201011201   \n",
       "3       1346  864668391008763905   \n",
       "4       1347  865572794016378882   \n",
       "...      ...                 ...   \n",
       "11565  12908  864636619000877056   \n",
       "11566  12909  863581588713603072   \n",
       "11567  12910  864831041349054464   \n",
       "11568  12911  863042798575951872   \n",
       "11569  12912  864681041541386240   \n",
       "\n",
       "                                                    text sentiment  \n",
       "0      Que coisa linda! O Programa #encontro estava m...         1  \n",
       "1      Por mais #Encontro com as Irmãs Galvão, adorei...         1  \n",
       "2      Mr. CATRA @OficialMrCatra lançando sua nova mú...         1  \n",
       "3      quem viu aquela lutadora modela barbuda tatuad...         0  \n",
       "4      Tô passada com esse cara.... quanta merda pode...        -1  \n",
       "...                                                  ...       ...  \n",
       "11565  eu ja to aqui pronto pro #MasterChefBR mas ain...        -1  \n",
       "11566  MALUCO! Uma coisa que eu não tenho coragem é e...        -1  \n",
       "11567    #MaisVoce @ANAMARIABRAGA  está linda @RedeGlobo         1  \n",
       "11568         Que orgulho de ti, @sportrecife! #Encontro         1  \n",
       "11569   Gente olha o bíceps desse padre #ConversaComBial         1  \n",
       "\n",
       "[11570 rows x 4 columns]"
      ]
     },
     "execution_count": 47,
     "metadata": {},
     "output_type": "execute_result"
    }
   ],
   "source": [
    "df_tweet= pd.read_csv('export_TweetSentBR.csv')\n",
    "df_tweet"
   ]
  },
  {
   "cell_type": "code",
   "execution_count": 48,
   "metadata": {},
   "outputs": [],
   "source": [
    "df_remove = df_tweet[df_tweet['sentiment'] == '-']\n",
    "df_tweet = df_tweet.drop(df_remove.index)\n",
    "\n",
    "df_tweet['text'] = df_tweet['text'].apply(remove_user)\n",
    "df_tweet['text'] = df_tweet['text'].apply(Tokenize)"
   ]
  },
  {
   "cell_type": "code",
   "execution_count": 49,
   "metadata": {},
   "outputs": [],
   "source": [
    "df_tweet['sentiment'] = df_tweet['sentiment'].apply(lambda x: int(x))"
   ]
  },
  {
   "cell_type": "code",
   "execution_count": 50,
   "metadata": {},
   "outputs": [],
   "source": [
    "text_Tweetsent = df_tweet['text']\n",
    "polarity = np.asarray(df_tweet['sentiment'])"
   ]
  },
  {
   "cell_type": "code",
   "execution_count": 51,
   "metadata": {},
   "outputs": [
    {
     "data": {
      "text/plain": [
       "(11533, 25852)"
      ]
     },
     "execution_count": 51,
     "metadata": {},
     "output_type": "execute_result"
    }
   ],
   "source": [
    "X_text = count_vect.transform(text_Tweetsent)\n",
    "\n",
    "X_text_transform = tfidf_transformer.transform(X_text) # Aplicando o TF-IDF\n",
    "X_text_transform.shape"
   ]
  },
  {
   "cell_type": "code",
   "execution_count": 52,
   "metadata": {},
   "outputs": [],
   "source": [
    "X_train1, X_test_TWEET, Y_train1, Y_test_TWEET = train_test_split(X_text_transform, polarity, test_size=0.3)"
   ]
  },
  {
   "cell_type": "code",
   "execution_count": 53,
   "metadata": {},
   "outputs": [],
   "source": [
    "X_train12, X_test_TWEET1, Y_train12, Y_test_TWEET1 = train_test_split(df_tweet['text'], df_tweet['sentiment'] , test_size=0.3)"
   ]
  },
  {
   "cell_type": "markdown",
   "metadata": {},
   "source": [
    "## TASH"
   ]
  },
  {
   "cell_type": "code",
   "execution_count": 54,
   "metadata": {},
   "outputs": [],
   "source": [
    "df = pd.read_csv(\"tash-pt.csv\")\n",
    "df = df.dropna()\n",
    "df = df.drop(columns=['id_twitter'])\n"
   ]
  },
  {
   "cell_type": "code",
   "execution_count": 55,
   "metadata": {},
   "outputs": [],
   "source": [
    "df['text'] = df['text'].apply(remove_user)\n",
    "df['text'] = df['text'].apply(Tokenize)"
   ]
  },
  {
   "cell_type": "code",
   "execution_count": 56,
   "metadata": {},
   "outputs": [
    {
     "data": {
      "text/plain": [
       "(2787, 25852)"
      ]
     },
     "execution_count": 56,
     "metadata": {},
     "output_type": "execute_result"
    }
   ],
   "source": [
    "text_TASH = df['text']\n",
    "sentiment = np.asarray(df['sentiment'])\n",
    "\n",
    "X_text_TASH = count_vect.transform(text_TASH)\n",
    "X_text_TASH_ = tfidf_transformer.transform(X_text_TASH) # Aplicando o TF-IDF\n",
    "X_text_TASH_.shape"
   ]
  },
  {
   "cell_type": "code",
   "execution_count": 57,
   "metadata": {},
   "outputs": [],
   "source": [
    "X_train2, X_test_TASH, Y_train2, Y_test_TASH = train_test_split(X_text_TASH_, sentiment, test_size=0.3)"
   ]
  },
  {
   "cell_type": "code",
   "execution_count": 58,
   "metadata": {},
   "outputs": [],
   "source": [
    "X_train21, X_test_TASH21, Y_train21, Y_test_TASH21 = train_test_split(df['text'], np.asarray(df['sentiment']), test_size=0.3)"
   ]
  },
  {
   "cell_type": "markdown",
   "metadata": {},
   "source": [
    "## KANSOAN"
   ]
  },
  {
   "cell_type": "code",
   "execution_count": 59,
   "metadata": {},
   "outputs": [],
   "source": [
    "df = pd.read_csv(\"data.txt\", sep=',', header=None, names=['text','sentiment'])\n",
    "\n",
    "df_remove = df[df['sentiment'] == '#Inveja'].index\n",
    "df = df.drop(df_remove)\n",
    "\n",
    "df_remove = df[df['sentiment'] == '#Raiva'].index\n",
    "df = df.drop(df_remove)\n",
    "\n",
    "df_remove = df[df['sentiment'] == '#Ironia'].index\n",
    "df = df.drop(df_remove)\n",
    "\n",
    "\n",
    "def binario(termo):\n",
    "    if termo == '#Feliz' or termo == '#Amor':\n",
    "        return 1\n",
    "    elif termo == '#Triste' or termo == '#Chateado':\n",
    "        return 0       \n",
    "    \n",
    "df['sentiment'] = df['sentiment'].apply(binario)"
   ]
  },
  {
   "cell_type": "code",
   "execution_count": 60,
   "metadata": {},
   "outputs": [],
   "source": [
    "df['text'] = df['text'].apply(remove_user)\n",
    "df['text'] = df['text'].apply(Tokenize)"
   ]
  },
  {
   "cell_type": "code",
   "execution_count": 61,
   "metadata": {},
   "outputs": [
    {
     "data": {
      "text/plain": [
       "(9224, 25852)"
      ]
     },
     "execution_count": 61,
     "metadata": {},
     "output_type": "execute_result"
    }
   ],
   "source": [
    "text_KANSOAN = df['text']\n",
    "sentiment = np.asarray(df['sentiment'])\n",
    "\n",
    "X_text_KANSOAN = count_vect.transform(text_KANSOAN)\n",
    "X_text_KANSOAN_ = tfidf_transformer.transform(X_text_KANSOAN) # Aplicando o TF-IDF\n",
    "X_text_KANSOAN_.shape"
   ]
  },
  {
   "cell_type": "code",
   "execution_count": 62,
   "metadata": {},
   "outputs": [],
   "source": [
    "X_train3, X_test_KANSOAN, Y_train3, Y_test_KANSOAN = train_test_split(X_text_KANSOAN_, sentiment, test_size=0.3)"
   ]
  },
  {
   "cell_type": "code",
   "execution_count": 63,
   "metadata": {},
   "outputs": [],
   "source": [
    "X_train31, X_test_KANSOAN1, Y_train31, Y_test_KANSOAN1 = train_test_split(df['text'], np.asarray(df['sentiment']), test_size=0.3)"
   ]
  },
  {
   "cell_type": "markdown",
   "metadata": {},
   "source": [
    "## TEST"
   ]
  },
  {
   "cell_type": "code",
   "execution_count": 39,
   "metadata": {},
   "outputs": [
    {
     "data": {
      "text/plain": [
       "(12670, 2)"
      ]
     },
     "execution_count": 39,
     "metadata": {},
     "output_type": "execute_result"
    }
   ],
   "source": [
    "df = pd.read_excel('./rotulação/TweetsPolitical01 OK OK.xlsx')\n",
    "df2 = pd.read_excel('./rotulação/TweetsPolitical02 OK OK.xlsx')\n",
    "df3 = pd.read_excel('./rotulação/TweetsPolitical03 OK OK.xlsx')\n",
    "df4 = pd.read_excel('./rotulação/TweetsPolitical04 OK OK.xlsx')\n",
    "df5 = pd.read_excel('./rotulação/TweetsPolitical05 OK OK.xlsx')\n",
    "df6 = pd.read_excel('./rotulação/TweetsPolitical06 OK OK.xlsx')\n",
    "df7 = pd.read_excel('./rotulação/TweetsPolitical07 OK OK.xlsx')\n",
    "df8 = pd.read_excel('./rotulação/TweetsPolitical08 OK OK.xlsx')\n",
    "df9 = pd.read_excel('./rotulação/TweetsPolitical09 OK OK.xlsx')\n",
    "df10 = pd.read_excel('./rotulação/TweetsPolitical10 OK OK.xlsx')\n",
    "df11 = pd.read_excel('./rotulação/TweetsPolitical11 OK OK.xlsx')\n",
    "df12 = pd.read_excel('./rotulação/TweetsPolitical12 OK OK.xlsx')\n",
    "df13 = pd.read_excel('./rotulação/TweetsPolitical13 OK OK.xlsx')\n",
    "df14 = pd.read_excel('./rotulação/TweetsPolitical14 OK OK.xlsx')\n",
    "df15 = pd.read_excel('./rotulação/TweetsPolitical15 OK OK.xlsx')\n",
    "\n",
    "lista = [df,df2,df3,df4,df5,df6,df7,df8,df9,df10,df11,df12,df13,df14,df15]\n",
    "\n",
    "df_all = pd.concat(lista)\n",
    "df_all.shape"
   ]
  },
  {
   "cell_type": "code",
   "execution_count": 40,
   "metadata": {},
   "outputs": [],
   "source": [
    "df_all = df_all.dropna()"
   ]
  },
  {
   "cell_type": "code",
   "execution_count": 41,
   "metadata": {},
   "outputs": [
    {
     "data": {
      "text/plain": [
       "array([ 0.,  1., -1.])"
      ]
     },
     "execution_count": 41,
     "metadata": {},
     "output_type": "execute_result"
    }
   ],
   "source": [
    "df_all.drop(df_all[df_all['Polaridade'] == 11].index, inplace=True)\n",
    "df_all.drop(df_all[df_all['Polaridade'] == -2].index, inplace=True)\n",
    "df_all.drop(df_all[df_all['Polaridade'] == 10].index, inplace=True)\n",
    "\n",
    "df_all['Polaridade'].unique()"
   ]
  },
  {
   "cell_type": "code",
   "execution_count": 42,
   "metadata": {},
   "outputs": [
    {
     "data": {
      "text/html": [
       "<div>\n",
       "<style scoped>\n",
       "    .dataframe tbody tr th:only-of-type {\n",
       "        vertical-align: middle;\n",
       "    }\n",
       "\n",
       "    .dataframe tbody tr th {\n",
       "        vertical-align: top;\n",
       "    }\n",
       "\n",
       "    .dataframe thead th {\n",
       "        text-align: right;\n",
       "    }\n",
       "</style>\n",
       "<table border=\"1\" class=\"dataframe\">\n",
       "  <thead>\n",
       "    <tr style=\"text-align: right;\">\n",
       "      <th></th>\n",
       "      <th>Tweet</th>\n",
       "      <th>Polaridade</th>\n",
       "    </tr>\n",
       "  </thead>\n",
       "  <tbody>\n",
       "    <tr>\n",
       "      <th>0</th>\n",
       "      <td>- #CaoNossoDeCadaDia #Novo - Vanessa Mandotti ...</td>\n",
       "      <td>0.0</td>\n",
       "    </tr>\n",
       "    <tr>\n",
       "      <th>1</th>\n",
       "      <td>- Bola pra frente que amanhã é outro dia, outr...</td>\n",
       "      <td>1.0</td>\n",
       "    </tr>\n",
       "    <tr>\n",
       "      <th>2</th>\n",
       "      <td>- Cara de mal? Acho que não... Apenas um corte...</td>\n",
       "      <td>1.0</td>\n",
       "    </tr>\n",
       "    <tr>\n",
       "      <th>3</th>\n",
       "      <td>\" #PCdoB O PARTIDO QUE FAZ A DIFERENÇA: LEAL E...</td>\n",
       "      <td>1.0</td>\n",
       "    </tr>\n",
       "    <tr>\n",
       "      <th>4</th>\n",
       "      <td>\"@camaradamae: #PCdoB o Partido da coragem !  ...</td>\n",
       "      <td>1.0</td>\n",
       "    </tr>\n",
       "  </tbody>\n",
       "</table>\n",
       "</div>"
      ],
      "text/plain": [
       "                                               Tweet  Polaridade\n",
       "0  - #CaoNossoDeCadaDia #Novo - Vanessa Mandotti ...         0.0\n",
       "1  - Bola pra frente que amanhã é outro dia, outr...         1.0\n",
       "2  - Cara de mal? Acho que não... Apenas um corte...         1.0\n",
       "3  \" #PCdoB O PARTIDO QUE FAZ A DIFERENÇA: LEAL E...         1.0\n",
       "4  \"@camaradamae: #PCdoB o Partido da coragem !  ...         1.0"
      ]
     },
     "execution_count": 42,
     "metadata": {},
     "output_type": "execute_result"
    }
   ],
   "source": [
    "df_all.head()"
   ]
  },
  {
   "cell_type": "code",
   "execution_count": 43,
   "metadata": {},
   "outputs": [],
   "source": [
    "df_all['Tweet'] = df_all['Tweet'].apply(remove_user)\n",
    "df_all['Tweet'] = df_all['Tweet'].apply(Tokenize)\n",
    "polarity = np.asarray(df_all['Polaridade'])\n",
    "Tweet = df_all['Tweet']\n"
   ]
  },
  {
   "cell_type": "code",
   "execution_count": 44,
   "metadata": {},
   "outputs": [
    {
     "data": {
      "text/plain": [
       "(12626, 25852)"
      ]
     },
     "execution_count": 44,
     "metadata": {},
     "output_type": "execute_result"
    }
   ],
   "source": [
    "count_vect = CountVectorizer()\n",
    "\n",
    "Tweet = count_vect.fit_transform(Tweet)\n",
    "\n",
    "tfidf_transformer = TfidfTransformer()\n",
    "X_train_transform = tfidf_transformer.fit_transform(Tweet) # Aplicando o TF-IDF\n",
    "X_train_transform.shape"
   ]
  },
  {
   "cell_type": "code",
   "execution_count": 45,
   "metadata": {},
   "outputs": [],
   "source": [
    "X_train, X_test, Y_train, Y_test = train_test_split(X_train_transform, polarity, test_size=0.3)\n",
    "\n"
   ]
  },
  {
   "cell_type": "code",
   "execution_count": 46,
   "metadata": {},
   "outputs": [],
   "source": [
    "X_train_text, X_test_text, Y_train_text, Y_test_text = train_test_split(df_all['Tweet'] , df_all['Polaridade'], test_size=0.3)\n"
   ]
  },
  {
   "cell_type": "markdown",
   "metadata": {},
   "source": [
    "## NB - TRAIN -> UNILEX - TEST -> TWEETSENT"
   ]
  },
  {
   "cell_type": "code",
   "execution_count": 26,
   "metadata": {},
   "outputs": [
    {
     "name": "stdout",
     "output_type": "stream",
     "text": [
      "              precision    recall  f1-score   support\n",
      "\n",
      "          -1       0.45      0.46      0.46      1037\n",
      "           0       0.34      0.39      0.37       875\n",
      "           1       0.59      0.53      0.56      1548\n",
      "\n",
      "    accuracy                           0.48      3460\n",
      "   macro avg       0.46      0.46      0.46      3460\n",
      "weighted avg       0.49      0.48      0.48      3460\n",
      "\n"
     ]
    }
   ],
   "source": [
    "clf = MultinomialNB()\n",
    "clf.fit(X_train, Y_train)\n",
    "y_pred = clf.predict(X_test_TWEET)\n",
    "\n",
    "print(classification_report(Y_test_TWEET,y_pred))"
   ]
  },
  {
   "cell_type": "markdown",
   "metadata": {},
   "source": [
    "## NB - TRAIN -> UNILEX - TEST -> TASH"
   ]
  },
  {
   "cell_type": "code",
   "execution_count": 27,
   "metadata": {},
   "outputs": [
    {
     "name": "stdout",
     "output_type": "stream",
     "text": [
      "              precision    recall  f1-score   support\n",
      "\n",
      "          -1       0.39      0.60      0.47       252\n",
      "           0       0.47      0.27      0.34       301\n",
      "           1       0.48      0.48      0.48       284\n",
      "\n",
      "    accuracy                           0.44       837\n",
      "   macro avg       0.45      0.45      0.43       837\n",
      "weighted avg       0.45      0.44      0.43       837\n",
      "\n"
     ]
    }
   ],
   "source": [
    "clf = MultinomialNB()\n",
    "clf.fit(X_train, Y_train)\n",
    "y_pred = clf.predict(X_test_TASH)\n",
    "\n",
    "print(classification_report(Y_test_TASH,y_pred))"
   ]
  },
  {
   "cell_type": "markdown",
   "metadata": {},
   "source": [
    "## NB - TRAIN -> UNILEX - TEST -> KANSOAN"
   ]
  },
  {
   "cell_type": "code",
   "execution_count": 28,
   "metadata": {},
   "outputs": [],
   "source": [
    "def func(num):\n",
    "    if num == 0:\n",
    "        return -1\n",
    "    else:\n",
    "        return 1\n",
    "\n",
    "sentiment = df['sentiment'].apply(func)\n",
    "X_train3, X_test_KANSOAN, Y_train3, Y_test_KANSOAN = train_test_split(X_text_KANSOAN_, sentiment, test_size=0.3)"
   ]
  },
  {
   "cell_type": "code",
   "execution_count": 29,
   "metadata": {},
   "outputs": [
    {
     "name": "stdout",
     "output_type": "stream",
     "text": [
      "              precision    recall  f1-score   support\n",
      "\n",
      "        -1.0       0.94      0.75      0.84      1378\n",
      "         0.0       0.00      1.00      0.00         0\n",
      "         1.0       0.87      0.89      0.88      1390\n",
      "\n",
      "    accuracy                           0.82      2768\n",
      "   macro avg       0.60      0.88      0.57      2768\n",
      "weighted avg       0.90      0.82      0.86      2768\n",
      "\n"
     ]
    }
   ],
   "source": [
    "clf = MultinomialNB()\n",
    "clf.fit(X_train, Y_train)\n",
    "y_pred = clf.predict(X_test_KANSOAN)\n",
    "\n",
    "print(classification_report(Y_test_KANSOAN,y_pred, zero_division=True))"
   ]
  },
  {
   "cell_type": "markdown",
   "metadata": {},
   "source": [
    "## SVM - TRAIN->UNILEX - TEST->TWEETSENT"
   ]
  },
  {
   "cell_type": "code",
   "execution_count": 30,
   "metadata": {},
   "outputs": [
    {
     "name": "stdout",
     "output_type": "stream",
     "text": [
      "              precision    recall  f1-score   support\n",
      "\n",
      "          -1       0.50      0.28      0.36      1037\n",
      "           0       0.32      0.49      0.38       875\n",
      "           1       0.56      0.56      0.56      1548\n",
      "\n",
      "    accuracy                           0.46      3460\n",
      "   macro avg       0.46      0.44      0.43      3460\n",
      "weighted avg       0.48      0.46      0.45      3460\n",
      "\n"
     ]
    }
   ],
   "source": [
    "clf = SVC().fit(X_train, Y_train) \n",
    "y_pred = clf.predict(X_test_TWEET)\n",
    "\n",
    "print(classification_report(Y_test_TWEET,y_pred))"
   ]
  },
  {
   "cell_type": "markdown",
   "metadata": {},
   "source": [
    "## SVM T U T TASH"
   ]
  },
  {
   "cell_type": "code",
   "execution_count": 31,
   "metadata": {},
   "outputs": [
    {
     "name": "stdout",
     "output_type": "stream",
     "text": [
      "              precision    recall  f1-score   support\n",
      "\n",
      "          -1       0.42      0.38      0.40       252\n",
      "           0       0.45      0.36      0.40       301\n",
      "           1       0.42      0.54      0.47       284\n",
      "\n",
      "    accuracy                           0.43       837\n",
      "   macro avg       0.43      0.43      0.43       837\n",
      "weighted avg       0.43      0.43      0.43       837\n",
      "\n"
     ]
    }
   ],
   "source": [
    "clf = SVC().fit(X_train, Y_train) \n",
    "y_pred = clf.predict(X_test_TASH)\n",
    "\n",
    "print(classification_report(Y_test_TASH,y_pred))"
   ]
  },
  {
   "cell_type": "markdown",
   "metadata": {},
   "source": [
    "## SVM T U T KANSOAN"
   ]
  },
  {
   "cell_type": "code",
   "execution_count": 32,
   "metadata": {},
   "outputs": [
    {
     "name": "stdout",
     "output_type": "stream",
     "text": [
      "              precision    recall  f1-score   support\n",
      "\n",
      "        -1.0       0.96      0.57      0.72      1378\n",
      "         0.0       0.00      1.00      0.00         0\n",
      "         1.0       0.82      0.91      0.86      1390\n",
      "\n",
      "    accuracy                           0.74      2768\n",
      "   macro avg       0.59      0.83      0.53      2768\n",
      "weighted avg       0.89      0.74      0.79      2768\n",
      "\n"
     ]
    }
   ],
   "source": [
    "clf = SVC().fit(X_train, Y_train) \n",
    "y_pred = clf.predict(X_test_KANSOAN)\n",
    "\n",
    "print(classification_report(Y_test_KANSOAN,y_pred, zero_division=True))"
   ]
  },
  {
   "cell_type": "markdown",
   "metadata": {},
   "source": [
    "## RL T U T TWEETSENT"
   ]
  },
  {
   "cell_type": "code",
   "execution_count": 33,
   "metadata": {},
   "outputs": [
    {
     "name": "stdout",
     "output_type": "stream",
     "text": [
      "              precision    recall  f1-score   support\n",
      "\n",
      "          -1       0.48      0.32      0.38      1037\n",
      "           0       0.34      0.41      0.37       875\n",
      "           1       0.56      0.61      0.58      1548\n",
      "\n",
      "    accuracy                           0.47      3460\n",
      "   macro avg       0.46      0.45      0.45      3460\n",
      "weighted avg       0.48      0.47      0.47      3460\n",
      "\n"
     ]
    }
   ],
   "source": [
    "clf = LogisticRegression(max_iter=1000).fit(X_train, Y_train) \n",
    "y_pred = clf.predict(X_test_TWEET)\n",
    "\n",
    "print(classification_report(Y_test_TWEET,y_pred))"
   ]
  },
  {
   "cell_type": "markdown",
   "metadata": {},
   "source": [
    "## RL T U T TASH"
   ]
  },
  {
   "cell_type": "code",
   "execution_count": 34,
   "metadata": {},
   "outputs": [
    {
     "name": "stdout",
     "output_type": "stream",
     "text": [
      "              precision    recall  f1-score   support\n",
      "\n",
      "          -1       0.42      0.43      0.42       252\n",
      "           0       0.45      0.29      0.35       301\n",
      "           1       0.42      0.56      0.48       284\n",
      "\n",
      "    accuracy                           0.42       837\n",
      "   macro avg       0.43      0.43      0.42       837\n",
      "weighted avg       0.43      0.42      0.42       837\n",
      "\n"
     ]
    }
   ],
   "source": [
    "clf = LogisticRegression(max_iter=1000).fit(X_train, Y_train) \n",
    "y_pred = clf.predict(X_test_TASH)\n",
    "\n",
    "print(classification_report(Y_test_TASH,y_pred))"
   ]
  },
  {
   "cell_type": "markdown",
   "metadata": {},
   "source": [
    "## RL T U T KANSOAN"
   ]
  },
  {
   "cell_type": "code",
   "execution_count": 35,
   "metadata": {},
   "outputs": [
    {
     "name": "stdout",
     "output_type": "stream",
     "text": [
      "              precision    recall  f1-score   support\n",
      "\n",
      "        -1.0       0.97      0.64      0.77      1378\n",
      "         0.0       0.00      1.00      0.00         0\n",
      "         1.0       0.82      0.93      0.87      1390\n",
      "\n",
      "    accuracy                           0.79      2768\n",
      "   macro avg       0.60      0.86      0.55      2768\n",
      "weighted avg       0.89      0.79      0.82      2768\n",
      "\n"
     ]
    }
   ],
   "source": [
    "clf = LogisticRegression(max_iter=1000).fit(X_train, Y_train) \n",
    "y_pred = clf.predict(X_test_KANSOAN)\n",
    "\n",
    "print(classification_report(Y_test_KANSOAN,y_pred, zero_division=True))"
   ]
  },
  {
   "cell_type": "markdown",
   "metadata": {},
   "source": [
    "## TOTALMENT.C T U T TWEETSENT"
   ]
  },
  {
   "cell_type": "code",
   "execution_count": 36,
   "metadata": {},
   "outputs": [
    {
     "name": "stdout",
     "output_type": "stream",
     "text": [
      "Epoch 1/10\n",
      "277/277 [==============================] - 3s 11ms/step - loss: 1.0206 - accuracy: 0.4958 - val_loss: 1.0507 - val_accuracy: 0.4587\n",
      "Epoch 2/10\n",
      "277/277 [==============================] - 2s 8ms/step - loss: 0.6501 - accuracy: 0.7522 - val_loss: 1.1359 - val_accuracy: 0.4965\n",
      "Epoch 3/10\n",
      "277/277 [==============================] - 2s 8ms/step - loss: 0.3104 - accuracy: 0.9016 - val_loss: 1.4872 - val_accuracy: 0.4922\n",
      "Epoch 4/10\n",
      "277/277 [==============================] - 2s 8ms/step - loss: 0.1604 - accuracy: 0.9536 - val_loss: 1.8188 - val_accuracy: 0.4905\n",
      "Epoch 5/10\n",
      "277/277 [==============================] - 2s 8ms/step - loss: 0.1011 - accuracy: 0.9737 - val_loss: 2.1088 - val_accuracy: 0.4858\n",
      "Epoch 6/10\n",
      "277/277 [==============================] - 2s 8ms/step - loss: 0.0719 - accuracy: 0.9809 - val_loss: 2.3175 - val_accuracy: 0.4818\n",
      "Epoch 7/10\n",
      "277/277 [==============================] - 2s 8ms/step - loss: 0.0592 - accuracy: 0.9850 - val_loss: 2.4075 - val_accuracy: 0.4855\n",
      "Epoch 8/10\n",
      "277/277 [==============================] - 2s 8ms/step - loss: 0.0483 - accuracy: 0.9876 - val_loss: 2.6196 - val_accuracy: 0.4827\n",
      "Epoch 9/10\n",
      "277/277 [==============================] - 2s 8ms/step - loss: 0.0446 - accuracy: 0.9891 - val_loss: 2.7705 - val_accuracy: 0.4890\n",
      "Epoch 10/10\n",
      "277/277 [==============================] - 2s 8ms/step - loss: 0.0417 - accuracy: 0.9889 - val_loss: 2.8336 - val_accuracy: 0.4827\n"
     ]
    }
   ],
   "source": [
    "model = tf.keras.Sequential([\n",
    "    tf.keras.layers.Dense(50, activation='relu'),\n",
    "    tf.keras.layers.Dropout(0.3),\n",
    "    tf.keras.layers.Dense(25, activation='relu'),\n",
    "    tf.keras.layers.Dropout(0.3),\n",
    "    tf.keras.layers.Dense(10, activation='tanh'),\n",
    "    tf.keras.layers.Dropout(0.2),\n",
    "    tf.keras.layers.Dense(3 , activation='softmax')\n",
    "])\n",
    "\n",
    "model.compile(\n",
    "    optimizer='adam',\n",
    "    loss=tf.keras.losses.categorical_crossentropy,\n",
    "    metrics=['accuracy']\n",
    ")\n",
    "\n",
    "one = OneHotEncoder(sparse=False)\n",
    "\n",
    "y_one = one.fit_transform(Y_train.reshape(-1,1))\n",
    "y_one_test = one.transform(Y_test_TWEET.reshape(-1,1))\n",
    "\n",
    "fit = model.fit(X_train.todense(), y_one, epochs=10, validation_data=(X_test_TWEET.todense(), y_one_test))"
   ]
  },
  {
   "cell_type": "code",
   "execution_count": 37,
   "metadata": {},
   "outputs": [
    {
     "name": "stdout",
     "output_type": "stream",
     "text": [
      "              precision    recall  f1-score   support\n",
      "\n",
      "           0       0.48      0.37      0.42      1037\n",
      "           1       0.35      0.37      0.36       875\n",
      "           2       0.55      0.62      0.59      1548\n",
      "\n",
      "    accuracy                           0.48      3460\n",
      "   macro avg       0.46      0.45      0.46      3460\n",
      "weighted avg       0.48      0.48      0.48      3460\n",
      "\n"
     ]
    }
   ],
   "source": [
    "predicted = model.predict(X_test_TWEET.todense())\n",
    "\n",
    "print(classification_report(np.argmax(y_one_test, axis=1), np.argmax(predicted, axis=1)))"
   ]
  },
  {
   "cell_type": "markdown",
   "metadata": {},
   "source": [
    "## KANSOAN"
   ]
  },
  {
   "cell_type": "code",
   "execution_count": 66,
   "metadata": {},
   "outputs": [
    {
     "name": "stdout",
     "output_type": "stream",
     "text": [
      "              precision    recall  f1-score   support\n",
      "\n",
      "           0       0.94      0.72      0.81      1345\n",
      "           1       0.38      0.05      0.09      1423\n",
      "           2       0.00      0.00      0.00         0\n",
      "\n",
      "    accuracy                           0.38      2768\n",
      "   macro avg       0.44      0.26      0.30      2768\n",
      "weighted avg       0.65      0.38      0.44      2768\n",
      "\n"
     ]
    },
    {
     "name": "stderr",
     "output_type": "stream",
     "text": [
      "c:\\users\\ddayv\\appdata\\local\\programs\\python\\python37\\lib\\site-packages\\sklearn\\metrics\\_classification.py:1221: UndefinedMetricWarning: Recall and F-score are ill-defined and being set to 0.0 in labels with no true samples. Use `zero_division` parameter to control this behavior.\n",
      "  _warn_prf(average, modifier, msg_start, len(result))\n"
     ]
    }
   ],
   "source": [
    "predicted = model.predict(X_test_KANSOAN.todense())\n",
    "\n",
    "print(classification_report(np.argmax(one.fit_transform(np.asarray(Y_test_KANSOAN).reshape(-1,1)), axis=1), np.argmax(predicted, axis=1)))"
   ]
  },
  {
   "cell_type": "markdown",
   "metadata": {},
   "source": [
    "## TASH"
   ]
  },
  {
   "cell_type": "code",
   "execution_count": 67,
   "metadata": {},
   "outputs": [
    {
     "name": "stdout",
     "output_type": "stream",
     "text": [
      "              precision    recall  f1-score   support\n",
      "\n",
      "           0       0.43      0.49      0.46       264\n",
      "           1       0.42      0.22      0.28       316\n",
      "           2       0.39      0.56      0.46       257\n",
      "\n",
      "    accuracy                           0.41       837\n",
      "   macro avg       0.41      0.42      0.40       837\n",
      "weighted avg       0.41      0.41      0.39       837\n",
      "\n"
     ]
    }
   ],
   "source": [
    "predicted = model.predict(X_test_TASH.todense())\n",
    "\n",
    "print(classification_report(np.argmax(one.fit_transform(np.asarray(Y_test_TASH).reshape(-1,1)), axis=1), np.argmax(predicted, axis=1)))"
   ]
  },
  {
   "cell_type": "markdown",
   "metadata": {},
   "source": [
    "## LSTM T U T TWEETSENT"
   ]
  },
  {
   "cell_type": "code",
   "execution_count": 68,
   "metadata": {},
   "outputs": [
    {
     "data": {
      "text/plain": [
       "15000"
      ]
     },
     "execution_count": 68,
     "metadata": {},
     "output_type": "execute_result"
    }
   ],
   "source": [
    "vectorize_layer = TextVectorization(\n",
    " max_tokens=15000,\n",
    " output_mode='int',\n",
    " output_sequence_length=len(max(df_all['Tweet'])))\n",
    "\n",
    "vocab = set_array(df_all['Tweet'])\n",
    "\n",
    "vectorize_layer.adapt(np.unique(vocab))\n",
    "len(vectorize_layer.get_vocabulary())\n"
   ]
  },
  {
   "cell_type": "code",
   "execution_count": 69,
   "metadata": {},
   "outputs": [
    {
     "name": "stdout",
     "output_type": "stream",
     "text": [
      "Epoch 1/10\n",
      "70/70 [==============================] - 8s 116ms/step - loss: 1.0802 - accuracy: 0.4446 - val_loss: 1.1141 - val_accuracy: 0.2928\n",
      "Epoch 2/10\n",
      "70/70 [==============================] - 7s 97ms/step - loss: 0.9473 - accuracy: 0.5552 - val_loss: 1.1253 - val_accuracy: 0.3286\n",
      "Epoch 3/10\n",
      "70/70 [==============================] - 6s 93ms/step - loss: 0.7745 - accuracy: 0.6677 - val_loss: 1.1886 - val_accuracy: 0.3893\n",
      "Epoch 4/10\n",
      "70/70 [==============================] - 7s 93ms/step - loss: 0.6176 - accuracy: 0.7673 - val_loss: 1.2055 - val_accuracy: 0.4306\n",
      "Epoch 5/10\n",
      "70/70 [==============================] - 6s 88ms/step - loss: 0.4882 - accuracy: 0.8324 - val_loss: 1.3371 - val_accuracy: 0.4324\n",
      "Epoch 6/10\n",
      "70/70 [==============================] - 6s 89ms/step - loss: 0.4034 - accuracy: 0.8685 - val_loss: 1.4222 - val_accuracy: 0.4208\n",
      "Epoch 7/10\n",
      "70/70 [==============================] - 6s 92ms/step - loss: 0.3466 - accuracy: 0.8887 - val_loss: 1.5620 - val_accuracy: 0.4150\n",
      "Epoch 8/10\n",
      "70/70 [==============================] - 8s 110ms/step - loss: 0.3013 - accuracy: 0.9041 - val_loss: 1.6258 - val_accuracy: 0.4142\n",
      "Epoch 9/10\n",
      "70/70 [==============================] - 9s 123ms/step - loss: 0.2714 - accuracy: 0.9104 - val_loss: 1.7292 - val_accuracy: 0.4179\n",
      "Epoch 10/10\n",
      "70/70 [==============================] - 8s 114ms/step - loss: 0.2493 - accuracy: 0.9196 - val_loss: 1.8033 - val_accuracy: 0.4217\n"
     ]
    }
   ],
   "source": [
    "model = tf.keras.Sequential([\n",
    "    vectorize_layer,\n",
    "    tf.keras.layers.Embedding(\n",
    "        input_dim=len(vectorize_layer.get_vocabulary()),\n",
    "        output_dim=64,mask_zero=True),\n",
    "    \n",
    "    tf.keras.layers.LSTM(50, activation='relu' ,return_sequences=True),\n",
    "    tf.keras.layers.Dropout(0.3),\n",
    "    \n",
    "    tf.keras.layers.LSTM(25 , activation='tanh', return_sequences=True),\n",
    "    tf.keras.layers.Dropout(0.3),\n",
    "    \n",
    "    tf.keras.layers.LSTM(10 , activation='tanh'),\n",
    "    tf.keras.layers.Dropout(0.2),\n",
    "    \n",
    "    tf.keras.layers.Dense(3, activation='softmax')\n",
    "])\n",
    "\n",
    "\n",
    "model.compile(\n",
    "    optimizer= tf.keras.optimizers.Adam(),\n",
    "    loss=tf.keras.losses.categorical_crossentropy,\n",
    "    metrics=['accuracy']\n",
    ")\n",
    "\n",
    "y_one = one.fit_transform(np.asarray(Y_train_text).reshape(-1,1))\n",
    "y_one_test = one.transform(np.asarray(Y_test_TWEET1).reshape(-1,1))\n",
    "\n",
    "fit = model.fit(np.asarray(pre_X(X_train_text)), y_one, epochs=10, batch_size=128 ,validation_data=(np.asarray(pre_X(X_test_TWEET1)), y_one_test))"
   ]
  },
  {
   "cell_type": "code",
   "execution_count": 70,
   "metadata": {},
   "outputs": [
    {
     "name": "stdout",
     "output_type": "stream",
     "text": [
      "              precision    recall  f1-score   support\n",
      "\n",
      "           0       0.40      0.30      0.34       980\n",
      "           1       0.32      0.44      0.37       882\n",
      "           2       0.52      0.49      0.50      1598\n",
      "\n",
      "    accuracy                           0.42      3460\n",
      "   macro avg       0.41      0.41      0.40      3460\n",
      "weighted avg       0.43      0.42      0.42      3460\n",
      "\n"
     ]
    }
   ],
   "source": [
    "predicted = model.predict(np.asarray(pre_X(X_test_TWEET1)))\n",
    "\n",
    "print(classification_report(np.argmax(y_one_test, axis=1), np.argmax(predicted, axis=1)))"
   ]
  },
  {
   "cell_type": "markdown",
   "metadata": {},
   "source": [
    "## KANSOAN"
   ]
  },
  {
   "cell_type": "code",
   "execution_count": 71,
   "metadata": {},
   "outputs": [
    {
     "name": "stdout",
     "output_type": "stream",
     "text": [
      "              precision    recall  f1-score   support\n",
      "\n",
      "           0       0.68      0.31      0.43      1338\n",
      "           1       0.49      0.26      0.34      1430\n",
      "           2       0.00      0.00      0.00         0\n",
      "\n",
      "    accuracy                           0.29      2768\n",
      "   macro avg       0.39      0.19      0.26      2768\n",
      "weighted avg       0.58      0.29      0.38      2768\n",
      "\n"
     ]
    },
    {
     "name": "stderr",
     "output_type": "stream",
     "text": [
      "c:\\users\\ddayv\\appdata\\local\\programs\\python\\python37\\lib\\site-packages\\sklearn\\metrics\\_classification.py:1221: UndefinedMetricWarning: Recall and F-score are ill-defined and being set to 0.0 in labels with no true samples. Use `zero_division` parameter to control this behavior.\n",
      "  _warn_prf(average, modifier, msg_start, len(result))\n"
     ]
    }
   ],
   "source": [
    "predicted = model.predict(np.asarray(pre_X(X_test_KANSOAN1)))\n",
    "\n",
    "print(classification_report(np.argmax(one.fit_transform(np.asarray(Y_test_KANSOAN1).reshape(-1,1)), axis=1), np.argmax(predicted, axis=1)))"
   ]
  },
  {
   "cell_type": "markdown",
   "metadata": {},
   "source": [
    "## TASH"
   ]
  },
  {
   "cell_type": "code",
   "execution_count": 72,
   "metadata": {},
   "outputs": [
    {
     "name": "stdout",
     "output_type": "stream",
     "text": [
      "              precision    recall  f1-score   support\n",
      "\n",
      "           0       0.36      0.39      0.38       251\n",
      "           1       0.37      0.22      0.27       317\n",
      "           2       0.32      0.45      0.37       269\n",
      "\n",
      "    accuracy                           0.34       837\n",
      "   macro avg       0.35      0.35      0.34       837\n",
      "weighted avg       0.35      0.34      0.34       837\n",
      "\n"
     ]
    }
   ],
   "source": [
    "predicted = model.predict(np.asarray(pre_X(X_test_TASH21)))\n",
    "\n",
    "print(classification_report(np.argmax(one.fit_transform(np.asarray(Y_test_TASH21).reshape(-1,1)), axis=1), np.argmax(predicted, axis=1)))"
   ]
  },
  {
   "cell_type": "markdown",
   "metadata": {},
   "source": [
    "## CONV1D T U T TWEET"
   ]
  },
  {
   "cell_type": "code",
   "execution_count": 73,
   "metadata": {},
   "outputs": [
    {
     "name": "stdout",
     "output_type": "stream",
     "text": [
      "Epoch 1/10\n",
      "70/70 [==============================] - 2s 24ms/step - loss: 1.0799 - accuracy: 0.4056 - val_loss: 1.1764 - val_accuracy: 0.2789\n",
      "Epoch 2/10\n",
      "70/70 [==============================] - 1s 20ms/step - loss: 0.9373 - accuracy: 0.5655 - val_loss: 1.1236 - val_accuracy: 0.3783\n",
      "Epoch 3/10\n",
      "70/70 [==============================] - 1s 20ms/step - loss: 0.6445 - accuracy: 0.7532 - val_loss: 1.1706 - val_accuracy: 0.4289\n",
      "Epoch 4/10\n",
      "70/70 [==============================] - 2s 22ms/step - loss: 0.3805 - accuracy: 0.8650 - val_loss: 1.3575 - val_accuracy: 0.4171\n",
      "Epoch 5/10\n",
      "70/70 [==============================] - 1s 20ms/step - loss: 0.2430 - accuracy: 0.9167 - val_loss: 1.5881 - val_accuracy: 0.4107\n",
      "Epoch 6/10\n",
      "70/70 [==============================] - 1s 20ms/step - loss: 0.1611 - accuracy: 0.9441 - val_loss: 1.7444 - val_accuracy: 0.4173\n",
      "Epoch 7/10\n",
      "70/70 [==============================] - 2s 24ms/step - loss: 0.1209 - accuracy: 0.9572 - val_loss: 1.8508 - val_accuracy: 0.4523\n",
      "Epoch 8/10\n",
      "70/70 [==============================] - 1s 20ms/step - loss: 0.0975 - accuracy: 0.9676 - val_loss: 2.0235 - val_accuracy: 0.4344\n",
      "Epoch 9/10\n",
      "70/70 [==============================] - 2s 22ms/step - loss: 0.0865 - accuracy: 0.9693 - val_loss: 2.0894 - val_accuracy: 0.4457\n",
      "Epoch 10/10\n",
      "70/70 [==============================] - 2s 22ms/step - loss: 0.0755 - accuracy: 0.9727 - val_loss: 2.2065 - val_accuracy: 0.4318\n"
     ]
    }
   ],
   "source": [
    "model = tf.keras.Sequential([\n",
    "    vectorize_layer,\n",
    "    tf.keras.layers.Embedding(\n",
    "        input_dim=len(vectorize_layer.get_vocabulary()),\n",
    "        output_dim=64,\n",
    "        mask_zero=True),\n",
    "    \n",
    "    tf.keras.layers.Conv1D(32,6, activation='relu'),\n",
    "    tf.keras.layers.MaxPooling1D(2),\n",
    "    tf.keras.layers.Flatten(),\n",
    "    \n",
    "    tf.keras.layers.Dense(16, activation='relu'),\n",
    "    tf.keras.layers.Dense(3, activation='softmax')   \n",
    "])\n",
    "\n",
    "model.compile(\n",
    "    optimizer= tf.keras.optimizers.Adam(),\n",
    "    loss=tf.keras.losses.categorical_crossentropy,\n",
    "    metrics=['accuracy']\n",
    ")\n",
    "\n",
    "y_one = one.fit_transform(np.asarray(Y_train_text).reshape(-1,1))\n",
    "y_one_test = one.transform(np.asarray(Y_test_TWEET1).reshape(-1,1))\n",
    "\n",
    "fit = model.fit(np.asarray(pre_X(X_train_text)), y_one, epochs=10, batch_size=128 ,validation_data=(np.asarray(pre_X(X_test_TWEET1)), y_one_test))"
   ]
  },
  {
   "cell_type": "code",
   "execution_count": 74,
   "metadata": {},
   "outputs": [
    {
     "name": "stdout",
     "output_type": "stream",
     "text": [
      "              precision    recall  f1-score   support\n",
      "\n",
      "           0       0.40      0.37      0.38       980\n",
      "           1       0.32      0.39      0.35       882\n",
      "           2       0.54      0.49      0.51      1598\n",
      "\n",
      "    accuracy                           0.43      3460\n",
      "   macro avg       0.42      0.42      0.42      3460\n",
      "weighted avg       0.44      0.43      0.44      3460\n",
      "\n"
     ]
    }
   ],
   "source": [
    "predicted = model.predict(np.asarray(pre_X(X_test_TWEET1)))\n",
    "\n",
    "print(classification_report(np.argmax(y_one_test, axis=1), np.argmax(predicted, axis=1)))"
   ]
  },
  {
   "cell_type": "markdown",
   "metadata": {},
   "source": [
    "## KANSOAN "
   ]
  },
  {
   "cell_type": "code",
   "execution_count": 75,
   "metadata": {},
   "outputs": [
    {
     "name": "stdout",
     "output_type": "stream",
     "text": [
      "              precision    recall  f1-score   support\n",
      "\n",
      "           0       0.71      0.60      0.65      1338\n",
      "           1       0.62      0.28      0.38      1430\n",
      "           2       0.00      0.00      0.00         0\n",
      "\n",
      "    accuracy                           0.43      2768\n",
      "   macro avg       0.44      0.29      0.34      2768\n",
      "weighted avg       0.66      0.43      0.51      2768\n",
      "\n"
     ]
    },
    {
     "name": "stderr",
     "output_type": "stream",
     "text": [
      "c:\\users\\ddayv\\appdata\\local\\programs\\python\\python37\\lib\\site-packages\\sklearn\\metrics\\_classification.py:1221: UndefinedMetricWarning: Recall and F-score are ill-defined and being set to 0.0 in labels with no true samples. Use `zero_division` parameter to control this behavior.\n",
      "  _warn_prf(average, modifier, msg_start, len(result))\n"
     ]
    }
   ],
   "source": [
    "predicted = model.predict(np.asarray(pre_X(X_test_KANSOAN1)))\n",
    "\n",
    "print(classification_report(np.argmax(one.fit_transform(np.asarray(Y_test_KANSOAN1).reshape(-1,1)), axis=1), np.argmax(predicted, axis=1)))"
   ]
  },
  {
   "cell_type": "markdown",
   "metadata": {},
   "source": [
    "## TASH"
   ]
  },
  {
   "cell_type": "code",
   "execution_count": 76,
   "metadata": {},
   "outputs": [
    {
     "name": "stdout",
     "output_type": "stream",
     "text": [
      "              precision    recall  f1-score   support\n",
      "\n",
      "           0       0.37      0.48      0.42       251\n",
      "           1       0.42      0.28      0.34       317\n",
      "           2       0.35      0.40      0.37       269\n",
      "\n",
      "    accuracy                           0.38       837\n",
      "   macro avg       0.38      0.39      0.38       837\n",
      "weighted avg       0.39      0.38      0.37       837\n",
      "\n"
     ]
    }
   ],
   "source": [
    "predicted = model.predict(np.asarray(pre_X(X_test_TASH21)))\n",
    "\n",
    "print(classification_report(np.argmax(one.fit_transform(np.asarray(Y_test_TASH21).reshape(-1,1)), axis=1), np.argmax(predicted, axis=1)))"
   ]
  },
  {
   "cell_type": "markdown",
   "metadata": {},
   "source": [
    "## BDR T U T TWEET"
   ]
  },
  {
   "cell_type": "code",
   "execution_count": 86,
   "metadata": {},
   "outputs": [
    {
     "name": "stdout",
     "output_type": "stream",
     "text": [
      "Epoch 1/10\n",
      "277/277 [==============================] - 6s 22ms/step - loss: 1.0932 - accuracy: 0.3712 - val_loss: 1.1212 - val_accuracy: 0.2526\n",
      "Epoch 2/10\n",
      "277/277 [==============================] - 4s 15ms/step - loss: 1.0442 - accuracy: 0.4893 - val_loss: 1.0969 - val_accuracy: 0.3075\n",
      "Epoch 3/10\n",
      "277/277 [==============================] - 4s 16ms/step - loss: 0.9407 - accuracy: 0.5516 - val_loss: 1.1093 - val_accuracy: 0.3171\n",
      "Epoch 4/10\n",
      "277/277 [==============================] - 5s 17ms/step - loss: 0.8595 - accuracy: 0.5898 - val_loss: 1.1147 - val_accuracy: 0.3168\n",
      "Epoch 5/10\n",
      "277/277 [==============================] - 4s 15ms/step - loss: 0.7848 - accuracy: 0.6215 - val_loss: 1.1393 - val_accuracy: 0.3217\n",
      "Epoch 6/10\n",
      "277/277 [==============================] - 4s 15ms/step - loss: 0.7145 - accuracy: 0.6520 - val_loss: 1.1702 - val_accuracy: 0.3671\n",
      "Epoch 7/10\n",
      "277/277 [==============================] - 4s 15ms/step - loss: 0.6435 - accuracy: 0.7090 - val_loss: 1.1979 - val_accuracy: 0.3861\n",
      "Epoch 8/10\n",
      "277/277 [==============================] - 4s 15ms/step - loss: 0.5870 - accuracy: 0.7591 - val_loss: 1.2309 - val_accuracy: 0.3977\n",
      "Epoch 9/10\n",
      "277/277 [==============================] - 4s 15ms/step - loss: 0.5370 - accuracy: 0.7908 - val_loss: 1.2945 - val_accuracy: 0.3948\n",
      "Epoch 10/10\n",
      "277/277 [==============================] - 4s 15ms/step - loss: 0.4977 - accuracy: 0.8179 - val_loss: 1.3100 - val_accuracy: 0.4142\n"
     ]
    }
   ],
   "source": [
    "model = tf.keras.Sequential([\n",
    "    vectorize_layer,\n",
    "    tf.keras.layers.Embedding(\n",
    "        input_dim=len(vectorize_layer.get_vocabulary()),\n",
    "        output_dim=1,\n",
    "        mask_zero=True),\n",
    "    tf.keras.layers.Bidirectional(tf.keras.layers.LSTM(1)),\n",
    "\n",
    "    tf.keras.layers.Dense(3, activation='softmax')\n",
    "])\n",
    "\n",
    "model.compile(\n",
    "    optimizer= tf.keras.optimizers.Adam(),\n",
    "    loss=tf.keras.losses.categorical_crossentropy,\n",
    "    metrics=['accuracy']\n",
    ")\n",
    "\n",
    "y_one = one.fit_transform(np.asarray(Y_train_text).reshape(-1,1))\n",
    "y_one_test = one.transform(np.asarray(Y_test_TWEET1).reshape(-1,1))\n",
    "\n",
    "fit = model.fit(np.asarray(pre_X(X_train_text)), y_one, epochs=10, batch_size=32 ,validation_data=(np.asarray(pre_X(X_test_TWEET1)), y_one_test))"
   ]
  },
  {
   "cell_type": "code",
   "execution_count": 87,
   "metadata": {},
   "outputs": [
    {
     "name": "stdout",
     "output_type": "stream",
     "text": [
      "              precision    recall  f1-score   support\n",
      "\n",
      "           0       0.40      0.33      0.36      1009\n",
      "           1       0.31      0.34      0.32       874\n",
      "           2       0.48      0.51      0.49      1577\n",
      "\n",
      "    accuracy                           0.41      3460\n",
      "   macro avg       0.40      0.39      0.39      3460\n",
      "weighted avg       0.41      0.41      0.41      3460\n",
      "\n"
     ]
    }
   ],
   "source": [
    "predicted = model.predict(np.asarray(pre_X(X_test_TWEET1)))\n",
    "\n",
    "print(classification_report(np.argmax(y_one_test, axis=1), np.argmax(predicted, axis=1)))"
   ]
  },
  {
   "cell_type": "markdown",
   "metadata": {},
   "source": [
    "## KANSOAN"
   ]
  },
  {
   "cell_type": "code",
   "execution_count": 77,
   "metadata": {},
   "outputs": [
    {
     "name": "stdout",
     "output_type": "stream",
     "text": [
      "              precision    recall  f1-score   support\n",
      "\n",
      "           0       0.71      0.60      0.65      1338\n",
      "           1       0.62      0.28      0.38      1430\n",
      "           2       0.00      0.00      0.00         0\n",
      "\n",
      "    accuracy                           0.43      2768\n",
      "   macro avg       0.44      0.29      0.34      2768\n",
      "weighted avg       0.66      0.43      0.51      2768\n",
      "\n"
     ]
    },
    {
     "name": "stderr",
     "output_type": "stream",
     "text": [
      "c:\\users\\ddayv\\appdata\\local\\programs\\python\\python37\\lib\\site-packages\\sklearn\\metrics\\_classification.py:1221: UndefinedMetricWarning: Recall and F-score are ill-defined and being set to 0.0 in labels with no true samples. Use `zero_division` parameter to control this behavior.\n",
      "  _warn_prf(average, modifier, msg_start, len(result))\n"
     ]
    }
   ],
   "source": [
    "predicted = model.predict(np.asarray(pre_X(X_test_KANSOAN1)))\n",
    "\n",
    "print(classification_report(np.argmax(one.fit_transform(np.asarray(Y_test_KANSOAN1).reshape(-1,1)), axis=1), np.argmax(predicted, axis=1)))"
   ]
  },
  {
   "cell_type": "markdown",
   "metadata": {},
   "source": [
    "## TASH"
   ]
  },
  {
   "cell_type": "code",
   "execution_count": 79,
   "metadata": {},
   "outputs": [
    {
     "name": "stdout",
     "output_type": "stream",
     "text": [
      "              precision    recall  f1-score   support\n",
      "\n",
      "           0       0.37      0.48      0.42       251\n",
      "           1       0.42      0.28      0.34       317\n",
      "           2       0.35      0.40      0.37       269\n",
      "\n",
      "    accuracy                           0.38       837\n",
      "   macro avg       0.38      0.39      0.38       837\n",
      "weighted avg       0.39      0.38      0.37       837\n",
      "\n"
     ]
    }
   ],
   "source": [
    "predicted = model.predict(np.asarray(pre_X(X_test_TASH21)))\n",
    "\n",
    "print(classification_report(np.argmax(one.fit_transform(np.asarray(Y_test_TASH21).reshape(-1,1)), axis=1), np.argmax(predicted, axis=1)))"
   ]
  },
  {
   "cell_type": "code",
   "execution_count": null,
   "metadata": {},
   "outputs": [],
   "source": []
  }
 ],
 "metadata": {
  "kernelspec": {
   "display_name": "Python 3",
   "language": "python",
   "name": "python3"
  },
  "language_info": {
   "codemirror_mode": {
    "name": "ipython",
    "version": 3
   },
   "file_extension": ".py",
   "mimetype": "text/x-python",
   "name": "python",
   "nbconvert_exporter": "python",
   "pygments_lexer": "ipython3",
   "version": "3.7.9"
  }
 },
 "nbformat": 4,
 "nbformat_minor": 4
}
